{
 "cells": [
  {
   "cell_type": "markdown",
   "id": "fca785d7",
   "metadata": {},
   "source": [
    "# Big Mart Sale Forecast"
   ]
  },
  {
   "cell_type": "markdown",
   "id": "2fd0b6c1",
   "metadata": {},
   "source": [
    "## Importing Necessary Modules/Libraries"
   ]
  },
  {
   "cell_type": "code",
   "execution_count": 1,
   "id": "7b7214da",
   "metadata": {},
   "outputs": [],
   "source": [
    "import numpy as np\n",
    "import pandas as pd\n",
    "import matplotlib.pyplot as plt\n",
    "import seaborn as sns\n",
    "\n",
    "from sklearn.preprocessing import LabelEncoder\n",
    "from sklearn.model_selection import train_test_split\n",
    "from sklearn.linear_model import LinearRegression, Ridge, Lasso \n",
    "from sklearn.ensemble import RandomForestRegressor, GradientBoostingRegressor, AdaBoostRegressor, ExtraTreesRegressor, BaggingRegressor\n",
    "from sklearn.neighbors import KNeighborsRegressor \n",
    "from sklearn.metrics import r2_score, mean_squared_error, mean_absolute_error\n",
    "from sklearn.svm import SVR\n",
    "from catboost import CatBoostRegressor\n",
    "from lightgbm import LGBMRegressor\n",
    "from xgboost import XGBRegressor\n",
    "from sklearn.model_selection import RandomizedSearchCV\n",
    "from sklearn.ensemble import VotingRegressor\n",
    "\n",
    "import joblib\n",
    "\n",
    "import warnings\n",
    "warnings.filterwarnings('ignore')"
   ]
  },
  {
   "cell_type": "markdown",
   "id": "a4528eb9",
   "metadata": {},
   "source": [
    "## Loading the Datasets"
   ]
  },
  {
   "cell_type": "code",
   "execution_count": 2,
   "id": "5adbb77e",
   "metadata": {},
   "outputs": [],
   "source": [
    "train = pd.read_csv('train.csv')"
   ]
  },
  {
   "cell_type": "code",
   "execution_count": 3,
   "id": "397aa965",
   "metadata": {},
   "outputs": [
    {
     "data": {
      "application/vnd.microsoft.datawrangler.viewer.v0+json": {
       "columns": [
        {
         "name": "index",
         "rawType": "int64",
         "type": "integer"
        },
        {
         "name": "Item_Identifier",
         "rawType": "object",
         "type": "string"
        },
        {
         "name": "Item_Weight",
         "rawType": "float64",
         "type": "float"
        },
        {
         "name": "Item_Fat_Content",
         "rawType": "object",
         "type": "string"
        },
        {
         "name": "Item_Visibility",
         "rawType": "float64",
         "type": "float"
        },
        {
         "name": "Item_Type",
         "rawType": "object",
         "type": "string"
        },
        {
         "name": "Item_MRP",
         "rawType": "float64",
         "type": "float"
        },
        {
         "name": "Outlet_Identifier",
         "rawType": "object",
         "type": "string"
        },
        {
         "name": "Outlet_Establishment_Year",
         "rawType": "int64",
         "type": "integer"
        },
        {
         "name": "Outlet_Size",
         "rawType": "object",
         "type": "unknown"
        },
        {
         "name": "Outlet_Location_Type",
         "rawType": "object",
         "type": "string"
        },
        {
         "name": "Outlet_Type",
         "rawType": "object",
         "type": "string"
        },
        {
         "name": "Item_Outlet_Sales",
         "rawType": "float64",
         "type": "float"
        }
       ],
       "ref": "ca9bd964-2bf9-4f7f-aea2-45c3a630efa0",
       "rows": [
        [
         "0",
         "FDA15",
         "9.3",
         "Low Fat",
         "0.016047301",
         "Dairy",
         "249.8092",
         "OUT049",
         "1999",
         "Medium",
         "Tier 1",
         "Supermarket Type1",
         "3735.138"
        ],
        [
         "1",
         "DRC01",
         "5.92",
         "Regular",
         "0.019278216",
         "Soft Drinks",
         "48.2692",
         "OUT018",
         "2009",
         "Medium",
         "Tier 3",
         "Supermarket Type2",
         "443.4228"
        ],
        [
         "2",
         "FDN15",
         "17.5",
         "Low Fat",
         "0.016760075",
         "Meat",
         "141.618",
         "OUT049",
         "1999",
         "Medium",
         "Tier 1",
         "Supermarket Type1",
         "2097.27"
        ],
        [
         "3",
         "FDX07",
         "19.2",
         "Regular",
         "0.0",
         "Fruits and Vegetables",
         "182.095",
         "OUT010",
         "1998",
         null,
         "Tier 3",
         "Grocery Store",
         "732.38"
        ],
        [
         "4",
         "NCD19",
         "8.93",
         "Low Fat",
         "0.0",
         "Household",
         "53.8614",
         "OUT013",
         "1987",
         "High",
         "Tier 3",
         "Supermarket Type1",
         "994.7052"
        ],
        [
         "5",
         "FDP36",
         "10.395",
         "Regular",
         "0.0",
         "Baking Goods",
         "51.4008",
         "OUT018",
         "2009",
         "Medium",
         "Tier 3",
         "Supermarket Type2",
         "556.6088"
        ],
        [
         "6",
         "FDO10",
         "13.65",
         "Regular",
         "0.0127410889999999",
         "Snack Foods",
         "57.6588",
         "OUT013",
         "1987",
         "High",
         "Tier 3",
         "Supermarket Type1",
         "343.5528"
        ],
        [
         "7",
         "FDP10",
         null,
         "Low Fat",
         "0.127469857",
         "Snack Foods",
         "107.7622",
         "OUT027",
         "1985",
         "Medium",
         "Tier 3",
         "Supermarket Type3",
         "4022.7636"
        ],
        [
         "8",
         "FDH17",
         "16.2",
         "Regular",
         "0.016687114",
         "Frozen Foods",
         "96.9726",
         "OUT045",
         "2002",
         null,
         "Tier 2",
         "Supermarket Type1",
         "1076.5986"
        ],
        [
         "9",
         "FDU28",
         "19.2",
         "Regular",
         "0.09444959",
         "Frozen Foods",
         "187.8214",
         "OUT017",
         "2007",
         null,
         "Tier 2",
         "Supermarket Type1",
         "4710.535"
        ],
        [
         "10",
         "FDY07",
         "11.8",
         "Low Fat",
         "0.0",
         "Fruits and Vegetables",
         "45.5402",
         "OUT049",
         "1999",
         "Medium",
         "Tier 1",
         "Supermarket Type1",
         "1516.0266"
        ],
        [
         "11",
         "FDA03",
         "18.5",
         "Regular",
         "0.045463773",
         "Dairy",
         "144.1102",
         "OUT046",
         "1997",
         "Small",
         "Tier 1",
         "Supermarket Type1",
         "2187.153"
        ],
        [
         "12",
         "FDX32",
         "15.1",
         "Regular",
         "0.1000135",
         "Fruits and Vegetables",
         "145.4786",
         "OUT049",
         "1999",
         "Medium",
         "Tier 1",
         "Supermarket Type1",
         "1589.2646"
        ],
        [
         "13",
         "FDS46",
         "17.6",
         "Regular",
         "0.047257328",
         "Snack Foods",
         "119.6782",
         "OUT046",
         "1997",
         "Small",
         "Tier 1",
         "Supermarket Type1",
         "2145.2076"
        ],
        [
         "14",
         "FDF32",
         "16.35",
         "Low Fat",
         "0.0680243",
         "Fruits and Vegetables",
         "196.4426",
         "OUT013",
         "1987",
         "High",
         "Tier 3",
         "Supermarket Type1",
         "1977.426"
        ],
        [
         "15",
         "FDP49",
         "9.0",
         "Regular",
         "0.0690889609999999",
         "Breakfast",
         "56.3614",
         "OUT046",
         "1997",
         "Small",
         "Tier 1",
         "Supermarket Type1",
         "1547.3192"
        ],
        [
         "16",
         "NCB42",
         "11.8",
         "Low Fat",
         "0.008596051",
         "Health and Hygiene",
         "115.3492",
         "OUT018",
         "2009",
         "Medium",
         "Tier 3",
         "Supermarket Type2",
         "1621.8888"
        ],
        [
         "17",
         "FDP49",
         "9.0",
         "Regular",
         "0.0691963759999999",
         "Breakfast",
         "54.3614",
         "OUT049",
         "1999",
         "Medium",
         "Tier 1",
         "Supermarket Type1",
         "718.3982"
        ],
        [
         "18",
         "DRI11",
         null,
         "Low Fat",
         "0.034237682",
         "Hard Drinks",
         "113.2834",
         "OUT027",
         "1985",
         "Medium",
         "Tier 3",
         "Supermarket Type3",
         "2303.668"
        ],
        [
         "19",
         "FDU02",
         "13.35",
         "Low Fat",
         "0.10249212",
         "Dairy",
         "230.5352",
         "OUT035",
         "2004",
         "Small",
         "Tier 2",
         "Supermarket Type1",
         "2748.4224"
        ],
        [
         "20",
         "FDN22",
         "18.85",
         "Regular",
         "0.138190277",
         "Snack Foods",
         "250.8724",
         "OUT013",
         "1987",
         "High",
         "Tier 3",
         "Supermarket Type1",
         "3775.086"
        ],
        [
         "21",
         "FDW12",
         null,
         "Regular",
         "0.035399923",
         "Baking Goods",
         "144.5444",
         "OUT027",
         "1985",
         "Medium",
         "Tier 3",
         "Supermarket Type3",
         "4064.0432"
        ],
        [
         "22",
         "NCB30",
         "14.6",
         "Low Fat",
         "0.0256981339999999",
         "Household",
         "196.5084",
         "OUT035",
         "2004",
         "Small",
         "Tier 2",
         "Supermarket Type1",
         "1587.2672"
        ],
        [
         "23",
         "FDC37",
         null,
         "Low Fat",
         "0.057556998",
         "Baking Goods",
         "107.6938",
         "OUT019",
         "1985",
         "Small",
         "Tier 1",
         "Grocery Store",
         "214.3876"
        ],
        [
         "24",
         "FDR28",
         "13.85",
         "Regular",
         "0.025896485",
         "Frozen Foods",
         "165.021",
         "OUT046",
         "1997",
         "Small",
         "Tier 1",
         "Supermarket Type1",
         "4078.025"
        ],
        [
         "25",
         "NCD06",
         "13.0",
         "Low Fat",
         "0.099887103",
         "Household",
         "45.906000000000006",
         "OUT017",
         "2007",
         null,
         "Tier 2",
         "Supermarket Type1",
         "838.908"
        ],
        [
         "26",
         "FDV10",
         "7.645",
         "Regular",
         "0.066693437",
         "Snack Foods",
         "42.3112",
         "OUT035",
         "2004",
         "Small",
         "Tier 2",
         "Supermarket Type1",
         "1065.28"
        ],
        [
         "27",
         "DRJ59",
         "11.65",
         "low fat",
         "0.0193561319999999",
         "Hard Drinks",
         "39.1164",
         "OUT013",
         "1987",
         "High",
         "Tier 3",
         "Supermarket Type1",
         "308.9312"
        ],
        [
         "28",
         "FDE51",
         "5.925",
         "Regular",
         "0.161466534",
         "Dairy",
         "45.5086",
         "OUT010",
         "1998",
         null,
         "Tier 3",
         "Grocery Store",
         "178.4344"
        ],
        [
         "29",
         "FDC14",
         null,
         "Regular",
         "0.072221801",
         "Canned",
         "43.6454",
         "OUT019",
         "1985",
         "Small",
         "Tier 1",
         "Grocery Store",
         "125.8362"
        ],
        [
         "30",
         "FDV38",
         "19.25",
         "Low Fat",
         "0.170348551",
         "Dairy",
         "55.7956",
         "OUT010",
         "1998",
         null,
         "Tier 3",
         "Grocery Store",
         "163.7868"
        ],
        [
         "31",
         "NCS17",
         "18.6",
         "Low Fat",
         "0.080829372",
         "Health and Hygiene",
         "96.4436",
         "OUT018",
         "2009",
         "Medium",
         "Tier 3",
         "Supermarket Type2",
         "2741.7644"
        ],
        [
         "32",
         "FDP33",
         "18.7",
         "Low Fat",
         "0.0",
         "Snack Foods",
         "256.6672",
         "OUT018",
         "2009",
         "Medium",
         "Tier 3",
         "Supermarket Type2",
         "3068.0064"
        ],
        [
         "33",
         "FDO23",
         "17.85",
         "Low Fat",
         "0.0",
         "Breads",
         "93.1436",
         "OUT045",
         "2002",
         null,
         "Tier 2",
         "Supermarket Type1",
         "2174.5028"
        ],
        [
         "34",
         "DRH01",
         "17.5",
         "Low Fat",
         "0.097904029",
         "Soft Drinks",
         "174.8738",
         "OUT046",
         "1997",
         "Small",
         "Tier 1",
         "Supermarket Type1",
         "2085.2856"
        ],
        [
         "35",
         "NCX29",
         "10.0",
         "Low Fat",
         "0.0892911369999999",
         "Health and Hygiene",
         "146.7102",
         "OUT049",
         "1999",
         "Medium",
         "Tier 1",
         "Supermarket Type1",
         "3791.0652"
        ],
        [
         "36",
         "FDV20",
         null,
         "Regular",
         "0.059511812",
         "Fruits and Vegetables",
         "128.0678",
         "OUT027",
         "1985",
         "Medium",
         "Tier 3",
         "Supermarket Type3",
         "2797.6916"
        ],
        [
         "37",
         "DRZ11",
         "8.85",
         "Regular",
         "0.113123893",
         "Soft Drinks",
         "122.5388",
         "OUT018",
         "2009",
         "Medium",
         "Tier 3",
         "Supermarket Type2",
         "1609.9044"
        ],
        [
         "38",
         "FDX10",
         null,
         "Regular",
         "0.123111453",
         "Snack Foods",
         "36.9874",
         "OUT027",
         "1985",
         "Medium",
         "Tier 3",
         "Supermarket Type3",
         "388.1614"
        ],
        [
         "39",
         "FDB34",
         null,
         "Low Fat",
         "0.0264809539999999",
         "Snack Foods",
         "87.6198",
         "OUT027",
         "1985",
         "Medium",
         "Tier 3",
         "Supermarket Type3",
         "2180.495"
        ],
        [
         "40",
         "FDU02",
         "13.35",
         "Low Fat",
         "0.102511504",
         "Dairy",
         "230.6352",
         "OUT046",
         "1997",
         "Small",
         "Tier 1",
         "Supermarket Type1",
         "3435.528"
        ],
        [
         "41",
         "FDK43",
         "9.8",
         "Low Fat",
         "0.02681843",
         "Meat",
         "126.002",
         "OUT013",
         "1987",
         "High",
         "Tier 3",
         "Supermarket Type1",
         "2150.534"
        ],
        [
         "42",
         "FDA46",
         "13.6",
         "Low Fat",
         "0.117818348",
         "Snack Foods",
         "192.9136",
         "OUT049",
         "1999",
         "Medium",
         "Tier 1",
         "Supermarket Type1",
         "2527.3768"
        ],
        [
         "43",
         "FDC02",
         "21.35",
         "Low Fat",
         "0.0691028309999999",
         "Canned",
         "259.9278",
         "OUT018",
         "2009",
         "Medium",
         "Tier 3",
         "Supermarket Type2",
         "6768.5228"
        ],
        [
         "44",
         "FDL50",
         "12.15",
         "Regular",
         "0.042277867",
         "Canned",
         "126.5046",
         "OUT013",
         "1987",
         "High",
         "Tier 3",
         "Supermarket Type1",
         "373.5138"
        ],
        [
         "45",
         "FDM39",
         "6.42",
         "LF",
         "0.0894989259999999",
         "Dairy",
         "178.1002",
         "OUT010",
         "1998",
         null,
         "Tier 3",
         "Grocery Store",
         "358.2004"
        ],
        [
         "46",
         "NCP05",
         "19.6",
         "Low Fat",
         "0.0",
         "Health and Hygiene",
         "153.3024",
         "OUT045",
         "2002",
         null,
         "Tier 2",
         "Supermarket Type1",
         "2428.8384"
        ],
        [
         "47",
         "FDV49",
         "10.0",
         "Low Fat",
         "0.025879577",
         "Canned",
         "265.2226",
         "OUT045",
         "2002",
         null,
         "Tier 2",
         "Supermarket Type1",
         "5815.0972"
        ],
        [
         "48",
         "FDL12",
         "15.85",
         "Regular",
         "0.121632721",
         "Baking Goods",
         "60.622",
         "OUT046",
         "1997",
         "Small",
         "Tier 1",
         "Supermarket Type1",
         "2576.646"
        ],
        [
         "49",
         "FDS02",
         null,
         "Regular",
         "0.255394896",
         "Dairy",
         "196.8794",
         "OUT019",
         "1985",
         "Small",
         "Tier 1",
         "Grocery Store",
         "780.3176"
        ]
       ],
       "shape": {
        "columns": 12,
        "rows": 8522
       }
      },
      "text/html": [
       "<div>\n",
       "<style scoped>\n",
       "    .dataframe tbody tr th:only-of-type {\n",
       "        vertical-align: middle;\n",
       "    }\n",
       "\n",
       "    .dataframe tbody tr th {\n",
       "        vertical-align: top;\n",
       "    }\n",
       "\n",
       "    .dataframe thead th {\n",
       "        text-align: right;\n",
       "    }\n",
       "</style>\n",
       "<table border=\"1\" class=\"dataframe\">\n",
       "  <thead>\n",
       "    <tr style=\"text-align: right;\">\n",
       "      <th></th>\n",
       "      <th>Item_Identifier</th>\n",
       "      <th>Item_Weight</th>\n",
       "      <th>Item_Fat_Content</th>\n",
       "      <th>Item_Visibility</th>\n",
       "      <th>Item_Type</th>\n",
       "      <th>Item_MRP</th>\n",
       "      <th>Outlet_Identifier</th>\n",
       "      <th>Outlet_Establishment_Year</th>\n",
       "      <th>Outlet_Size</th>\n",
       "      <th>Outlet_Location_Type</th>\n",
       "      <th>Outlet_Type</th>\n",
       "      <th>Item_Outlet_Sales</th>\n",
       "    </tr>\n",
       "  </thead>\n",
       "  <tbody>\n",
       "    <tr>\n",
       "      <th>0</th>\n",
       "      <td>FDA15</td>\n",
       "      <td>9.300</td>\n",
       "      <td>Low Fat</td>\n",
       "      <td>0.016047</td>\n",
       "      <td>Dairy</td>\n",
       "      <td>249.8092</td>\n",
       "      <td>OUT049</td>\n",
       "      <td>1999</td>\n",
       "      <td>Medium</td>\n",
       "      <td>Tier 1</td>\n",
       "      <td>Supermarket Type1</td>\n",
       "      <td>3735.1380</td>\n",
       "    </tr>\n",
       "    <tr>\n",
       "      <th>1</th>\n",
       "      <td>DRC01</td>\n",
       "      <td>5.920</td>\n",
       "      <td>Regular</td>\n",
       "      <td>0.019278</td>\n",
       "      <td>Soft Drinks</td>\n",
       "      <td>48.2692</td>\n",
       "      <td>OUT018</td>\n",
       "      <td>2009</td>\n",
       "      <td>Medium</td>\n",
       "      <td>Tier 3</td>\n",
       "      <td>Supermarket Type2</td>\n",
       "      <td>443.4228</td>\n",
       "    </tr>\n",
       "    <tr>\n",
       "      <th>2</th>\n",
       "      <td>FDN15</td>\n",
       "      <td>17.500</td>\n",
       "      <td>Low Fat</td>\n",
       "      <td>0.016760</td>\n",
       "      <td>Meat</td>\n",
       "      <td>141.6180</td>\n",
       "      <td>OUT049</td>\n",
       "      <td>1999</td>\n",
       "      <td>Medium</td>\n",
       "      <td>Tier 1</td>\n",
       "      <td>Supermarket Type1</td>\n",
       "      <td>2097.2700</td>\n",
       "    </tr>\n",
       "    <tr>\n",
       "      <th>3</th>\n",
       "      <td>FDX07</td>\n",
       "      <td>19.200</td>\n",
       "      <td>Regular</td>\n",
       "      <td>0.000000</td>\n",
       "      <td>Fruits and Vegetables</td>\n",
       "      <td>182.0950</td>\n",
       "      <td>OUT010</td>\n",
       "      <td>1998</td>\n",
       "      <td>NaN</td>\n",
       "      <td>Tier 3</td>\n",
       "      <td>Grocery Store</td>\n",
       "      <td>732.3800</td>\n",
       "    </tr>\n",
       "    <tr>\n",
       "      <th>4</th>\n",
       "      <td>NCD19</td>\n",
       "      <td>8.930</td>\n",
       "      <td>Low Fat</td>\n",
       "      <td>0.000000</td>\n",
       "      <td>Household</td>\n",
       "      <td>53.8614</td>\n",
       "      <td>OUT013</td>\n",
       "      <td>1987</td>\n",
       "      <td>High</td>\n",
       "      <td>Tier 3</td>\n",
       "      <td>Supermarket Type1</td>\n",
       "      <td>994.7052</td>\n",
       "    </tr>\n",
       "    <tr>\n",
       "      <th>...</th>\n",
       "      <td>...</td>\n",
       "      <td>...</td>\n",
       "      <td>...</td>\n",
       "      <td>...</td>\n",
       "      <td>...</td>\n",
       "      <td>...</td>\n",
       "      <td>...</td>\n",
       "      <td>...</td>\n",
       "      <td>...</td>\n",
       "      <td>...</td>\n",
       "      <td>...</td>\n",
       "      <td>...</td>\n",
       "    </tr>\n",
       "    <tr>\n",
       "      <th>8517</th>\n",
       "      <td>FDF53</td>\n",
       "      <td>20.750</td>\n",
       "      <td>reg</td>\n",
       "      <td>0.083607</td>\n",
       "      <td>Frozen Foods</td>\n",
       "      <td>178.8318</td>\n",
       "      <td>OUT046</td>\n",
       "      <td>1997</td>\n",
       "      <td>Small</td>\n",
       "      <td>Tier 1</td>\n",
       "      <td>Supermarket Type1</td>\n",
       "      <td>3608.6360</td>\n",
       "    </tr>\n",
       "    <tr>\n",
       "      <th>8518</th>\n",
       "      <td>FDF22</td>\n",
       "      <td>6.865</td>\n",
       "      <td>Low Fat</td>\n",
       "      <td>0.056783</td>\n",
       "      <td>Snack Foods</td>\n",
       "      <td>214.5218</td>\n",
       "      <td>OUT013</td>\n",
       "      <td>1987</td>\n",
       "      <td>High</td>\n",
       "      <td>Tier 3</td>\n",
       "      <td>Supermarket Type1</td>\n",
       "      <td>2778.3834</td>\n",
       "    </tr>\n",
       "    <tr>\n",
       "      <th>8519</th>\n",
       "      <td>FDS36</td>\n",
       "      <td>8.380</td>\n",
       "      <td>Regular</td>\n",
       "      <td>0.046982</td>\n",
       "      <td>Baking Goods</td>\n",
       "      <td>108.1570</td>\n",
       "      <td>OUT045</td>\n",
       "      <td>2002</td>\n",
       "      <td>NaN</td>\n",
       "      <td>Tier 2</td>\n",
       "      <td>Supermarket Type1</td>\n",
       "      <td>549.2850</td>\n",
       "    </tr>\n",
       "    <tr>\n",
       "      <th>8520</th>\n",
       "      <td>NCJ29</td>\n",
       "      <td>10.600</td>\n",
       "      <td>Low Fat</td>\n",
       "      <td>0.035186</td>\n",
       "      <td>Health and Hygiene</td>\n",
       "      <td>85.1224</td>\n",
       "      <td>OUT035</td>\n",
       "      <td>2004</td>\n",
       "      <td>Small</td>\n",
       "      <td>Tier 2</td>\n",
       "      <td>Supermarket Type1</td>\n",
       "      <td>1193.1136</td>\n",
       "    </tr>\n",
       "    <tr>\n",
       "      <th>8521</th>\n",
       "      <td>FDN46</td>\n",
       "      <td>7.210</td>\n",
       "      <td>Regular</td>\n",
       "      <td>0.145221</td>\n",
       "      <td>Snack Foods</td>\n",
       "      <td>103.1332</td>\n",
       "      <td>OUT018</td>\n",
       "      <td>2009</td>\n",
       "      <td>Medium</td>\n",
       "      <td>Tier 3</td>\n",
       "      <td>Supermarket Type2</td>\n",
       "      <td>1845.5976</td>\n",
       "    </tr>\n",
       "  </tbody>\n",
       "</table>\n",
       "<p>8522 rows × 12 columns</p>\n",
       "</div>"
      ],
      "text/plain": [
       "     Item_Identifier  Item_Weight Item_Fat_Content  Item_Visibility  \\\n",
       "0              FDA15        9.300          Low Fat         0.016047   \n",
       "1              DRC01        5.920          Regular         0.019278   \n",
       "2              FDN15       17.500          Low Fat         0.016760   \n",
       "3              FDX07       19.200          Regular         0.000000   \n",
       "4              NCD19        8.930          Low Fat         0.000000   \n",
       "...              ...          ...              ...              ...   \n",
       "8517           FDF53       20.750              reg         0.083607   \n",
       "8518           FDF22        6.865          Low Fat         0.056783   \n",
       "8519           FDS36        8.380          Regular         0.046982   \n",
       "8520           NCJ29       10.600          Low Fat         0.035186   \n",
       "8521           FDN46        7.210          Regular         0.145221   \n",
       "\n",
       "                  Item_Type  Item_MRP Outlet_Identifier  \\\n",
       "0                     Dairy  249.8092            OUT049   \n",
       "1               Soft Drinks   48.2692            OUT018   \n",
       "2                      Meat  141.6180            OUT049   \n",
       "3     Fruits and Vegetables  182.0950            OUT010   \n",
       "4                 Household   53.8614            OUT013   \n",
       "...                     ...       ...               ...   \n",
       "8517           Frozen Foods  178.8318            OUT046   \n",
       "8518            Snack Foods  214.5218            OUT013   \n",
       "8519           Baking Goods  108.1570            OUT045   \n",
       "8520     Health and Hygiene   85.1224            OUT035   \n",
       "8521            Snack Foods  103.1332            OUT018   \n",
       "\n",
       "      Outlet_Establishment_Year Outlet_Size Outlet_Location_Type  \\\n",
       "0                          1999      Medium               Tier 1   \n",
       "1                          2009      Medium               Tier 3   \n",
       "2                          1999      Medium               Tier 1   \n",
       "3                          1998         NaN               Tier 3   \n",
       "4                          1987        High               Tier 3   \n",
       "...                         ...         ...                  ...   \n",
       "8517                       1997       Small               Tier 1   \n",
       "8518                       1987        High               Tier 3   \n",
       "8519                       2002         NaN               Tier 2   \n",
       "8520                       2004       Small               Tier 2   \n",
       "8521                       2009      Medium               Tier 3   \n",
       "\n",
       "            Outlet_Type  Item_Outlet_Sales  \n",
       "0     Supermarket Type1          3735.1380  \n",
       "1     Supermarket Type2           443.4228  \n",
       "2     Supermarket Type1          2097.2700  \n",
       "3         Grocery Store           732.3800  \n",
       "4     Supermarket Type1           994.7052  \n",
       "...                 ...                ...  \n",
       "8517  Supermarket Type1          3608.6360  \n",
       "8518  Supermarket Type1          2778.3834  \n",
       "8519  Supermarket Type1           549.2850  \n",
       "8520  Supermarket Type1          1193.1136  \n",
       "8521  Supermarket Type2          1845.5976  \n",
       "\n",
       "[8522 rows x 12 columns]"
      ]
     },
     "execution_count": 3,
     "metadata": {},
     "output_type": "execute_result"
    }
   ],
   "source": [
    "train"
   ]
  },
  {
   "cell_type": "code",
   "execution_count": 4,
   "id": "23a541cb",
   "metadata": {},
   "outputs": [
    {
     "data": {
      "application/vnd.microsoft.datawrangler.viewer.v0+json": {
       "columns": [
        {
         "name": "Item_Identifier",
         "rawType": "object",
         "type": "string"
        },
        {
         "name": "count",
         "rawType": "int64",
         "type": "integer"
        }
       ],
       "ref": "cc982772-25ca-425f-bb2a-1e4acf71743c",
       "rows": [
        [
         "FDW13",
         "10"
        ],
        [
         "FDG33",
         "10"
        ],
        [
         "FDX31",
         "9"
        ],
        [
         "FDT07",
         "9"
        ],
        [
         "NCY18",
         "9"
        ],
        [
         "FDW26",
         "9"
        ],
        [
         "NCQ06",
         "9"
        ],
        [
         "DRN47",
         "9"
        ],
        [
         "FDV38",
         "9"
        ],
        [
         "FDX20",
         "9"
        ],
        [
         "DRE49",
         "9"
        ],
        [
         "NCI54",
         "9"
        ],
        [
         "FDU12",
         "9"
        ],
        [
         "FDG09",
         "9"
        ],
        [
         "FDP25",
         "9"
        ],
        [
         "FDF52",
         "9"
        ],
        [
         "FDO19",
         "9"
        ],
        [
         "FDF56",
         "9"
        ],
        [
         "FDV60",
         "9"
        ],
        [
         "NCF42",
         "9"
        ],
        [
         "NCJ30",
         "9"
        ],
        [
         "FDX04",
         "9"
        ],
        [
         "FDQ40",
         "9"
        ],
        [
         "FDW49",
         "9"
        ],
        [
         "FDD38",
         "9"
        ],
        [
         "NCB18",
         "9"
        ],
        [
         "NCL31",
         "9"
        ],
        [
         "DRA59",
         "8"
        ],
        [
         "FDR52",
         "8"
        ],
        [
         "FDC14",
         "8"
        ],
        [
         "FDF04",
         "8"
        ],
        [
         "FDA15",
         "8"
        ],
        [
         "FDO10",
         "8"
        ],
        [
         "FDA13",
         "8"
        ],
        [
         "FDF22",
         "8"
        ],
        [
         "FDT49",
         "8"
        ],
        [
         "FDN56",
         "8"
        ],
        [
         "FDW24",
         "8"
        ],
        [
         "FDV26",
         "8"
        ],
        [
         "NCO54",
         "8"
        ],
        [
         "DRK35",
         "8"
        ],
        [
         "FDA44",
         "8"
        ],
        [
         "FDA50",
         "8"
        ],
        [
         "FDR48",
         "8"
        ],
        [
         "FDR43",
         "8"
        ],
        [
         "FDE11",
         "8"
        ],
        [
         "FDQ39",
         "8"
        ],
        [
         "FDT40",
         "8"
        ],
        [
         "NCI29",
         "8"
        ],
        [
         "FDJ58",
         "8"
        ]
       ],
       "shape": {
        "columns": 1,
        "rows": 1559
       }
      },
      "text/plain": [
       "Item_Identifier\n",
       "FDW13    10\n",
       "FDG33    10\n",
       "FDX31     9\n",
       "FDT07     9\n",
       "NCY18     9\n",
       "         ..\n",
       "FDO33     1\n",
       "FDK57     1\n",
       "FDT35     1\n",
       "FDN52     1\n",
       "FDE52     1\n",
       "Name: count, Length: 1559, dtype: int64"
      ]
     },
     "execution_count": 4,
     "metadata": {},
     "output_type": "execute_result"
    }
   ],
   "source": [
    "train['Item_Identifier'].value_counts()"
   ]
  },
  {
   "cell_type": "code",
   "execution_count": 5,
   "id": "345f77fd",
   "metadata": {},
   "outputs": [
    {
     "data": {
      "text/plain": [
       "(1559,)"
      ]
     },
     "execution_count": 5,
     "metadata": {},
     "output_type": "execute_result"
    }
   ],
   "source": [
    "train['Item_Identifier'].value_counts().shape"
   ]
  },
  {
   "cell_type": "code",
   "execution_count": 6,
   "id": "e1193960",
   "metadata": {},
   "outputs": [],
   "source": [
    "test = pd.read_csv('test.csv')"
   ]
  },
  {
   "cell_type": "code",
   "execution_count": 7,
   "id": "6127a4d1",
   "metadata": {},
   "outputs": [
    {
     "data": {
      "application/vnd.microsoft.datawrangler.viewer.v0+json": {
       "columns": [
        {
         "name": "index",
         "rawType": "int64",
         "type": "integer"
        },
        {
         "name": "Item_Identifier",
         "rawType": "object",
         "type": "string"
        },
        {
         "name": "Item_Weight",
         "rawType": "float64",
         "type": "float"
        },
        {
         "name": "Item_Fat_Content",
         "rawType": "object",
         "type": "string"
        },
        {
         "name": "Item_Visibility",
         "rawType": "float64",
         "type": "float"
        },
        {
         "name": "Item_Type",
         "rawType": "object",
         "type": "string"
        },
        {
         "name": "Item_MRP",
         "rawType": "float64",
         "type": "float"
        },
        {
         "name": "Outlet_Identifier",
         "rawType": "object",
         "type": "string"
        },
        {
         "name": "Outlet_Establishment_Year",
         "rawType": "int64",
         "type": "integer"
        },
        {
         "name": "Outlet_Size",
         "rawType": "object",
         "type": "unknown"
        },
        {
         "name": "Outlet_Location_Type",
         "rawType": "object",
         "type": "string"
        },
        {
         "name": "Outlet_Type",
         "rawType": "object",
         "type": "string"
        }
       ],
       "ref": "38aeaeba-91a0-4c27-be6b-5528f50f08a0",
       "rows": [
        [
         "0",
         "FDW58",
         "20.75",
         "Low Fat",
         "0.007564836",
         "Snack Foods",
         "107.8622",
         "OUT049",
         "1999",
         "Medium",
         "Tier 1",
         "Supermarket Type1"
        ],
        [
         "1",
         "FDW14",
         "8.3",
         "reg",
         "0.038427677",
         "Dairy",
         "87.3198",
         "OUT017",
         "2007",
         null,
         "Tier 2",
         "Supermarket Type1"
        ],
        [
         "2",
         "NCN55",
         "14.6",
         "Low Fat",
         "0.099574908",
         "Others",
         "241.7538",
         "OUT010",
         "1998",
         null,
         "Tier 3",
         "Grocery Store"
        ],
        [
         "3",
         "FDQ58",
         "7.315",
         "Low Fat",
         "0.015388393",
         "Snack Foods",
         "155.034",
         "OUT017",
         "2007",
         null,
         "Tier 2",
         "Supermarket Type1"
        ],
        [
         "4",
         "FDY38",
         null,
         "Regular",
         "0.118599314",
         "Dairy",
         "234.23",
         "OUT027",
         "1985",
         "Medium",
         "Tier 3",
         "Supermarket Type3"
        ],
        [
         "5",
         "FDH56",
         "9.8",
         "Regular",
         "0.063817206",
         "Fruits and Vegetables",
         "117.1492",
         "OUT046",
         "1997",
         "Small",
         "Tier 1",
         "Supermarket Type1"
        ],
        [
         "6",
         "FDL48",
         "19.35",
         "Regular",
         "0.082601537",
         "Baking Goods",
         "50.1034",
         "OUT018",
         "2009",
         "Medium",
         "Tier 3",
         "Supermarket Type2"
        ],
        [
         "7",
         "FDC48",
         null,
         "Low Fat",
         "0.015782495",
         "Baking Goods",
         "81.0592",
         "OUT027",
         "1985",
         "Medium",
         "Tier 3",
         "Supermarket Type3"
        ],
        [
         "8",
         "FDN33",
         "6.305",
         "Regular",
         "0.123365446",
         "Snack Foods",
         "95.7436",
         "OUT045",
         "2002",
         null,
         "Tier 2",
         "Supermarket Type1"
        ],
        [
         "9",
         "FDA36",
         "5.985",
         "Low Fat",
         "0.005698435",
         "Baking Goods",
         "186.8924",
         "OUT017",
         "2007",
         null,
         "Tier 2",
         "Supermarket Type1"
        ],
        [
         "10",
         "FDT44",
         "16.6",
         "Low Fat",
         "0.103569075",
         "Fruits and Vegetables",
         "118.3466",
         "OUT017",
         "2007",
         null,
         "Tier 2",
         "Supermarket Type1"
        ],
        [
         "11",
         "FDQ56",
         "6.59",
         "Low Fat",
         "0.10581147",
         "Fruits and Vegetables",
         "85.3908",
         "OUT045",
         "2002",
         null,
         "Tier 2",
         "Supermarket Type1"
        ],
        [
         "12",
         "NCC54",
         null,
         "Low Fat",
         "0.171079215",
         "Health and Hygiene",
         "240.4196",
         "OUT019",
         "1985",
         "Small",
         "Tier 1",
         "Grocery Store"
        ],
        [
         "13",
         "FDU11",
         "4.785",
         "Low Fat",
         "0.092737611",
         "Breads",
         "122.3098",
         "OUT049",
         "1999",
         "Medium",
         "Tier 1",
         "Supermarket Type1"
        ],
        [
         "14",
         "DRL59",
         "16.75",
         "LF",
         "0.021206464",
         "Hard Drinks",
         "52.0298",
         "OUT013",
         "1987",
         "High",
         "Tier 3",
         "Supermarket Type1"
        ],
        [
         "15",
         "FDM24",
         "6.135",
         "Regular",
         "0.0794507",
         "Baking Goods",
         "151.6366",
         "OUT049",
         "1999",
         "Medium",
         "Tier 1",
         "Supermarket Type1"
        ],
        [
         "16",
         "FDI57",
         "19.85",
         "Low Fat",
         "0.05413521",
         "Seafood",
         "198.7768",
         "OUT045",
         "2002",
         null,
         "Tier 2",
         "Supermarket Type1"
        ],
        [
         "17",
         "DRC12",
         "17.85",
         "Low Fat",
         "0.037980963",
         "Soft Drinks",
         "192.2188",
         "OUT018",
         "2009",
         "Medium",
         "Tier 3",
         "Supermarket Type2"
        ],
        [
         "18",
         "NCM42",
         null,
         "Low Fat",
         "0.028184344",
         "Household",
         "109.6912",
         "OUT027",
         "1985",
         "Medium",
         "Tier 3",
         "Supermarket Type3"
        ],
        [
         "19",
         "FDA46",
         "13.6",
         "Low Fat",
         "0.196897637",
         "Snack Foods",
         "193.7136",
         "OUT010",
         "1998",
         null,
         "Tier 3",
         "Grocery Store"
        ],
        [
         "20",
         "FDA31",
         "7.1",
         "Low Fat",
         "0.109920138",
         "Fruits and Vegetables",
         "175.008",
         "OUT013",
         "1987",
         "High",
         "Tier 3",
         "Supermarket Type1"
        ],
        [
         "21",
         "NCJ31",
         "19.2",
         "Low Fat",
         "0.182619235",
         "Others",
         "239.9196",
         "OUT035",
         "2004",
         "Small",
         "Tier 2",
         "Supermarket Type1"
        ],
        [
         "22",
         "FDG52",
         "13.65",
         "LF",
         "0.065630844",
         "Frozen Foods",
         "47.7402",
         "OUT046",
         "1997",
         "Small",
         "Tier 1",
         "Supermarket Type1"
        ],
        [
         "23",
         "NCL19",
         null,
         "Low Fat",
         "0.027447057",
         "Others",
         "142.347",
         "OUT019",
         "1985",
         "Small",
         "Tier 1",
         "Grocery Store"
        ],
        [
         "24",
         "FDS10",
         "19.2",
         "Low Fat",
         "0.035178935",
         "Snack Foods",
         "180.7318",
         "OUT035",
         "2004",
         "Small",
         "Tier 2",
         "Supermarket Type1"
        ],
        [
         "25",
         "FDX22",
         "6.785",
         "Regular",
         "0.038455125",
         "Snack Foods",
         "209.4928",
         "OUT010",
         "1998",
         null,
         "Tier 3",
         "Grocery Store"
        ],
        [
         "26",
         "NCF19",
         "13.0",
         "Low Fat",
         "0.035102094",
         "Household",
         "47.6034",
         "OUT035",
         "2004",
         "Small",
         "Tier 2",
         "Supermarket Type1"
        ],
        [
         "27",
         "NCE06",
         "5.825",
         "Low Fat",
         "0.091485232",
         "Household",
         "161.3894",
         "OUT046",
         "1997",
         "Small",
         "Tier 1",
         "Supermarket Type1"
        ],
        [
         "28",
         "DRC27",
         "13.8",
         "Low Fat",
         "0.058102469",
         "Dairy",
         "244.6802",
         "OUT046",
         "1997",
         "Small",
         "Tier 1",
         "Supermarket Type1"
        ],
        [
         "29",
         "FDE21",
         "12.8",
         "LF",
         "0.022940349",
         "Fruits and Vegetables",
         "116.5492",
         "OUT035",
         "2004",
         "Small",
         "Tier 2",
         "Supermarket Type1"
        ],
        [
         "30",
         "NCR42",
         null,
         "Low Fat",
         "0.06737681",
         "Household",
         "32.09",
         "OUT019",
         "1985",
         "Small",
         "Tier 1",
         "Grocery Store"
        ],
        [
         "31",
         "FDX51",
         "9.5",
         "Regular",
         "0.022148582",
         "Meat",
         "194.9452",
         "OUT018",
         "2009",
         "Medium",
         "Tier 3",
         "Supermarket Type2"
        ],
        [
         "32",
         "NCR06",
         "12.5",
         "Low Fat",
         "0.006792707",
         "Household",
         "42.4112",
         "OUT018",
         "2009",
         "Medium",
         "Tier 3",
         "Supermarket Type2"
        ],
        [
         "33",
         "FDU31",
         null,
         "Regular",
         "0.024870035",
         "Fruits and Vegetables",
         "217.7508",
         "OUT027",
         "1985",
         "Medium",
         "Tier 3",
         "Supermarket Type3"
        ],
        [
         "34",
         "FDU59",
         "5.78",
         "Low Fat",
         "0.096931426",
         "Breads",
         "164.2552",
         "OUT017",
         "2007",
         null,
         "Tier 2",
         "Supermarket Type1"
        ],
        [
         "35",
         "FDR03",
         null,
         "Regular",
         "0.008693632",
         "Meat",
         "205.098",
         "OUT027",
         "1985",
         "Medium",
         "Tier 3",
         "Supermarket Type3"
        ],
        [
         "36",
         "FDS49",
         null,
         "Low Fat",
         "0.078961284",
         "Canned",
         "80.3644",
         "OUT027",
         "1985",
         "Medium",
         "Tier 3",
         "Supermarket Type3"
        ],
        [
         "37",
         "FDD48",
         "10.395",
         "Low Fat",
         "0.050479463",
         "Baking Goods",
         "114.0176",
         "OUT010",
         "1998",
         null,
         "Tier 3",
         "Grocery Store"
        ],
        [
         "38",
         "NCF18",
         "18.35",
         "Low Fat",
         "0.089485918",
         "Household",
         "192.1504",
         "OUT017",
         "2007",
         null,
         "Tier 2",
         "Supermarket Type1"
        ],
        [
         "39",
         "NCD43",
         null,
         "Low Fat",
         "0.01594238",
         "Household",
         "103.3964",
         "OUT027",
         "1985",
         "Medium",
         "Tier 3",
         "Supermarket Type3"
        ],
        [
         "40",
         "NCD54",
         "21.1",
         "Low Fat",
         "0.029127115",
         "Household",
         "143.3786",
         "OUT018",
         "2009",
         "Medium",
         "Tier 3",
         "Supermarket Type2"
        ],
        [
         "41",
         "FDY19",
         "19.75",
         "LF",
         "0.069236421",
         "Fruits and Vegetables",
         "116.6466",
         "OUT010",
         "1998",
         null,
         "Tier 3",
         "Grocery Store"
        ],
        [
         "42",
         "NCY54",
         "8.43",
         "Low Fat",
         "0.178699961",
         "Household",
         "173.9422",
         "OUT017",
         "2007",
         null,
         "Tier 2",
         "Supermarket Type1"
        ],
        [
         "43",
         "NCL19",
         "15.35",
         "Low Fat",
         "0.015740089",
         "Others",
         "144.847",
         "OUT018",
         "2009",
         "Medium",
         "Tier 3",
         "Supermarket Type2"
        ],
        [
         "44",
         "FDP23",
         "6.71",
         "Low Fat",
         "0.059565107",
         "Breads",
         "217.2166",
         "OUT010",
         "1998",
         null,
         "Tier 3",
         "Grocery Store"
        ],
        [
         "45",
         "FDC26",
         "10.195",
         "Low Fat",
         "0.126277921",
         "Canned",
         "112.1886",
         "OUT013",
         "1987",
         "High",
         "Tier 3",
         "Supermarket Type1"
        ],
        [
         "46",
         "FDR14",
         "11.65",
         "Low Fat",
         "0.291322397",
         "Dairy",
         "55.8298",
         "OUT010",
         "1998",
         null,
         "Tier 3",
         "Grocery Store"
        ],
        [
         "47",
         "NCS41",
         "12.85",
         "Low Fat",
         "0.053433908",
         "Health and Hygiene",
         "183.2608",
         "OUT035",
         "2004",
         "Small",
         "Tier 2",
         "Supermarket Type1"
        ],
        [
         "48",
         "FDF41",
         "12.15",
         "Low Fat",
         "0.131155007",
         "Frozen Foods",
         "248.146",
         "OUT035",
         "2004",
         "Small",
         "Tier 2",
         "Supermarket Type1"
        ],
        [
         "49",
         "FDU34",
         "18.25",
         "Low Fat",
         "0.075194929",
         "Snack Foods",
         "124.9046",
         "OUT046",
         "1997",
         "Small",
         "Tier 1",
         "Supermarket Type1"
        ]
       ],
       "shape": {
        "columns": 11,
        "rows": 5681
       }
      },
      "text/html": [
       "<div>\n",
       "<style scoped>\n",
       "    .dataframe tbody tr th:only-of-type {\n",
       "        vertical-align: middle;\n",
       "    }\n",
       "\n",
       "    .dataframe tbody tr th {\n",
       "        vertical-align: top;\n",
       "    }\n",
       "\n",
       "    .dataframe thead th {\n",
       "        text-align: right;\n",
       "    }\n",
       "</style>\n",
       "<table border=\"1\" class=\"dataframe\">\n",
       "  <thead>\n",
       "    <tr style=\"text-align: right;\">\n",
       "      <th></th>\n",
       "      <th>Item_Identifier</th>\n",
       "      <th>Item_Weight</th>\n",
       "      <th>Item_Fat_Content</th>\n",
       "      <th>Item_Visibility</th>\n",
       "      <th>Item_Type</th>\n",
       "      <th>Item_MRP</th>\n",
       "      <th>Outlet_Identifier</th>\n",
       "      <th>Outlet_Establishment_Year</th>\n",
       "      <th>Outlet_Size</th>\n",
       "      <th>Outlet_Location_Type</th>\n",
       "      <th>Outlet_Type</th>\n",
       "    </tr>\n",
       "  </thead>\n",
       "  <tbody>\n",
       "    <tr>\n",
       "      <th>0</th>\n",
       "      <td>FDW58</td>\n",
       "      <td>20.750</td>\n",
       "      <td>Low Fat</td>\n",
       "      <td>0.007565</td>\n",
       "      <td>Snack Foods</td>\n",
       "      <td>107.8622</td>\n",
       "      <td>OUT049</td>\n",
       "      <td>1999</td>\n",
       "      <td>Medium</td>\n",
       "      <td>Tier 1</td>\n",
       "      <td>Supermarket Type1</td>\n",
       "    </tr>\n",
       "    <tr>\n",
       "      <th>1</th>\n",
       "      <td>FDW14</td>\n",
       "      <td>8.300</td>\n",
       "      <td>reg</td>\n",
       "      <td>0.038428</td>\n",
       "      <td>Dairy</td>\n",
       "      <td>87.3198</td>\n",
       "      <td>OUT017</td>\n",
       "      <td>2007</td>\n",
       "      <td>NaN</td>\n",
       "      <td>Tier 2</td>\n",
       "      <td>Supermarket Type1</td>\n",
       "    </tr>\n",
       "    <tr>\n",
       "      <th>2</th>\n",
       "      <td>NCN55</td>\n",
       "      <td>14.600</td>\n",
       "      <td>Low Fat</td>\n",
       "      <td>0.099575</td>\n",
       "      <td>Others</td>\n",
       "      <td>241.7538</td>\n",
       "      <td>OUT010</td>\n",
       "      <td>1998</td>\n",
       "      <td>NaN</td>\n",
       "      <td>Tier 3</td>\n",
       "      <td>Grocery Store</td>\n",
       "    </tr>\n",
       "    <tr>\n",
       "      <th>3</th>\n",
       "      <td>FDQ58</td>\n",
       "      <td>7.315</td>\n",
       "      <td>Low Fat</td>\n",
       "      <td>0.015388</td>\n",
       "      <td>Snack Foods</td>\n",
       "      <td>155.0340</td>\n",
       "      <td>OUT017</td>\n",
       "      <td>2007</td>\n",
       "      <td>NaN</td>\n",
       "      <td>Tier 2</td>\n",
       "      <td>Supermarket Type1</td>\n",
       "    </tr>\n",
       "    <tr>\n",
       "      <th>4</th>\n",
       "      <td>FDY38</td>\n",
       "      <td>NaN</td>\n",
       "      <td>Regular</td>\n",
       "      <td>0.118599</td>\n",
       "      <td>Dairy</td>\n",
       "      <td>234.2300</td>\n",
       "      <td>OUT027</td>\n",
       "      <td>1985</td>\n",
       "      <td>Medium</td>\n",
       "      <td>Tier 3</td>\n",
       "      <td>Supermarket Type3</td>\n",
       "    </tr>\n",
       "    <tr>\n",
       "      <th>...</th>\n",
       "      <td>...</td>\n",
       "      <td>...</td>\n",
       "      <td>...</td>\n",
       "      <td>...</td>\n",
       "      <td>...</td>\n",
       "      <td>...</td>\n",
       "      <td>...</td>\n",
       "      <td>...</td>\n",
       "      <td>...</td>\n",
       "      <td>...</td>\n",
       "      <td>...</td>\n",
       "    </tr>\n",
       "    <tr>\n",
       "      <th>5676</th>\n",
       "      <td>FDB58</td>\n",
       "      <td>10.500</td>\n",
       "      <td>Regular</td>\n",
       "      <td>0.013496</td>\n",
       "      <td>Snack Foods</td>\n",
       "      <td>141.3154</td>\n",
       "      <td>OUT046</td>\n",
       "      <td>1997</td>\n",
       "      <td>Small</td>\n",
       "      <td>Tier 1</td>\n",
       "      <td>Supermarket Type1</td>\n",
       "    </tr>\n",
       "    <tr>\n",
       "      <th>5677</th>\n",
       "      <td>FDD47</td>\n",
       "      <td>7.600</td>\n",
       "      <td>Regular</td>\n",
       "      <td>0.142991</td>\n",
       "      <td>Starchy Foods</td>\n",
       "      <td>169.1448</td>\n",
       "      <td>OUT018</td>\n",
       "      <td>2009</td>\n",
       "      <td>Medium</td>\n",
       "      <td>Tier 3</td>\n",
       "      <td>Supermarket Type2</td>\n",
       "    </tr>\n",
       "    <tr>\n",
       "      <th>5678</th>\n",
       "      <td>NCO17</td>\n",
       "      <td>10.000</td>\n",
       "      <td>Low Fat</td>\n",
       "      <td>0.073529</td>\n",
       "      <td>Health and Hygiene</td>\n",
       "      <td>118.7440</td>\n",
       "      <td>OUT045</td>\n",
       "      <td>2002</td>\n",
       "      <td>NaN</td>\n",
       "      <td>Tier 2</td>\n",
       "      <td>Supermarket Type1</td>\n",
       "    </tr>\n",
       "    <tr>\n",
       "      <th>5679</th>\n",
       "      <td>FDJ26</td>\n",
       "      <td>15.300</td>\n",
       "      <td>Regular</td>\n",
       "      <td>0.000000</td>\n",
       "      <td>Canned</td>\n",
       "      <td>214.6218</td>\n",
       "      <td>OUT017</td>\n",
       "      <td>2007</td>\n",
       "      <td>NaN</td>\n",
       "      <td>Tier 2</td>\n",
       "      <td>Supermarket Type1</td>\n",
       "    </tr>\n",
       "    <tr>\n",
       "      <th>5680</th>\n",
       "      <td>FDU37</td>\n",
       "      <td>9.500</td>\n",
       "      <td>Regular</td>\n",
       "      <td>0.104720</td>\n",
       "      <td>Canned</td>\n",
       "      <td>79.7960</td>\n",
       "      <td>OUT045</td>\n",
       "      <td>2002</td>\n",
       "      <td>NaN</td>\n",
       "      <td>Tier 2</td>\n",
       "      <td>Supermarket Type1</td>\n",
       "    </tr>\n",
       "  </tbody>\n",
       "</table>\n",
       "<p>5681 rows × 11 columns</p>\n",
       "</div>"
      ],
      "text/plain": [
       "     Item_Identifier  Item_Weight Item_Fat_Content  Item_Visibility  \\\n",
       "0              FDW58       20.750          Low Fat         0.007565   \n",
       "1              FDW14        8.300              reg         0.038428   \n",
       "2              NCN55       14.600          Low Fat         0.099575   \n",
       "3              FDQ58        7.315          Low Fat         0.015388   \n",
       "4              FDY38          NaN          Regular         0.118599   \n",
       "...              ...          ...              ...              ...   \n",
       "5676           FDB58       10.500          Regular         0.013496   \n",
       "5677           FDD47        7.600          Regular         0.142991   \n",
       "5678           NCO17       10.000          Low Fat         0.073529   \n",
       "5679           FDJ26       15.300          Regular         0.000000   \n",
       "5680           FDU37        9.500          Regular         0.104720   \n",
       "\n",
       "               Item_Type  Item_MRP Outlet_Identifier  \\\n",
       "0            Snack Foods  107.8622            OUT049   \n",
       "1                  Dairy   87.3198            OUT017   \n",
       "2                 Others  241.7538            OUT010   \n",
       "3            Snack Foods  155.0340            OUT017   \n",
       "4                  Dairy  234.2300            OUT027   \n",
       "...                  ...       ...               ...   \n",
       "5676         Snack Foods  141.3154            OUT046   \n",
       "5677       Starchy Foods  169.1448            OUT018   \n",
       "5678  Health and Hygiene  118.7440            OUT045   \n",
       "5679              Canned  214.6218            OUT017   \n",
       "5680              Canned   79.7960            OUT045   \n",
       "\n",
       "      Outlet_Establishment_Year Outlet_Size Outlet_Location_Type  \\\n",
       "0                          1999      Medium               Tier 1   \n",
       "1                          2007         NaN               Tier 2   \n",
       "2                          1998         NaN               Tier 3   \n",
       "3                          2007         NaN               Tier 2   \n",
       "4                          1985      Medium               Tier 3   \n",
       "...                         ...         ...                  ...   \n",
       "5676                       1997       Small               Tier 1   \n",
       "5677                       2009      Medium               Tier 3   \n",
       "5678                       2002         NaN               Tier 2   \n",
       "5679                       2007         NaN               Tier 2   \n",
       "5680                       2002         NaN               Tier 2   \n",
       "\n",
       "            Outlet_Type  \n",
       "0     Supermarket Type1  \n",
       "1     Supermarket Type1  \n",
       "2         Grocery Store  \n",
       "3     Supermarket Type1  \n",
       "4     Supermarket Type3  \n",
       "...                 ...  \n",
       "5676  Supermarket Type1  \n",
       "5677  Supermarket Type2  \n",
       "5678  Supermarket Type1  \n",
       "5679  Supermarket Type1  \n",
       "5680  Supermarket Type1  \n",
       "\n",
       "[5681 rows x 11 columns]"
      ]
     },
     "execution_count": 7,
     "metadata": {},
     "output_type": "execute_result"
    }
   ],
   "source": [
    "test"
   ]
  },
  {
   "cell_type": "code",
   "execution_count": 8,
   "id": "e4aa17f0",
   "metadata": {},
   "outputs": [],
   "source": [
    "target = train['Item_Outlet_Sales']\n",
    "train.drop(columns='Item_Outlet_Sales',inplace=True)"
   ]
  },
  {
   "cell_type": "code",
   "execution_count": 9,
   "id": "983821e7",
   "metadata": {},
   "outputs": [],
   "source": [
    "train['Source'] = 'train'\n",
    "test['Source'] = 'test'"
   ]
  },
  {
   "cell_type": "code",
   "execution_count": 10,
   "id": "918711b7",
   "metadata": {},
   "outputs": [],
   "source": [
    "df = pd.concat([train,test],ignore_index=True)"
   ]
  },
  {
   "cell_type": "code",
   "execution_count": 11,
   "id": "fc931ce8",
   "metadata": {},
   "outputs": [
    {
     "data": {
      "application/vnd.microsoft.datawrangler.viewer.v0+json": {
       "columns": [
        {
         "name": "index",
         "rawType": "int64",
         "type": "integer"
        },
        {
         "name": "Item_Identifier",
         "rawType": "object",
         "type": "string"
        },
        {
         "name": "Item_Weight",
         "rawType": "float64",
         "type": "float"
        },
        {
         "name": "Item_Fat_Content",
         "rawType": "object",
         "type": "string"
        },
        {
         "name": "Item_Visibility",
         "rawType": "float64",
         "type": "float"
        },
        {
         "name": "Item_Type",
         "rawType": "object",
         "type": "string"
        },
        {
         "name": "Item_MRP",
         "rawType": "float64",
         "type": "float"
        },
        {
         "name": "Outlet_Identifier",
         "rawType": "object",
         "type": "string"
        },
        {
         "name": "Outlet_Establishment_Year",
         "rawType": "int64",
         "type": "integer"
        },
        {
         "name": "Outlet_Size",
         "rawType": "object",
         "type": "unknown"
        },
        {
         "name": "Outlet_Location_Type",
         "rawType": "object",
         "type": "string"
        },
        {
         "name": "Outlet_Type",
         "rawType": "object",
         "type": "string"
        },
        {
         "name": "Source",
         "rawType": "object",
         "type": "string"
        }
       ],
       "ref": "6e2cad55-d465-4d66-987f-b83417b0afb0",
       "rows": [
        [
         "0",
         "FDA15",
         "9.3",
         "Low Fat",
         "0.016047301",
         "Dairy",
         "249.8092",
         "OUT049",
         "1999",
         "Medium",
         "Tier 1",
         "Supermarket Type1",
         "train"
        ],
        [
         "1",
         "DRC01",
         "5.92",
         "Regular",
         "0.019278216",
         "Soft Drinks",
         "48.2692",
         "OUT018",
         "2009",
         "Medium",
         "Tier 3",
         "Supermarket Type2",
         "train"
        ],
        [
         "2",
         "FDN15",
         "17.5",
         "Low Fat",
         "0.016760075",
         "Meat",
         "141.618",
         "OUT049",
         "1999",
         "Medium",
         "Tier 1",
         "Supermarket Type1",
         "train"
        ],
        [
         "3",
         "FDX07",
         "19.2",
         "Regular",
         "0.0",
         "Fruits and Vegetables",
         "182.095",
         "OUT010",
         "1998",
         null,
         "Tier 3",
         "Grocery Store",
         "train"
        ],
        [
         "4",
         "NCD19",
         "8.93",
         "Low Fat",
         "0.0",
         "Household",
         "53.8614",
         "OUT013",
         "1987",
         "High",
         "Tier 3",
         "Supermarket Type1",
         "train"
        ],
        [
         "5",
         "FDP36",
         "10.395",
         "Regular",
         "0.0",
         "Baking Goods",
         "51.4008",
         "OUT018",
         "2009",
         "Medium",
         "Tier 3",
         "Supermarket Type2",
         "train"
        ],
        [
         "6",
         "FDO10",
         "13.65",
         "Regular",
         "0.0127410889999999",
         "Snack Foods",
         "57.6588",
         "OUT013",
         "1987",
         "High",
         "Tier 3",
         "Supermarket Type1",
         "train"
        ],
        [
         "7",
         "FDP10",
         null,
         "Low Fat",
         "0.127469857",
         "Snack Foods",
         "107.7622",
         "OUT027",
         "1985",
         "Medium",
         "Tier 3",
         "Supermarket Type3",
         "train"
        ],
        [
         "8",
         "FDH17",
         "16.2",
         "Regular",
         "0.016687114",
         "Frozen Foods",
         "96.9726",
         "OUT045",
         "2002",
         null,
         "Tier 2",
         "Supermarket Type1",
         "train"
        ],
        [
         "9",
         "FDU28",
         "19.2",
         "Regular",
         "0.09444959",
         "Frozen Foods",
         "187.8214",
         "OUT017",
         "2007",
         null,
         "Tier 2",
         "Supermarket Type1",
         "train"
        ],
        [
         "10",
         "FDY07",
         "11.8",
         "Low Fat",
         "0.0",
         "Fruits and Vegetables",
         "45.5402",
         "OUT049",
         "1999",
         "Medium",
         "Tier 1",
         "Supermarket Type1",
         "train"
        ],
        [
         "11",
         "FDA03",
         "18.5",
         "Regular",
         "0.045463773",
         "Dairy",
         "144.1102",
         "OUT046",
         "1997",
         "Small",
         "Tier 1",
         "Supermarket Type1",
         "train"
        ],
        [
         "12",
         "FDX32",
         "15.1",
         "Regular",
         "0.1000135",
         "Fruits and Vegetables",
         "145.4786",
         "OUT049",
         "1999",
         "Medium",
         "Tier 1",
         "Supermarket Type1",
         "train"
        ],
        [
         "13",
         "FDS46",
         "17.6",
         "Regular",
         "0.047257328",
         "Snack Foods",
         "119.6782",
         "OUT046",
         "1997",
         "Small",
         "Tier 1",
         "Supermarket Type1",
         "train"
        ],
        [
         "14",
         "FDF32",
         "16.35",
         "Low Fat",
         "0.0680243",
         "Fruits and Vegetables",
         "196.4426",
         "OUT013",
         "1987",
         "High",
         "Tier 3",
         "Supermarket Type1",
         "train"
        ],
        [
         "15",
         "FDP49",
         "9.0",
         "Regular",
         "0.0690889609999999",
         "Breakfast",
         "56.3614",
         "OUT046",
         "1997",
         "Small",
         "Tier 1",
         "Supermarket Type1",
         "train"
        ],
        [
         "16",
         "NCB42",
         "11.8",
         "Low Fat",
         "0.008596051",
         "Health and Hygiene",
         "115.3492",
         "OUT018",
         "2009",
         "Medium",
         "Tier 3",
         "Supermarket Type2",
         "train"
        ],
        [
         "17",
         "FDP49",
         "9.0",
         "Regular",
         "0.0691963759999999",
         "Breakfast",
         "54.3614",
         "OUT049",
         "1999",
         "Medium",
         "Tier 1",
         "Supermarket Type1",
         "train"
        ],
        [
         "18",
         "DRI11",
         null,
         "Low Fat",
         "0.034237682",
         "Hard Drinks",
         "113.2834",
         "OUT027",
         "1985",
         "Medium",
         "Tier 3",
         "Supermarket Type3",
         "train"
        ],
        [
         "19",
         "FDU02",
         "13.35",
         "Low Fat",
         "0.10249212",
         "Dairy",
         "230.5352",
         "OUT035",
         "2004",
         "Small",
         "Tier 2",
         "Supermarket Type1",
         "train"
        ],
        [
         "20",
         "FDN22",
         "18.85",
         "Regular",
         "0.138190277",
         "Snack Foods",
         "250.8724",
         "OUT013",
         "1987",
         "High",
         "Tier 3",
         "Supermarket Type1",
         "train"
        ],
        [
         "21",
         "FDW12",
         null,
         "Regular",
         "0.035399923",
         "Baking Goods",
         "144.5444",
         "OUT027",
         "1985",
         "Medium",
         "Tier 3",
         "Supermarket Type3",
         "train"
        ],
        [
         "22",
         "NCB30",
         "14.6",
         "Low Fat",
         "0.0256981339999999",
         "Household",
         "196.5084",
         "OUT035",
         "2004",
         "Small",
         "Tier 2",
         "Supermarket Type1",
         "train"
        ],
        [
         "23",
         "FDC37",
         null,
         "Low Fat",
         "0.057556998",
         "Baking Goods",
         "107.6938",
         "OUT019",
         "1985",
         "Small",
         "Tier 1",
         "Grocery Store",
         "train"
        ],
        [
         "24",
         "FDR28",
         "13.85",
         "Regular",
         "0.025896485",
         "Frozen Foods",
         "165.021",
         "OUT046",
         "1997",
         "Small",
         "Tier 1",
         "Supermarket Type1",
         "train"
        ],
        [
         "25",
         "NCD06",
         "13.0",
         "Low Fat",
         "0.099887103",
         "Household",
         "45.906000000000006",
         "OUT017",
         "2007",
         null,
         "Tier 2",
         "Supermarket Type1",
         "train"
        ],
        [
         "26",
         "FDV10",
         "7.645",
         "Regular",
         "0.066693437",
         "Snack Foods",
         "42.3112",
         "OUT035",
         "2004",
         "Small",
         "Tier 2",
         "Supermarket Type1",
         "train"
        ],
        [
         "27",
         "DRJ59",
         "11.65",
         "low fat",
         "0.0193561319999999",
         "Hard Drinks",
         "39.1164",
         "OUT013",
         "1987",
         "High",
         "Tier 3",
         "Supermarket Type1",
         "train"
        ],
        [
         "28",
         "FDE51",
         "5.925",
         "Regular",
         "0.161466534",
         "Dairy",
         "45.5086",
         "OUT010",
         "1998",
         null,
         "Tier 3",
         "Grocery Store",
         "train"
        ],
        [
         "29",
         "FDC14",
         null,
         "Regular",
         "0.072221801",
         "Canned",
         "43.6454",
         "OUT019",
         "1985",
         "Small",
         "Tier 1",
         "Grocery Store",
         "train"
        ],
        [
         "30",
         "FDV38",
         "19.25",
         "Low Fat",
         "0.170348551",
         "Dairy",
         "55.7956",
         "OUT010",
         "1998",
         null,
         "Tier 3",
         "Grocery Store",
         "train"
        ],
        [
         "31",
         "NCS17",
         "18.6",
         "Low Fat",
         "0.080829372",
         "Health and Hygiene",
         "96.4436",
         "OUT018",
         "2009",
         "Medium",
         "Tier 3",
         "Supermarket Type2",
         "train"
        ],
        [
         "32",
         "FDP33",
         "18.7",
         "Low Fat",
         "0.0",
         "Snack Foods",
         "256.6672",
         "OUT018",
         "2009",
         "Medium",
         "Tier 3",
         "Supermarket Type2",
         "train"
        ],
        [
         "33",
         "FDO23",
         "17.85",
         "Low Fat",
         "0.0",
         "Breads",
         "93.1436",
         "OUT045",
         "2002",
         null,
         "Tier 2",
         "Supermarket Type1",
         "train"
        ],
        [
         "34",
         "DRH01",
         "17.5",
         "Low Fat",
         "0.097904029",
         "Soft Drinks",
         "174.8738",
         "OUT046",
         "1997",
         "Small",
         "Tier 1",
         "Supermarket Type1",
         "train"
        ],
        [
         "35",
         "NCX29",
         "10.0",
         "Low Fat",
         "0.0892911369999999",
         "Health and Hygiene",
         "146.7102",
         "OUT049",
         "1999",
         "Medium",
         "Tier 1",
         "Supermarket Type1",
         "train"
        ],
        [
         "36",
         "FDV20",
         null,
         "Regular",
         "0.059511812",
         "Fruits and Vegetables",
         "128.0678",
         "OUT027",
         "1985",
         "Medium",
         "Tier 3",
         "Supermarket Type3",
         "train"
        ],
        [
         "37",
         "DRZ11",
         "8.85",
         "Regular",
         "0.113123893",
         "Soft Drinks",
         "122.5388",
         "OUT018",
         "2009",
         "Medium",
         "Tier 3",
         "Supermarket Type2",
         "train"
        ],
        [
         "38",
         "FDX10",
         null,
         "Regular",
         "0.123111453",
         "Snack Foods",
         "36.9874",
         "OUT027",
         "1985",
         "Medium",
         "Tier 3",
         "Supermarket Type3",
         "train"
        ],
        [
         "39",
         "FDB34",
         null,
         "Low Fat",
         "0.0264809539999999",
         "Snack Foods",
         "87.6198",
         "OUT027",
         "1985",
         "Medium",
         "Tier 3",
         "Supermarket Type3",
         "train"
        ],
        [
         "40",
         "FDU02",
         "13.35",
         "Low Fat",
         "0.102511504",
         "Dairy",
         "230.6352",
         "OUT046",
         "1997",
         "Small",
         "Tier 1",
         "Supermarket Type1",
         "train"
        ],
        [
         "41",
         "FDK43",
         "9.8",
         "Low Fat",
         "0.02681843",
         "Meat",
         "126.002",
         "OUT013",
         "1987",
         "High",
         "Tier 3",
         "Supermarket Type1",
         "train"
        ],
        [
         "42",
         "FDA46",
         "13.6",
         "Low Fat",
         "0.117818348",
         "Snack Foods",
         "192.9136",
         "OUT049",
         "1999",
         "Medium",
         "Tier 1",
         "Supermarket Type1",
         "train"
        ],
        [
         "43",
         "FDC02",
         "21.35",
         "Low Fat",
         "0.0691028309999999",
         "Canned",
         "259.9278",
         "OUT018",
         "2009",
         "Medium",
         "Tier 3",
         "Supermarket Type2",
         "train"
        ],
        [
         "44",
         "FDL50",
         "12.15",
         "Regular",
         "0.042277867",
         "Canned",
         "126.5046",
         "OUT013",
         "1987",
         "High",
         "Tier 3",
         "Supermarket Type1",
         "train"
        ],
        [
         "45",
         "FDM39",
         "6.42",
         "LF",
         "0.0894989259999999",
         "Dairy",
         "178.1002",
         "OUT010",
         "1998",
         null,
         "Tier 3",
         "Grocery Store",
         "train"
        ],
        [
         "46",
         "NCP05",
         "19.6",
         "Low Fat",
         "0.0",
         "Health and Hygiene",
         "153.3024",
         "OUT045",
         "2002",
         null,
         "Tier 2",
         "Supermarket Type1",
         "train"
        ],
        [
         "47",
         "FDV49",
         "10.0",
         "Low Fat",
         "0.025879577",
         "Canned",
         "265.2226",
         "OUT045",
         "2002",
         null,
         "Tier 2",
         "Supermarket Type1",
         "train"
        ],
        [
         "48",
         "FDL12",
         "15.85",
         "Regular",
         "0.121632721",
         "Baking Goods",
         "60.622",
         "OUT046",
         "1997",
         "Small",
         "Tier 1",
         "Supermarket Type1",
         "train"
        ],
        [
         "49",
         "FDS02",
         null,
         "Regular",
         "0.255394896",
         "Dairy",
         "196.8794",
         "OUT019",
         "1985",
         "Small",
         "Tier 1",
         "Grocery Store",
         "train"
        ]
       ],
       "shape": {
        "columns": 12,
        "rows": 14203
       }
      },
      "text/html": [
       "<div>\n",
       "<style scoped>\n",
       "    .dataframe tbody tr th:only-of-type {\n",
       "        vertical-align: middle;\n",
       "    }\n",
       "\n",
       "    .dataframe tbody tr th {\n",
       "        vertical-align: top;\n",
       "    }\n",
       "\n",
       "    .dataframe thead th {\n",
       "        text-align: right;\n",
       "    }\n",
       "</style>\n",
       "<table border=\"1\" class=\"dataframe\">\n",
       "  <thead>\n",
       "    <tr style=\"text-align: right;\">\n",
       "      <th></th>\n",
       "      <th>Item_Identifier</th>\n",
       "      <th>Item_Weight</th>\n",
       "      <th>Item_Fat_Content</th>\n",
       "      <th>Item_Visibility</th>\n",
       "      <th>Item_Type</th>\n",
       "      <th>Item_MRP</th>\n",
       "      <th>Outlet_Identifier</th>\n",
       "      <th>Outlet_Establishment_Year</th>\n",
       "      <th>Outlet_Size</th>\n",
       "      <th>Outlet_Location_Type</th>\n",
       "      <th>Outlet_Type</th>\n",
       "      <th>Source</th>\n",
       "    </tr>\n",
       "  </thead>\n",
       "  <tbody>\n",
       "    <tr>\n",
       "      <th>0</th>\n",
       "      <td>FDA15</td>\n",
       "      <td>9.30</td>\n",
       "      <td>Low Fat</td>\n",
       "      <td>0.016047</td>\n",
       "      <td>Dairy</td>\n",
       "      <td>249.8092</td>\n",
       "      <td>OUT049</td>\n",
       "      <td>1999</td>\n",
       "      <td>Medium</td>\n",
       "      <td>Tier 1</td>\n",
       "      <td>Supermarket Type1</td>\n",
       "      <td>train</td>\n",
       "    </tr>\n",
       "    <tr>\n",
       "      <th>1</th>\n",
       "      <td>DRC01</td>\n",
       "      <td>5.92</td>\n",
       "      <td>Regular</td>\n",
       "      <td>0.019278</td>\n",
       "      <td>Soft Drinks</td>\n",
       "      <td>48.2692</td>\n",
       "      <td>OUT018</td>\n",
       "      <td>2009</td>\n",
       "      <td>Medium</td>\n",
       "      <td>Tier 3</td>\n",
       "      <td>Supermarket Type2</td>\n",
       "      <td>train</td>\n",
       "    </tr>\n",
       "    <tr>\n",
       "      <th>2</th>\n",
       "      <td>FDN15</td>\n",
       "      <td>17.50</td>\n",
       "      <td>Low Fat</td>\n",
       "      <td>0.016760</td>\n",
       "      <td>Meat</td>\n",
       "      <td>141.6180</td>\n",
       "      <td>OUT049</td>\n",
       "      <td>1999</td>\n",
       "      <td>Medium</td>\n",
       "      <td>Tier 1</td>\n",
       "      <td>Supermarket Type1</td>\n",
       "      <td>train</td>\n",
       "    </tr>\n",
       "    <tr>\n",
       "      <th>3</th>\n",
       "      <td>FDX07</td>\n",
       "      <td>19.20</td>\n",
       "      <td>Regular</td>\n",
       "      <td>0.000000</td>\n",
       "      <td>Fruits and Vegetables</td>\n",
       "      <td>182.0950</td>\n",
       "      <td>OUT010</td>\n",
       "      <td>1998</td>\n",
       "      <td>NaN</td>\n",
       "      <td>Tier 3</td>\n",
       "      <td>Grocery Store</td>\n",
       "      <td>train</td>\n",
       "    </tr>\n",
       "    <tr>\n",
       "      <th>4</th>\n",
       "      <td>NCD19</td>\n",
       "      <td>8.93</td>\n",
       "      <td>Low Fat</td>\n",
       "      <td>0.000000</td>\n",
       "      <td>Household</td>\n",
       "      <td>53.8614</td>\n",
       "      <td>OUT013</td>\n",
       "      <td>1987</td>\n",
       "      <td>High</td>\n",
       "      <td>Tier 3</td>\n",
       "      <td>Supermarket Type1</td>\n",
       "      <td>train</td>\n",
       "    </tr>\n",
       "    <tr>\n",
       "      <th>...</th>\n",
       "      <td>...</td>\n",
       "      <td>...</td>\n",
       "      <td>...</td>\n",
       "      <td>...</td>\n",
       "      <td>...</td>\n",
       "      <td>...</td>\n",
       "      <td>...</td>\n",
       "      <td>...</td>\n",
       "      <td>...</td>\n",
       "      <td>...</td>\n",
       "      <td>...</td>\n",
       "      <td>...</td>\n",
       "    </tr>\n",
       "    <tr>\n",
       "      <th>14198</th>\n",
       "      <td>FDB58</td>\n",
       "      <td>10.50</td>\n",
       "      <td>Regular</td>\n",
       "      <td>0.013496</td>\n",
       "      <td>Snack Foods</td>\n",
       "      <td>141.3154</td>\n",
       "      <td>OUT046</td>\n",
       "      <td>1997</td>\n",
       "      <td>Small</td>\n",
       "      <td>Tier 1</td>\n",
       "      <td>Supermarket Type1</td>\n",
       "      <td>test</td>\n",
       "    </tr>\n",
       "    <tr>\n",
       "      <th>14199</th>\n",
       "      <td>FDD47</td>\n",
       "      <td>7.60</td>\n",
       "      <td>Regular</td>\n",
       "      <td>0.142991</td>\n",
       "      <td>Starchy Foods</td>\n",
       "      <td>169.1448</td>\n",
       "      <td>OUT018</td>\n",
       "      <td>2009</td>\n",
       "      <td>Medium</td>\n",
       "      <td>Tier 3</td>\n",
       "      <td>Supermarket Type2</td>\n",
       "      <td>test</td>\n",
       "    </tr>\n",
       "    <tr>\n",
       "      <th>14200</th>\n",
       "      <td>NCO17</td>\n",
       "      <td>10.00</td>\n",
       "      <td>Low Fat</td>\n",
       "      <td>0.073529</td>\n",
       "      <td>Health and Hygiene</td>\n",
       "      <td>118.7440</td>\n",
       "      <td>OUT045</td>\n",
       "      <td>2002</td>\n",
       "      <td>NaN</td>\n",
       "      <td>Tier 2</td>\n",
       "      <td>Supermarket Type1</td>\n",
       "      <td>test</td>\n",
       "    </tr>\n",
       "    <tr>\n",
       "      <th>14201</th>\n",
       "      <td>FDJ26</td>\n",
       "      <td>15.30</td>\n",
       "      <td>Regular</td>\n",
       "      <td>0.000000</td>\n",
       "      <td>Canned</td>\n",
       "      <td>214.6218</td>\n",
       "      <td>OUT017</td>\n",
       "      <td>2007</td>\n",
       "      <td>NaN</td>\n",
       "      <td>Tier 2</td>\n",
       "      <td>Supermarket Type1</td>\n",
       "      <td>test</td>\n",
       "    </tr>\n",
       "    <tr>\n",
       "      <th>14202</th>\n",
       "      <td>FDU37</td>\n",
       "      <td>9.50</td>\n",
       "      <td>Regular</td>\n",
       "      <td>0.104720</td>\n",
       "      <td>Canned</td>\n",
       "      <td>79.7960</td>\n",
       "      <td>OUT045</td>\n",
       "      <td>2002</td>\n",
       "      <td>NaN</td>\n",
       "      <td>Tier 2</td>\n",
       "      <td>Supermarket Type1</td>\n",
       "      <td>test</td>\n",
       "    </tr>\n",
       "  </tbody>\n",
       "</table>\n",
       "<p>14203 rows × 12 columns</p>\n",
       "</div>"
      ],
      "text/plain": [
       "      Item_Identifier  Item_Weight Item_Fat_Content  Item_Visibility  \\\n",
       "0               FDA15         9.30          Low Fat         0.016047   \n",
       "1               DRC01         5.92          Regular         0.019278   \n",
       "2               FDN15        17.50          Low Fat         0.016760   \n",
       "3               FDX07        19.20          Regular         0.000000   \n",
       "4               NCD19         8.93          Low Fat         0.000000   \n",
       "...               ...          ...              ...              ...   \n",
       "14198           FDB58        10.50          Regular         0.013496   \n",
       "14199           FDD47         7.60          Regular         0.142991   \n",
       "14200           NCO17        10.00          Low Fat         0.073529   \n",
       "14201           FDJ26        15.30          Regular         0.000000   \n",
       "14202           FDU37         9.50          Regular         0.104720   \n",
       "\n",
       "                   Item_Type  Item_MRP Outlet_Identifier  \\\n",
       "0                      Dairy  249.8092            OUT049   \n",
       "1                Soft Drinks   48.2692            OUT018   \n",
       "2                       Meat  141.6180            OUT049   \n",
       "3      Fruits and Vegetables  182.0950            OUT010   \n",
       "4                  Household   53.8614            OUT013   \n",
       "...                      ...       ...               ...   \n",
       "14198            Snack Foods  141.3154            OUT046   \n",
       "14199          Starchy Foods  169.1448            OUT018   \n",
       "14200     Health and Hygiene  118.7440            OUT045   \n",
       "14201                 Canned  214.6218            OUT017   \n",
       "14202                 Canned   79.7960            OUT045   \n",
       "\n",
       "       Outlet_Establishment_Year Outlet_Size Outlet_Location_Type  \\\n",
       "0                           1999      Medium               Tier 1   \n",
       "1                           2009      Medium               Tier 3   \n",
       "2                           1999      Medium               Tier 1   \n",
       "3                           1998         NaN               Tier 3   \n",
       "4                           1987        High               Tier 3   \n",
       "...                          ...         ...                  ...   \n",
       "14198                       1997       Small               Tier 1   \n",
       "14199                       2009      Medium               Tier 3   \n",
       "14200                       2002         NaN               Tier 2   \n",
       "14201                       2007         NaN               Tier 2   \n",
       "14202                       2002         NaN               Tier 2   \n",
       "\n",
       "             Outlet_Type Source  \n",
       "0      Supermarket Type1  train  \n",
       "1      Supermarket Type2  train  \n",
       "2      Supermarket Type1  train  \n",
       "3          Grocery Store  train  \n",
       "4      Supermarket Type1  train  \n",
       "...                  ...    ...  \n",
       "14198  Supermarket Type1   test  \n",
       "14199  Supermarket Type2   test  \n",
       "14200  Supermarket Type1   test  \n",
       "14201  Supermarket Type1   test  \n",
       "14202  Supermarket Type1   test  \n",
       "\n",
       "[14203 rows x 12 columns]"
      ]
     },
     "execution_count": 11,
     "metadata": {},
     "output_type": "execute_result"
    }
   ],
   "source": [
    "df"
   ]
  },
  {
   "cell_type": "markdown",
   "id": "63b887ca",
   "metadata": {},
   "source": [
    "## Investigating the Dataframe"
   ]
  },
  {
   "cell_type": "code",
   "execution_count": 12,
   "id": "8204e0f0",
   "metadata": {},
   "outputs": [
    {
     "data": {
      "application/vnd.microsoft.datawrangler.viewer.v0+json": {
       "columns": [
        {
         "name": "index",
         "rawType": "object",
         "type": "string"
        },
        {
         "name": "Item_Weight",
         "rawType": "float64",
         "type": "float"
        },
        {
         "name": "Item_Visibility",
         "rawType": "float64",
         "type": "float"
        },
        {
         "name": "Item_MRP",
         "rawType": "float64",
         "type": "float"
        },
        {
         "name": "Outlet_Establishment_Year",
         "rawType": "float64",
         "type": "float"
        }
       ],
       "ref": "ff7ce18b-6780-4360-9617-7c7ec7a369fd",
       "rows": [
        [
         "count",
         "11764.0",
         "14203.0",
         "14203.0",
         "14203.0"
        ],
        [
         "mean",
         "12.792683611016662",
         "0.06595426388023656",
         "141.00959163556996",
         "1997.8307399845103"
        ],
        [
         "std",
         "4.65266323413953",
         "0.05146010300962552",
         "62.08668809270586",
         "8.37195569912131"
        ],
        [
         "min",
         "4.555",
         "0.0",
         "31.29",
         "1985.0"
        ],
        [
         "25%",
         "8.71",
         "0.027034522999999998",
         "94.0278",
         "1987.0"
        ],
        [
         "50%",
         "12.6",
         "0.054025644",
         "142.247",
         "1999.0"
        ],
        [
         "75%",
         "16.75",
         "0.094037266",
         "185.8556",
         "2004.0"
        ],
        [
         "max",
         "21.35",
         "0.328390948",
         "266.8884",
         "2009.0"
        ]
       ],
       "shape": {
        "columns": 4,
        "rows": 8
       }
      },
      "text/html": [
       "<div>\n",
       "<style scoped>\n",
       "    .dataframe tbody tr th:only-of-type {\n",
       "        vertical-align: middle;\n",
       "    }\n",
       "\n",
       "    .dataframe tbody tr th {\n",
       "        vertical-align: top;\n",
       "    }\n",
       "\n",
       "    .dataframe thead th {\n",
       "        text-align: right;\n",
       "    }\n",
       "</style>\n",
       "<table border=\"1\" class=\"dataframe\">\n",
       "  <thead>\n",
       "    <tr style=\"text-align: right;\">\n",
       "      <th></th>\n",
       "      <th>Item_Weight</th>\n",
       "      <th>Item_Visibility</th>\n",
       "      <th>Item_MRP</th>\n",
       "      <th>Outlet_Establishment_Year</th>\n",
       "    </tr>\n",
       "  </thead>\n",
       "  <tbody>\n",
       "    <tr>\n",
       "      <th>count</th>\n",
       "      <td>11764.000000</td>\n",
       "      <td>14203.000000</td>\n",
       "      <td>14203.000000</td>\n",
       "      <td>14203.000000</td>\n",
       "    </tr>\n",
       "    <tr>\n",
       "      <th>mean</th>\n",
       "      <td>12.792684</td>\n",
       "      <td>0.065954</td>\n",
       "      <td>141.009592</td>\n",
       "      <td>1997.830740</td>\n",
       "    </tr>\n",
       "    <tr>\n",
       "      <th>std</th>\n",
       "      <td>4.652663</td>\n",
       "      <td>0.051460</td>\n",
       "      <td>62.086688</td>\n",
       "      <td>8.371956</td>\n",
       "    </tr>\n",
       "    <tr>\n",
       "      <th>min</th>\n",
       "      <td>4.555000</td>\n",
       "      <td>0.000000</td>\n",
       "      <td>31.290000</td>\n",
       "      <td>1985.000000</td>\n",
       "    </tr>\n",
       "    <tr>\n",
       "      <th>25%</th>\n",
       "      <td>8.710000</td>\n",
       "      <td>0.027035</td>\n",
       "      <td>94.027800</td>\n",
       "      <td>1987.000000</td>\n",
       "    </tr>\n",
       "    <tr>\n",
       "      <th>50%</th>\n",
       "      <td>12.600000</td>\n",
       "      <td>0.054026</td>\n",
       "      <td>142.247000</td>\n",
       "      <td>1999.000000</td>\n",
       "    </tr>\n",
       "    <tr>\n",
       "      <th>75%</th>\n",
       "      <td>16.750000</td>\n",
       "      <td>0.094037</td>\n",
       "      <td>185.855600</td>\n",
       "      <td>2004.000000</td>\n",
       "    </tr>\n",
       "    <tr>\n",
       "      <th>max</th>\n",
       "      <td>21.350000</td>\n",
       "      <td>0.328391</td>\n",
       "      <td>266.888400</td>\n",
       "      <td>2009.000000</td>\n",
       "    </tr>\n",
       "  </tbody>\n",
       "</table>\n",
       "</div>"
      ],
      "text/plain": [
       "        Item_Weight  Item_Visibility      Item_MRP  Outlet_Establishment_Year\n",
       "count  11764.000000     14203.000000  14203.000000               14203.000000\n",
       "mean      12.792684         0.065954    141.009592                1997.830740\n",
       "std        4.652663         0.051460     62.086688                   8.371956\n",
       "min        4.555000         0.000000     31.290000                1985.000000\n",
       "25%        8.710000         0.027035     94.027800                1987.000000\n",
       "50%       12.600000         0.054026    142.247000                1999.000000\n",
       "75%       16.750000         0.094037    185.855600                2004.000000\n",
       "max       21.350000         0.328391    266.888400                2009.000000"
      ]
     },
     "execution_count": 12,
     "metadata": {},
     "output_type": "execute_result"
    }
   ],
   "source": [
    "df.describe()"
   ]
  },
  {
   "cell_type": "code",
   "execution_count": 13,
   "id": "37dd2215",
   "metadata": {},
   "outputs": [
    {
     "name": "stdout",
     "output_type": "stream",
     "text": [
      "<class 'pandas.core.frame.DataFrame'>\n",
      "RangeIndex: 14203 entries, 0 to 14202\n",
      "Data columns (total 12 columns):\n",
      " #   Column                     Non-Null Count  Dtype  \n",
      "---  ------                     --------------  -----  \n",
      " 0   Item_Identifier            14203 non-null  object \n",
      " 1   Item_Weight                11764 non-null  float64\n",
      " 2   Item_Fat_Content           14203 non-null  object \n",
      " 3   Item_Visibility            14203 non-null  float64\n",
      " 4   Item_Type                  14203 non-null  object \n",
      " 5   Item_MRP                   14203 non-null  float64\n",
      " 6   Outlet_Identifier          14203 non-null  object \n",
      " 7   Outlet_Establishment_Year  14203 non-null  int64  \n",
      " 8   Outlet_Size                10187 non-null  object \n",
      " 9   Outlet_Location_Type       14203 non-null  object \n",
      " 10  Outlet_Type                14203 non-null  object \n",
      " 11  Source                     14203 non-null  object \n",
      "dtypes: float64(3), int64(1), object(8)\n",
      "memory usage: 1.3+ MB\n"
     ]
    }
   ],
   "source": [
    "df.info()"
   ]
  },
  {
   "cell_type": "code",
   "execution_count": 14,
   "id": "70979230",
   "metadata": {},
   "outputs": [
    {
     "data": {
      "application/vnd.microsoft.datawrangler.viewer.v0+json": {
       "columns": [
        {
         "name": "index",
         "rawType": "object",
         "type": "string"
        },
        {
         "name": "0",
         "rawType": "int64",
         "type": "integer"
        }
       ],
       "ref": "ca05eb3f-241f-415b-b6ae-072a7395c25a",
       "rows": [
        [
         "Item_Identifier",
         "0"
        ],
        [
         "Item_Weight",
         "2439"
        ],
        [
         "Item_Fat_Content",
         "0"
        ],
        [
         "Item_Visibility",
         "0"
        ],
        [
         "Item_Type",
         "0"
        ],
        [
         "Item_MRP",
         "0"
        ],
        [
         "Outlet_Identifier",
         "0"
        ],
        [
         "Outlet_Establishment_Year",
         "0"
        ],
        [
         "Outlet_Size",
         "4016"
        ],
        [
         "Outlet_Location_Type",
         "0"
        ],
        [
         "Outlet_Type",
         "0"
        ],
        [
         "Source",
         "0"
        ]
       ],
       "shape": {
        "columns": 1,
        "rows": 12
       }
      },
      "text/plain": [
       "Item_Identifier                 0\n",
       "Item_Weight                  2439\n",
       "Item_Fat_Content                0\n",
       "Item_Visibility                 0\n",
       "Item_Type                       0\n",
       "Item_MRP                        0\n",
       "Outlet_Identifier               0\n",
       "Outlet_Establishment_Year       0\n",
       "Outlet_Size                  4016\n",
       "Outlet_Location_Type            0\n",
       "Outlet_Type                     0\n",
       "Source                          0\n",
       "dtype: int64"
      ]
     },
     "execution_count": 14,
     "metadata": {},
     "output_type": "execute_result"
    }
   ],
   "source": [
    "df.isnull().sum()"
   ]
  },
  {
   "cell_type": "markdown",
   "id": "6abaa1b4",
   "metadata": {},
   "source": [
    "## Handling the Missing Values"
   ]
  },
  {
   "cell_type": "code",
   "execution_count": 15,
   "id": "361ac31a",
   "metadata": {},
   "outputs": [],
   "source": [
    "df['Item_Weight'].fillna(df['Item_Weight'].mean(),inplace=True)"
   ]
  },
  {
   "cell_type": "code",
   "execution_count": 16,
   "id": "7d8b01ec",
   "metadata": {},
   "outputs": [
    {
     "data": {
      "application/vnd.microsoft.datawrangler.viewer.v0+json": {
       "columns": [
        {
         "name": "index",
         "rawType": "object",
         "type": "string"
        },
        {
         "name": "0",
         "rawType": "int64",
         "type": "integer"
        }
       ],
       "ref": "7418935c-e32f-4312-92fa-e5ccf709a803",
       "rows": [
        [
         "Item_Identifier",
         "0"
        ],
        [
         "Item_Weight",
         "0"
        ],
        [
         "Item_Fat_Content",
         "0"
        ],
        [
         "Item_Visibility",
         "0"
        ],
        [
         "Item_Type",
         "0"
        ],
        [
         "Item_MRP",
         "0"
        ],
        [
         "Outlet_Identifier",
         "0"
        ],
        [
         "Outlet_Establishment_Year",
         "0"
        ],
        [
         "Outlet_Size",
         "4016"
        ],
        [
         "Outlet_Location_Type",
         "0"
        ],
        [
         "Outlet_Type",
         "0"
        ],
        [
         "Source",
         "0"
        ]
       ],
       "shape": {
        "columns": 1,
        "rows": 12
       }
      },
      "text/plain": [
       "Item_Identifier                 0\n",
       "Item_Weight                     0\n",
       "Item_Fat_Content                0\n",
       "Item_Visibility                 0\n",
       "Item_Type                       0\n",
       "Item_MRP                        0\n",
       "Outlet_Identifier               0\n",
       "Outlet_Establishment_Year       0\n",
       "Outlet_Size                  4016\n",
       "Outlet_Location_Type            0\n",
       "Outlet_Type                     0\n",
       "Source                          0\n",
       "dtype: int64"
      ]
     },
     "execution_count": 16,
     "metadata": {},
     "output_type": "execute_result"
    }
   ],
   "source": [
    "df.isnull().sum()"
   ]
  },
  {
   "cell_type": "code",
   "execution_count": 17,
   "id": "bcc585fe",
   "metadata": {},
   "outputs": [],
   "source": [
    "mode = df.pivot_table(values='Outlet_Size',columns='Outlet_Type',aggfunc=lambda x : x.mode()[0])"
   ]
  },
  {
   "cell_type": "code",
   "execution_count": 18,
   "id": "5f9a9a18",
   "metadata": {},
   "outputs": [
    {
     "data": {
      "application/vnd.microsoft.datawrangler.viewer.v0+json": {
       "columns": [
        {
         "name": "index",
         "rawType": "object",
         "type": "string"
        },
        {
         "name": "Grocery Store",
         "rawType": "object",
         "type": "string"
        },
        {
         "name": "Supermarket Type1",
         "rawType": "object",
         "type": "string"
        },
        {
         "name": "Supermarket Type2",
         "rawType": "object",
         "type": "string"
        },
        {
         "name": "Supermarket Type3",
         "rawType": "object",
         "type": "string"
        }
       ],
       "ref": "5a2ef8ac-61f5-4125-8961-788351e1cee1",
       "rows": [
        [
         "Outlet_Size",
         "Small",
         "Small",
         "Medium",
         "Medium"
        ]
       ],
       "shape": {
        "columns": 4,
        "rows": 1
       }
      },
      "text/html": [
       "<div>\n",
       "<style scoped>\n",
       "    .dataframe tbody tr th:only-of-type {\n",
       "        vertical-align: middle;\n",
       "    }\n",
       "\n",
       "    .dataframe tbody tr th {\n",
       "        vertical-align: top;\n",
       "    }\n",
       "\n",
       "    .dataframe thead th {\n",
       "        text-align: right;\n",
       "    }\n",
       "</style>\n",
       "<table border=\"1\" class=\"dataframe\">\n",
       "  <thead>\n",
       "    <tr style=\"text-align: right;\">\n",
       "      <th>Outlet_Type</th>\n",
       "      <th>Grocery Store</th>\n",
       "      <th>Supermarket Type1</th>\n",
       "      <th>Supermarket Type2</th>\n",
       "      <th>Supermarket Type3</th>\n",
       "    </tr>\n",
       "  </thead>\n",
       "  <tbody>\n",
       "    <tr>\n",
       "      <th>Outlet_Size</th>\n",
       "      <td>Small</td>\n",
       "      <td>Small</td>\n",
       "      <td>Medium</td>\n",
       "      <td>Medium</td>\n",
       "    </tr>\n",
       "  </tbody>\n",
       "</table>\n",
       "</div>"
      ],
      "text/plain": [
       "Outlet_Type Grocery Store Supermarket Type1 Supermarket Type2  \\\n",
       "Outlet_Size         Small             Small            Medium   \n",
       "\n",
       "Outlet_Type Supermarket Type3  \n",
       "Outlet_Size            Medium  "
      ]
     },
     "execution_count": 18,
     "metadata": {},
     "output_type": "execute_result"
    }
   ],
   "source": [
    "mode"
   ]
  },
  {
   "cell_type": "code",
   "execution_count": 19,
   "id": "f500689d",
   "metadata": {},
   "outputs": [],
   "source": [
    "missing_values = df['Outlet_Size'].isnull()"
   ]
  },
  {
   "cell_type": "code",
   "execution_count": 20,
   "id": "f843dd1c",
   "metadata": {},
   "outputs": [
    {
     "data": {
      "application/vnd.microsoft.datawrangler.viewer.v0+json": {
       "columns": [
        {
         "name": "Outlet_Size",
         "rawType": "bool",
         "type": "boolean"
        },
        {
         "name": "count",
         "rawType": "int64",
         "type": "integer"
        }
       ],
       "ref": "9d0003f5-47ac-4db9-8e7d-5825c9fd6250",
       "rows": [
        [
         "False",
         "10187"
        ],
        [
         "True",
         "4016"
        ]
       ],
       "shape": {
        "columns": 1,
        "rows": 2
       }
      },
      "text/plain": [
       "Outlet_Size\n",
       "False    10187\n",
       "True      4016\n",
       "Name: count, dtype: int64"
      ]
     },
     "execution_count": 20,
     "metadata": {},
     "output_type": "execute_result"
    }
   ],
   "source": [
    "missing_values.value_counts()"
   ]
  },
  {
   "cell_type": "code",
   "execution_count": 21,
   "id": "29d394a7",
   "metadata": {},
   "outputs": [],
   "source": [
    "df.loc[missing_values,'Outlet_Size']=df.loc[missing_values,'Outlet_Type'].apply(lambda x : mode[x])"
   ]
  },
  {
   "cell_type": "code",
   "execution_count": 22,
   "id": "4361f83c",
   "metadata": {},
   "outputs": [
    {
     "data": {
      "application/vnd.microsoft.datawrangler.viewer.v0+json": {
       "columns": [
        {
         "name": "index",
         "rawType": "object",
         "type": "string"
        },
        {
         "name": "0",
         "rawType": "int64",
         "type": "integer"
        }
       ],
       "ref": "2561c090-4877-4bf6-acc1-8748c135c6ce",
       "rows": [
        [
         "Item_Identifier",
         "0"
        ],
        [
         "Item_Weight",
         "0"
        ],
        [
         "Item_Fat_Content",
         "0"
        ],
        [
         "Item_Visibility",
         "0"
        ],
        [
         "Item_Type",
         "0"
        ],
        [
         "Item_MRP",
         "0"
        ],
        [
         "Outlet_Identifier",
         "0"
        ],
        [
         "Outlet_Establishment_Year",
         "0"
        ],
        [
         "Outlet_Size",
         "0"
        ],
        [
         "Outlet_Location_Type",
         "0"
        ],
        [
         "Outlet_Type",
         "0"
        ],
        [
         "Source",
         "0"
        ]
       ],
       "shape": {
        "columns": 1,
        "rows": 12
       }
      },
      "text/plain": [
       "Item_Identifier              0\n",
       "Item_Weight                  0\n",
       "Item_Fat_Content             0\n",
       "Item_Visibility              0\n",
       "Item_Type                    0\n",
       "Item_MRP                     0\n",
       "Outlet_Identifier            0\n",
       "Outlet_Establishment_Year    0\n",
       "Outlet_Size                  0\n",
       "Outlet_Location_Type         0\n",
       "Outlet_Type                  0\n",
       "Source                       0\n",
       "dtype: int64"
      ]
     },
     "execution_count": 22,
     "metadata": {},
     "output_type": "execute_result"
    }
   ],
   "source": [
    "df.isnull().sum()"
   ]
  },
  {
   "cell_type": "code",
   "execution_count": 23,
   "id": "f647d300",
   "metadata": {},
   "outputs": [
    {
     "data": {
      "application/vnd.microsoft.datawrangler.viewer.v0+json": {
       "columns": [
        {
         "name": "index",
         "rawType": "object",
         "type": "string"
        },
        {
         "name": "Item_Weight",
         "rawType": "float64",
         "type": "float"
        },
        {
         "name": "Item_Visibility",
         "rawType": "float64",
         "type": "float"
        },
        {
         "name": "Item_MRP",
         "rawType": "float64",
         "type": "float"
        },
        {
         "name": "Outlet_Establishment_Year",
         "rawType": "float64",
         "type": "float"
        }
       ],
       "ref": "c1c9bbab-2684-408a-aca0-83fd78bb597b",
       "rows": [
        [
         "count",
         "14203.0",
         "14203.0",
         "14203.0",
         "14203.0"
        ],
        [
         "mean",
         "12.79268361101666",
         "0.06595426388023656",
         "141.00959163556996",
         "1997.8307399845103"
        ],
        [
         "std",
         "4.234341814320968",
         "0.05146010300962552",
         "62.08668809270586",
         "8.37195569912131"
        ],
        [
         "min",
         "4.555",
         "0.0",
         "31.29",
         "1985.0"
        ],
        [
         "25%",
         "9.3",
         "0.027034522999999998",
         "94.0278",
         "1987.0"
        ],
        [
         "50%",
         "12.792683611016662",
         "0.054025644",
         "142.247",
         "1999.0"
        ],
        [
         "75%",
         "16.0",
         "0.094037266",
         "185.8556",
         "2004.0"
        ],
        [
         "max",
         "21.35",
         "0.328390948",
         "266.8884",
         "2009.0"
        ]
       ],
       "shape": {
        "columns": 4,
        "rows": 8
       }
      },
      "text/html": [
       "<div>\n",
       "<style scoped>\n",
       "    .dataframe tbody tr th:only-of-type {\n",
       "        vertical-align: middle;\n",
       "    }\n",
       "\n",
       "    .dataframe tbody tr th {\n",
       "        vertical-align: top;\n",
       "    }\n",
       "\n",
       "    .dataframe thead th {\n",
       "        text-align: right;\n",
       "    }\n",
       "</style>\n",
       "<table border=\"1\" class=\"dataframe\">\n",
       "  <thead>\n",
       "    <tr style=\"text-align: right;\">\n",
       "      <th></th>\n",
       "      <th>Item_Weight</th>\n",
       "      <th>Item_Visibility</th>\n",
       "      <th>Item_MRP</th>\n",
       "      <th>Outlet_Establishment_Year</th>\n",
       "    </tr>\n",
       "  </thead>\n",
       "  <tbody>\n",
       "    <tr>\n",
       "      <th>count</th>\n",
       "      <td>14203.000000</td>\n",
       "      <td>14203.000000</td>\n",
       "      <td>14203.000000</td>\n",
       "      <td>14203.000000</td>\n",
       "    </tr>\n",
       "    <tr>\n",
       "      <th>mean</th>\n",
       "      <td>12.792684</td>\n",
       "      <td>0.065954</td>\n",
       "      <td>141.009592</td>\n",
       "      <td>1997.830740</td>\n",
       "    </tr>\n",
       "    <tr>\n",
       "      <th>std</th>\n",
       "      <td>4.234342</td>\n",
       "      <td>0.051460</td>\n",
       "      <td>62.086688</td>\n",
       "      <td>8.371956</td>\n",
       "    </tr>\n",
       "    <tr>\n",
       "      <th>min</th>\n",
       "      <td>4.555000</td>\n",
       "      <td>0.000000</td>\n",
       "      <td>31.290000</td>\n",
       "      <td>1985.000000</td>\n",
       "    </tr>\n",
       "    <tr>\n",
       "      <th>25%</th>\n",
       "      <td>9.300000</td>\n",
       "      <td>0.027035</td>\n",
       "      <td>94.027800</td>\n",
       "      <td>1987.000000</td>\n",
       "    </tr>\n",
       "    <tr>\n",
       "      <th>50%</th>\n",
       "      <td>12.792684</td>\n",
       "      <td>0.054026</td>\n",
       "      <td>142.247000</td>\n",
       "      <td>1999.000000</td>\n",
       "    </tr>\n",
       "    <tr>\n",
       "      <th>75%</th>\n",
       "      <td>16.000000</td>\n",
       "      <td>0.094037</td>\n",
       "      <td>185.855600</td>\n",
       "      <td>2004.000000</td>\n",
       "    </tr>\n",
       "    <tr>\n",
       "      <th>max</th>\n",
       "      <td>21.350000</td>\n",
       "      <td>0.328391</td>\n",
       "      <td>266.888400</td>\n",
       "      <td>2009.000000</td>\n",
       "    </tr>\n",
       "  </tbody>\n",
       "</table>\n",
       "</div>"
      ],
      "text/plain": [
       "        Item_Weight  Item_Visibility      Item_MRP  Outlet_Establishment_Year\n",
       "count  14203.000000     14203.000000  14203.000000               14203.000000\n",
       "mean      12.792684         0.065954    141.009592                1997.830740\n",
       "std        4.234342         0.051460     62.086688                   8.371956\n",
       "min        4.555000         0.000000     31.290000                1985.000000\n",
       "25%        9.300000         0.027035     94.027800                1987.000000\n",
       "50%       12.792684         0.054026    142.247000                1999.000000\n",
       "75%       16.000000         0.094037    185.855600                2004.000000\n",
       "max       21.350000         0.328391    266.888400                2009.000000"
      ]
     },
     "execution_count": 23,
     "metadata": {},
     "output_type": "execute_result"
    }
   ],
   "source": [
    "df.describe()"
   ]
  },
  {
   "cell_type": "markdown",
   "id": "aa8c53d3",
   "metadata": {},
   "source": [
    "## Exploratory Data Analysis"
   ]
  },
  {
   "cell_type": "code",
   "execution_count": 24,
   "id": "8d255ec5",
   "metadata": {},
   "outputs": [
    {
     "data": {
      "text/plain": [
       "Index(['Item_Identifier', 'Item_Weight', 'Item_Fat_Content', 'Item_Visibility',\n",
       "       'Item_Type', 'Item_MRP', 'Outlet_Identifier',\n",
       "       'Outlet_Establishment_Year', 'Outlet_Size', 'Outlet_Location_Type',\n",
       "       'Outlet_Type', 'Source'],\n",
       "      dtype='object')"
      ]
     },
     "execution_count": 24,
     "metadata": {},
     "output_type": "execute_result"
    }
   ],
   "source": [
    "df.columns"
   ]
  },
  {
   "cell_type": "code",
   "execution_count": 25,
   "id": "d2c477df",
   "metadata": {},
   "outputs": [
    {
     "name": "stdout",
     "output_type": "stream",
     "text": [
      "<class 'pandas.core.frame.DataFrame'>\n",
      "RangeIndex: 14203 entries, 0 to 14202\n",
      "Data columns (total 12 columns):\n",
      " #   Column                     Non-Null Count  Dtype  \n",
      "---  ------                     --------------  -----  \n",
      " 0   Item_Identifier            14203 non-null  object \n",
      " 1   Item_Weight                14203 non-null  float64\n",
      " 2   Item_Fat_Content           14203 non-null  object \n",
      " 3   Item_Visibility            14203 non-null  float64\n",
      " 4   Item_Type                  14203 non-null  object \n",
      " 5   Item_MRP                   14203 non-null  float64\n",
      " 6   Outlet_Identifier          14203 non-null  object \n",
      " 7   Outlet_Establishment_Year  14203 non-null  int64  \n",
      " 8   Outlet_Size                14203 non-null  object \n",
      " 9   Outlet_Location_Type       14203 non-null  object \n",
      " 10  Outlet_Type                14203 non-null  object \n",
      " 11  Source                     14203 non-null  object \n",
      "dtypes: float64(3), int64(1), object(8)\n",
      "memory usage: 1.3+ MB\n"
     ]
    }
   ],
   "source": [
    "df.info()"
   ]
  },
  {
   "cell_type": "code",
   "execution_count": 26,
   "id": "1f994a0e",
   "metadata": {},
   "outputs": [
    {
     "data": {
      "text/plain": [
       "['Item_Weight', 'Item_Visibility', 'Item_MRP', 'Outlet_Establishment_Year']"
      ]
     },
     "execution_count": 26,
     "metadata": {},
     "output_type": "execute_result"
    }
   ],
   "source": [
    "numeric_df = df.select_dtypes(include='number')\n",
    "num_cols=list(numeric_df.columns)\n",
    "num_cols"
   ]
  },
  {
   "cell_type": "code",
   "execution_count": 27,
   "id": "3dddeba2",
   "metadata": {},
   "outputs": [
    {
     "data": {
      "text/plain": [
       "['Item_Identifier',\n",
       " 'Item_Fat_Content',\n",
       " 'Item_Type',\n",
       " 'Outlet_Identifier',\n",
       " 'Outlet_Size',\n",
       " 'Outlet_Location_Type',\n",
       " 'Outlet_Type',\n",
       " 'Source']"
      ]
     },
     "execution_count": 27,
     "metadata": {},
     "output_type": "execute_result"
    }
   ],
   "source": [
    "object_df = df.select_dtypes(include='object')\n",
    "obj_cols=list(object_df.columns)\n",
    "obj_cols"
   ]
  },
  {
   "cell_type": "markdown",
   "id": "4ff472f8",
   "metadata": {},
   "source": [
    "### Numeric EDA"
   ]
  },
  {
   "cell_type": "markdown",
   "id": "7fa3f84f",
   "metadata": {},
   "source": [
    "#### 1. Summary Statistics"
   ]
  },
  {
   "cell_type": "code",
   "execution_count": 28,
   "id": "debd53dd",
   "metadata": {},
   "outputs": [],
   "source": [
    "def numeric_summary(df, num_cols):\n",
    "    return df[num_cols].describe()"
   ]
  },
  {
   "cell_type": "code",
   "execution_count": 29,
   "id": "adbf91cc",
   "metadata": {},
   "outputs": [
    {
     "data": {
      "application/vnd.microsoft.datawrangler.viewer.v0+json": {
       "columns": [
        {
         "name": "index",
         "rawType": "object",
         "type": "string"
        },
        {
         "name": "Item_Weight",
         "rawType": "float64",
         "type": "float"
        },
        {
         "name": "Item_Visibility",
         "rawType": "float64",
         "type": "float"
        },
        {
         "name": "Item_MRP",
         "rawType": "float64",
         "type": "float"
        },
        {
         "name": "Outlet_Establishment_Year",
         "rawType": "float64",
         "type": "float"
        }
       ],
       "ref": "82f7ab6c-ea3e-42cb-8e79-dbbf5d2adf9a",
       "rows": [
        [
         "count",
         "14203.0",
         "14203.0",
         "14203.0",
         "14203.0"
        ],
        [
         "mean",
         "12.79268361101666",
         "0.06595426388023656",
         "141.00959163556996",
         "1997.8307399845103"
        ],
        [
         "std",
         "4.234341814320968",
         "0.05146010300962552",
         "62.08668809270586",
         "8.37195569912131"
        ],
        [
         "min",
         "4.555",
         "0.0",
         "31.29",
         "1985.0"
        ],
        [
         "25%",
         "9.3",
         "0.027034522999999998",
         "94.0278",
         "1987.0"
        ],
        [
         "50%",
         "12.792683611016662",
         "0.054025644",
         "142.247",
         "1999.0"
        ],
        [
         "75%",
         "16.0",
         "0.094037266",
         "185.8556",
         "2004.0"
        ],
        [
         "max",
         "21.35",
         "0.328390948",
         "266.8884",
         "2009.0"
        ]
       ],
       "shape": {
        "columns": 4,
        "rows": 8
       }
      },
      "text/html": [
       "<div>\n",
       "<style scoped>\n",
       "    .dataframe tbody tr th:only-of-type {\n",
       "        vertical-align: middle;\n",
       "    }\n",
       "\n",
       "    .dataframe tbody tr th {\n",
       "        vertical-align: top;\n",
       "    }\n",
       "\n",
       "    .dataframe thead th {\n",
       "        text-align: right;\n",
       "    }\n",
       "</style>\n",
       "<table border=\"1\" class=\"dataframe\">\n",
       "  <thead>\n",
       "    <tr style=\"text-align: right;\">\n",
       "      <th></th>\n",
       "      <th>Item_Weight</th>\n",
       "      <th>Item_Visibility</th>\n",
       "      <th>Item_MRP</th>\n",
       "      <th>Outlet_Establishment_Year</th>\n",
       "    </tr>\n",
       "  </thead>\n",
       "  <tbody>\n",
       "    <tr>\n",
       "      <th>count</th>\n",
       "      <td>14203.000000</td>\n",
       "      <td>14203.000000</td>\n",
       "      <td>14203.000000</td>\n",
       "      <td>14203.000000</td>\n",
       "    </tr>\n",
       "    <tr>\n",
       "      <th>mean</th>\n",
       "      <td>12.792684</td>\n",
       "      <td>0.065954</td>\n",
       "      <td>141.009592</td>\n",
       "      <td>1997.830740</td>\n",
       "    </tr>\n",
       "    <tr>\n",
       "      <th>std</th>\n",
       "      <td>4.234342</td>\n",
       "      <td>0.051460</td>\n",
       "      <td>62.086688</td>\n",
       "      <td>8.371956</td>\n",
       "    </tr>\n",
       "    <tr>\n",
       "      <th>min</th>\n",
       "      <td>4.555000</td>\n",
       "      <td>0.000000</td>\n",
       "      <td>31.290000</td>\n",
       "      <td>1985.000000</td>\n",
       "    </tr>\n",
       "    <tr>\n",
       "      <th>25%</th>\n",
       "      <td>9.300000</td>\n",
       "      <td>0.027035</td>\n",
       "      <td>94.027800</td>\n",
       "      <td>1987.000000</td>\n",
       "    </tr>\n",
       "    <tr>\n",
       "      <th>50%</th>\n",
       "      <td>12.792684</td>\n",
       "      <td>0.054026</td>\n",
       "      <td>142.247000</td>\n",
       "      <td>1999.000000</td>\n",
       "    </tr>\n",
       "    <tr>\n",
       "      <th>75%</th>\n",
       "      <td>16.000000</td>\n",
       "      <td>0.094037</td>\n",
       "      <td>185.855600</td>\n",
       "      <td>2004.000000</td>\n",
       "    </tr>\n",
       "    <tr>\n",
       "      <th>max</th>\n",
       "      <td>21.350000</td>\n",
       "      <td>0.328391</td>\n",
       "      <td>266.888400</td>\n",
       "      <td>2009.000000</td>\n",
       "    </tr>\n",
       "  </tbody>\n",
       "</table>\n",
       "</div>"
      ],
      "text/plain": [
       "        Item_Weight  Item_Visibility      Item_MRP  Outlet_Establishment_Year\n",
       "count  14203.000000     14203.000000  14203.000000               14203.000000\n",
       "mean      12.792684         0.065954    141.009592                1997.830740\n",
       "std        4.234342         0.051460     62.086688                   8.371956\n",
       "min        4.555000         0.000000     31.290000                1985.000000\n",
       "25%        9.300000         0.027035     94.027800                1987.000000\n",
       "50%       12.792684         0.054026    142.247000                1999.000000\n",
       "75%       16.000000         0.094037    185.855600                2004.000000\n",
       "max       21.350000         0.328391    266.888400                2009.000000"
      ]
     },
     "execution_count": 29,
     "metadata": {},
     "output_type": "execute_result"
    }
   ],
   "source": [
    "numeric_summary(df, num_cols)"
   ]
  },
  {
   "cell_type": "markdown",
   "id": "a9ce3997",
   "metadata": {},
   "source": [
    "#### 2. Distribution Plots (Histograms)"
   ]
  },
  {
   "cell_type": "code",
   "execution_count": 30,
   "id": "d2504be8",
   "metadata": {},
   "outputs": [],
   "source": [
    "def plot_numeric_distributions(df, num_cols):\n",
    "    for col in num_cols:\n",
    "        plt.figure(figsize=(6, 4))\n",
    "        sns.histplot(df[col], kde=True, bins=30)\n",
    "        plt.title(f'Distribution of {col}')\n",
    "        plt.show()"
   ]
  },
  {
   "cell_type": "code",
   "execution_count": 31,
   "id": "6df14079",
   "metadata": {},
   "outputs": [
    {
     "data": {
      "image/png": "[encoded data removed]",
      "text/plain": [
       "<Figure size 600x400 with 1 Axes>"
      ]
     },
     "metadata": {},
     "output_type": "display_data"
    },
    {
     "data": {
      "image/png": "[encoded data removed]",
      "text/plain": [
       "<Figure size 600x400 with 1 Axes>"
      ]
     },
     "metadata": {},
     "output_type": "display_data"
    },
    {
     "data": {
      "image/png": "[encoded data removed]",
      "text/plain": [
       "<Figure size 600x400 with 1 Axes>"
      ]
     },
     "metadata": {},
     "output_type": "display_data"
    },
    {
     "data": {
      "image/png": "[encoded data removed]",
      "text/plain": [
       "<Figure size 600x400 with 1 Axes>"
      ]
     },
     "metadata": {},
     "output_type": "display_data"
    }
   ],
   "source": [
    "plot_numeric_distributions(df, num_cols)"
   ]
  },
  {
   "cell_type": "markdown",
   "id": "5d7f1567",
   "metadata": {},
   "source": [
    "#### 3. Boxplots for Outliers"
   ]
  },
  {
   "cell_type": "code",
   "execution_count": 32,
   "id": "aa6fdb79",
   "metadata": {},
   "outputs": [],
   "source": [
    "def plot_numeric_boxplots(df, num_cols):\n",
    "    for col in num_cols:\n",
    "        plt.figure(figsize=(6, 4))\n",
    "        sns.boxplot(x=df[col])\n",
    "        plt.title(f'Boxplot of {col}')\n",
    "        plt.show()"
   ]
  },
  {
   "cell_type": "code",
   "execution_count": 33,
   "id": "c47856fa",
   "metadata": {},
   "outputs": [
    {
     "data": {
      "image/png": "[encoded data removed]",
      "text/plain": [
       "<Figure size 600x400 with 1 Axes>"
      ]
     },
     "metadata": {},
     "output_type": "display_data"
    },
    {
     "data": {
      "image/png": "[encoded data removed]",
      "text/plain": [
       "<Figure size 600x400 with 1 Axes>"
      ]
     },
     "metadata": {},
     "output_type": "display_data"
    },
    {
     "data": {
      "image/png": "[encoded data removed]",
      "text/plain": [
       "<Figure size 600x400 with 1 Axes>"
      ]
     },
     "metadata": {},
     "output_type": "display_data"
    },
    {
     "data": {
      "image/png": "[encoded data removed]",
      "text/plain": [
       "<Figure size 600x400 with 1 Axes>"
      ]
     },
     "metadata": {},
     "output_type": "display_data"
    }
   ],
   "source": [
    "plot_numeric_boxplots(df, num_cols)"
   ]
  },
  {
   "cell_type": "markdown",
   "id": "34d194ab",
   "metadata": {},
   "source": [
    "#### 4. Correlation Heatmap"
   ]
  },
  {
   "cell_type": "code",
   "execution_count": 34,
   "id": "6e95cc7c",
   "metadata": {},
   "outputs": [],
   "source": [
    "def correlation_heatmap(df, num_cols):\n",
    "    plt.figure(figsize=(8, 6))\n",
    "    corr = df[num_cols].corr()\n",
    "    sns.heatmap(corr, annot=True, cmap='coolwarm', fmt='.2f')\n",
    "    plt.title('Correlation Heatmap')\n",
    "    plt.show()"
   ]
  },
  {
   "cell_type": "code",
   "execution_count": 35,
   "id": "bb139b3e",
   "metadata": {},
   "outputs": [
    {
     "data": {
      "image/png": "[encoded data removed]",
      "text/plain": [
       "<Figure size 800x600 with 2 Axes>"
      ]
     },
     "metadata": {},
     "output_type": "display_data"
    }
   ],
   "source": [
    "correlation_heatmap(df, num_cols)"
   ]
  },
  {
   "cell_type": "markdown",
   "id": "c2b47f96",
   "metadata": {},
   "source": [
    "### Categorical EDA"
   ]
  },
  {
   "cell_type": "markdown",
   "id": "ed80814e",
   "metadata": {},
   "source": [
    "#### 1. Value Counts Summary"
   ]
  },
  {
   "cell_type": "code",
   "execution_count": 36,
   "id": "5a7096bb",
   "metadata": {},
   "outputs": [],
   "source": [
    "def categorical_summary_combined(df, obj_cols):\n",
    "    all_counts = []\n",
    "    for col in obj_cols:\n",
    "        vc = df[col].value_counts(dropna=False).reset_index()\n",
    "        vc.columns = ['Category', 'Count']\n",
    "        vc['Column'] = col\n",
    "        all_counts.append(vc)\n",
    "    return pd.concat(all_counts, ignore_index=True)"
   ]
  },
  {
   "cell_type": "code",
   "execution_count": 37,
   "id": "c778d10e",
   "metadata": {},
   "outputs": [
    {
     "data": {
      "application/vnd.microsoft.datawrangler.viewer.v0+json": {
       "columns": [
        {
         "name": "index",
         "rawType": "int64",
         "type": "integer"
        },
        {
         "name": "Category",
         "rawType": "object",
         "type": "string"
        },
        {
         "name": "Count",
         "rawType": "int64",
         "type": "integer"
        },
        {
         "name": "Column",
         "rawType": "object",
         "type": "string"
        }
       ],
       "ref": "99227140-cdaa-431a-8e63-3e2945d108ca",
       "rows": [
        [
         "0",
         "FDX13",
         "10",
         "Item_Identifier"
        ],
        [
         "1",
         "NCU29",
         "10",
         "Item_Identifier"
        ],
        [
         "2",
         "FDP21",
         "10",
         "Item_Identifier"
        ],
        [
         "3",
         "NCT53",
         "10",
         "Item_Identifier"
        ],
        [
         "4",
         "NCS29",
         "10",
         "Item_Identifier"
        ],
        [
         "5",
         "FDY14",
         "10",
         "Item_Identifier"
        ],
        [
         "6",
         "FDP33",
         "10",
         "Item_Identifier"
        ],
        [
         "7",
         "FDV38",
         "10",
         "Item_Identifier"
        ],
        [
         "8",
         "FDC14",
         "10",
         "Item_Identifier"
        ],
        [
         "9",
         "FDV10",
         "10",
         "Item_Identifier"
        ],
        [
         "10",
         "FDC37",
         "10",
         "Item_Identifier"
        ],
        [
         "11",
         "FDW12",
         "10",
         "Item_Identifier"
        ],
        [
         "12",
         "DRI11",
         "10",
         "Item_Identifier"
        ],
        [
         "13",
         "NCV29",
         "10",
         "Item_Identifier"
        ],
        [
         "14",
         "FDW16",
         "10",
         "Item_Identifier"
        ],
        [
         "15",
         "NCF30",
         "10",
         "Item_Identifier"
        ],
        [
         "16",
         "FDY39",
         "10",
         "Item_Identifier"
        ],
        [
         "17",
         "FDH04",
         "10",
         "Item_Identifier"
        ],
        [
         "18",
         "NCL17",
         "10",
         "Item_Identifier"
        ],
        [
         "19",
         "FDL12",
         "10",
         "Item_Identifier"
        ],
        [
         "20",
         "FDM39",
         "10",
         "Item_Identifier"
        ],
        [
         "21",
         "FDV20",
         "10",
         "Item_Identifier"
        ],
        [
         "22",
         "NCX29",
         "10",
         "Item_Identifier"
        ],
        [
         "23",
         "NCJ06",
         "10",
         "Item_Identifier"
        ],
        [
         "24",
         "FDB03",
         "10",
         "Item_Identifier"
        ],
        [
         "25",
         "FDQ47",
         "10",
         "Item_Identifier"
        ],
        [
         "26",
         "FDV19",
         "10",
         "Item_Identifier"
        ],
        [
         "27",
         "NCI06",
         "10",
         "Item_Identifier"
        ],
        [
         "28",
         "NCJ19",
         "10",
         "Item_Identifier"
        ],
        [
         "29",
         "FDT15",
         "10",
         "Item_Identifier"
        ],
        [
         "30",
         "NCQ30",
         "10",
         "Item_Identifier"
        ],
        [
         "31",
         "FDH56",
         "10",
         "Item_Identifier"
        ],
        [
         "32",
         "NCK53",
         "10",
         "Item_Identifier"
        ],
        [
         "33",
         "NCO14",
         "10",
         "Item_Identifier"
        ],
        [
         "34",
         "DRI03",
         "10",
         "Item_Identifier"
        ],
        [
         "35",
         "FDY40",
         "10",
         "Item_Identifier"
        ],
        [
         "36",
         "FDM20",
         "10",
         "Item_Identifier"
        ],
        [
         "37",
         "FDY21",
         "10",
         "Item_Identifier"
        ],
        [
         "38",
         "DRK35",
         "10",
         "Item_Identifier"
        ],
        [
         "39",
         "FDA43",
         "10",
         "Item_Identifier"
        ],
        [
         "40",
         "FDR13",
         "10",
         "Item_Identifier"
        ],
        [
         "41",
         "NCH42",
         "10",
         "Item_Identifier"
        ],
        [
         "42",
         "FDV36",
         "10",
         "Item_Identifier"
        ],
        [
         "43",
         "FDC22",
         "10",
         "Item_Identifier"
        ],
        [
         "44",
         "FDC47",
         "10",
         "Item_Identifier"
        ],
        [
         "45",
         "FDF59",
         "10",
         "Item_Identifier"
        ],
        [
         "46",
         "FDT51",
         "10",
         "Item_Identifier"
        ],
        [
         "47",
         "FDE28",
         "10",
         "Item_Identifier"
        ],
        [
         "48",
         "FDN03",
         "10",
         "Item_Identifier"
        ],
        [
         "49",
         "NCR42",
         "10",
         "Item_Identifier"
        ]
       ],
       "shape": {
        "columns": 3,
        "rows": 1602
       }
      },
      "text/html": [
       "<div>\n",
       "<style scoped>\n",
       "    .dataframe tbody tr th:only-of-type {\n",
       "        vertical-align: middle;\n",
       "    }\n",
       "\n",
       "    .dataframe tbody tr th {\n",
       "        vertical-align: top;\n",
       "    }\n",
       "\n",
       "    .dataframe thead th {\n",
       "        text-align: right;\n",
       "    }\n",
       "</style>\n",
       "<table border=\"1\" class=\"dataframe\">\n",
       "  <thead>\n",
       "    <tr style=\"text-align: right;\">\n",
       "      <th></th>\n",
       "      <th>Category</th>\n",
       "      <th>Count</th>\n",
       "      <th>Column</th>\n",
       "    </tr>\n",
       "  </thead>\n",
       "  <tbody>\n",
       "    <tr>\n",
       "      <th>0</th>\n",
       "      <td>FDX13</td>\n",
       "      <td>10</td>\n",
       "      <td>Item_Identifier</td>\n",
       "    </tr>\n",
       "    <tr>\n",
       "      <th>1</th>\n",
       "      <td>NCU29</td>\n",
       "      <td>10</td>\n",
       "      <td>Item_Identifier</td>\n",
       "    </tr>\n",
       "    <tr>\n",
       "      <th>2</th>\n",
       "      <td>FDP21</td>\n",
       "      <td>10</td>\n",
       "      <td>Item_Identifier</td>\n",
       "    </tr>\n",
       "    <tr>\n",
       "      <th>3</th>\n",
       "      <td>NCT53</td>\n",
       "      <td>10</td>\n",
       "      <td>Item_Identifier</td>\n",
       "    </tr>\n",
       "    <tr>\n",
       "      <th>4</th>\n",
       "      <td>NCS29</td>\n",
       "      <td>10</td>\n",
       "      <td>Item_Identifier</td>\n",
       "    </tr>\n",
       "    <tr>\n",
       "      <th>...</th>\n",
       "      <td>...</td>\n",
       "      <td>...</td>\n",
       "      <td>...</td>\n",
       "    </tr>\n",
       "    <tr>\n",
       "      <th>1597</th>\n",
       "      <td>Grocery Store</td>\n",
       "      <td>1805</td>\n",
       "      <td>Outlet_Type</td>\n",
       "    </tr>\n",
       "    <tr>\n",
       "      <th>1598</th>\n",
       "      <td>Supermarket Type3</td>\n",
       "      <td>1559</td>\n",
       "      <td>Outlet_Type</td>\n",
       "    </tr>\n",
       "    <tr>\n",
       "      <th>1599</th>\n",
       "      <td>Supermarket Type2</td>\n",
       "      <td>1546</td>\n",
       "      <td>Outlet_Type</td>\n",
       "    </tr>\n",
       "    <tr>\n",
       "      <th>1600</th>\n",
       "      <td>train</td>\n",
       "      <td>8522</td>\n",
       "      <td>Source</td>\n",
       "    </tr>\n",
       "    <tr>\n",
       "      <th>1601</th>\n",
       "      <td>test</td>\n",
       "      <td>5681</td>\n",
       "      <td>Source</td>\n",
       "    </tr>\n",
       "  </tbody>\n",
       "</table>\n",
       "<p>1602 rows × 3 columns</p>\n",
       "</div>"
      ],
      "text/plain": [
       "               Category  Count           Column\n",
       "0                 FDX13     10  Item_Identifier\n",
       "1                 NCU29     10  Item_Identifier\n",
       "2                 FDP21     10  Item_Identifier\n",
       "3                 NCT53     10  Item_Identifier\n",
       "4                 NCS29     10  Item_Identifier\n",
       "...                 ...    ...              ...\n",
       "1597      Grocery Store   1805      Outlet_Type\n",
       "1598  Supermarket Type3   1559      Outlet_Type\n",
       "1599  Supermarket Type2   1546      Outlet_Type\n",
       "1600              train   8522           Source\n",
       "1601               test   5681           Source\n",
       "\n",
       "[1602 rows x 3 columns]"
      ]
     },
     "execution_count": 37,
     "metadata": {},
     "output_type": "execute_result"
    }
   ],
   "source": [
    "combined_summary = categorical_summary_combined(df, obj_cols)\n",
    "combined_summary"
   ]
  },
  {
   "cell_type": "markdown",
   "id": "5d3bcdc5",
   "metadata": {},
   "source": [
    "#### 2. Bar Plots"
   ]
  },
  {
   "cell_type": "code",
   "execution_count": 38,
   "id": "01b0f7b1",
   "metadata": {},
   "outputs": [],
   "source": [
    "def plot_categorical_counts(df, obj_cols):\n",
    "    for col in obj_cols:\n",
    "        if col != 'Item_Identifier' and col != 'Source':\n",
    "            plt.figure(figsize=(21, 7))\n",
    "            sns.countplot(x=df[col], order=df[col].value_counts().index)\n",
    "            plt.title(f'Count plot of {col}')\n",
    "            plt.xticks(rotation=45)\n",
    "            plt.show()"
   ]
  },
  {
   "cell_type": "code",
   "execution_count": 39,
   "id": "52b47096",
   "metadata": {},
   "outputs": [
    {
     "data": {
      "image/png": "[encoded data removed]",
      "text/plain": [
       "<Figure size 2100x700 with 1 Axes>"
      ]
     },
     "metadata": {},
     "output_type": "display_data"
    },
    {
     "data": {
      "image/png": "[encoded data removed]",
      "text/plain": [
       "<Figure size 2100x700 with 1 Axes>"
      ]
     },
     "metadata": {},
     "output_type": "display_data"
    },
    {
     "data": {
      "image/png": "[encoded data removed]",
      "text/plain": [
       "<Figure size 2100x700 with 1 Axes>"
      ]
     },
     "metadata": {},
     "output_type": "display_data"
    },
    {
     "data": {
      "image/png": "[encoded data removed]",
      "text/plain": [
       "<Figure size 2100x700 with 1 Axes>"
      ]
     },
     "metadata": {},
     "output_type": "display_data"
    },
    {
     "data": {
      "image/png": "[encoded data removed]",
      "text/plain": [
       "<Figure size 2100x700 with 1 Axes>"
      ]
     },
     "metadata": {},
     "output_type": "display_data"
    },
    {
     "data": {
      "image/png": "[encoded data removed]",
      "text/plain": [
       "<Figure size 2100x700 with 1 Axes>"
      ]
     },
     "metadata": {},
     "output_type": "display_data"
    }
   ],
   "source": [
    "plot_categorical_counts(df, obj_cols)"
   ]
  },
  {
   "cell_type": "markdown",
   "id": "4212fb62",
   "metadata": {},
   "source": [
    "### Cleaning of Item_Fat_Content"
   ]
  },
  {
   "cell_type": "code",
   "execution_count": 40,
   "id": "ff5e50db",
   "metadata": {},
   "outputs": [
    {
     "data": {
      "image/png": "[encoded data removed]",
      "text/plain": [
       "<Figure size 700x700 with 1 Axes>"
      ]
     },
     "metadata": {},
     "output_type": "display_data"
    }
   ],
   "source": [
    "plt.figure(figsize=(7,7))\n",
    "sns.countplot(df['Item_Fat_Content'])\n",
    "plt.show()"
   ]
  },
  {
   "cell_type": "code",
   "execution_count": 41,
   "id": "d54389fa",
   "metadata": {},
   "outputs": [],
   "source": [
    "df.replace({'Item_Fat_Content' : {'low fat' : 'Low Fat' , 'LF' : 'Low Fat' , 'reg' : 'Regular'}}, inplace= True)"
   ]
  },
  {
   "cell_type": "code",
   "execution_count": 42,
   "id": "503c4c5a",
   "metadata": {},
   "outputs": [
    {
     "data": {
      "image/png": "[encoded data removed]",
      "text/plain": [
       "<Figure size 700x700 with 1 Axes>"
      ]
     },
     "metadata": {},
     "output_type": "display_data"
    }
   ],
   "source": [
    "plt.figure(figsize=(7,7))\n",
    "sns.countplot(df['Item_Fat_Content'])\n",
    "plt.show()"
   ]
  },
  {
   "cell_type": "markdown",
   "id": "f1970bf2",
   "metadata": {},
   "source": [
    "## Label Encoder"
   ]
  },
  {
   "cell_type": "code",
   "execution_count": 43,
   "id": "ba16226f",
   "metadata": {},
   "outputs": [
    {
     "data": {
      "text/plain": [
       "['Item_Identifier',\n",
       " 'Item_Fat_Content',\n",
       " 'Item_Type',\n",
       " 'Outlet_Identifier',\n",
       " 'Outlet_Size',\n",
       " 'Outlet_Location_Type',\n",
       " 'Outlet_Type',\n",
       " 'Source']"
      ]
     },
     "execution_count": 43,
     "metadata": {},
     "output_type": "execute_result"
    }
   ],
   "source": [
    "obj_cols"
   ]
  },
  {
   "cell_type": "code",
   "execution_count": 44,
   "id": "ee78e306",
   "metadata": {},
   "outputs": [],
   "source": [
    "encoder = LabelEncoder()"
   ]
  },
  {
   "cell_type": "code",
   "execution_count": 45,
   "id": "b61bb500",
   "metadata": {},
   "outputs": [],
   "source": [
    "def encoding(obj_cols):\n",
    "    for i in obj_cols:\n",
    "        if i != 'Source':\n",
    "            df[i] = encoder.fit_transform(df[i])"
   ]
  },
  {
   "cell_type": "code",
   "execution_count": 46,
   "id": "f3aacd3a",
   "metadata": {},
   "outputs": [],
   "source": [
    "encoding(obj_cols)"
   ]
  },
  {
   "cell_type": "code",
   "execution_count": 47,
   "id": "b2c93a91",
   "metadata": {},
   "outputs": [
    {
     "data": {
      "application/vnd.microsoft.datawrangler.viewer.v0+json": {
       "columns": [
        {
         "name": "index",
         "rawType": "int64",
         "type": "integer"
        },
        {
         "name": "Item_Identifier",
         "rawType": "int64",
         "type": "integer"
        },
        {
         "name": "Item_Weight",
         "rawType": "float64",
         "type": "float"
        },
        {
         "name": "Item_Fat_Content",
         "rawType": "int64",
         "type": "integer"
        },
        {
         "name": "Item_Visibility",
         "rawType": "float64",
         "type": "float"
        },
        {
         "name": "Item_Type",
         "rawType": "int64",
         "type": "integer"
        },
        {
         "name": "Item_MRP",
         "rawType": "float64",
         "type": "float"
        },
        {
         "name": "Outlet_Identifier",
         "rawType": "int64",
         "type": "integer"
        },
        {
         "name": "Outlet_Establishment_Year",
         "rawType": "int64",
         "type": "integer"
        },
        {
         "name": "Outlet_Size",
         "rawType": "int64",
         "type": "integer"
        },
        {
         "name": "Outlet_Location_Type",
         "rawType": "int64",
         "type": "integer"
        },
        {
         "name": "Outlet_Type",
         "rawType": "int64",
         "type": "integer"
        },
        {
         "name": "Source",
         "rawType": "object",
         "type": "string"
        }
       ],
       "ref": "6812cf74-dc75-43be-aab4-a4d81c3e9968",
       "rows": [
        [
         "0",
         "156",
         "9.3",
         "0",
         "0.016047301",
         "4",
         "249.8092",
         "9",
         "1999",
         "1",
         "0",
         "1",
         "train"
        ],
        [
         "1",
         "8",
         "5.92",
         "1",
         "0.019278216",
         "14",
         "48.2692",
         "3",
         "2009",
         "1",
         "2",
         "2",
         "train"
        ],
        [
         "2",
         "662",
         "17.5",
         "0",
         "0.016760075",
         "10",
         "141.618",
         "9",
         "1999",
         "1",
         "0",
         "1",
         "train"
        ],
        [
         "3",
         "1121",
         "19.2",
         "1",
         "0.0",
         "6",
         "182.095",
         "0",
         "1998",
         "2",
         "2",
         "0",
         "train"
        ],
        [
         "4",
         "1297",
         "8.93",
         "0",
         "0.0",
         "9",
         "53.8614",
         "1",
         "1987",
         "0",
         "2",
         "1",
         "train"
        ],
        [
         "5",
         "758",
         "10.395",
         "1",
         "0.0",
         "0",
         "51.4008",
         "3",
         "2009",
         "1",
         "2",
         "2",
         "train"
        ],
        [
         "6",
         "696",
         "13.65",
         "1",
         "0.0127410889999999",
         "13",
         "57.6588",
         "1",
         "1987",
         "0",
         "2",
         "1",
         "train"
        ],
        [
         "7",
         "738",
         "12.792683611016662",
         "0",
         "0.127469857",
         "13",
         "107.7622",
         "5",
         "1985",
         "1",
         "2",
         "3",
         "train"
        ],
        [
         "8",
         "440",
         "16.2",
         "1",
         "0.016687114",
         "5",
         "96.9726",
         "7",
         "2002",
         "2",
         "1",
         "1",
         "train"
        ],
        [
         "9",
         "990",
         "19.2",
         "1",
         "0.09444959",
         "5",
         "187.8214",
         "2",
         "2007",
         "2",
         "1",
         "1",
         "train"
        ],
        [
         "10",
         "1171",
         "11.8",
         "0",
         "0.0",
         "6",
         "45.5402",
         "9",
         "1999",
         "1",
         "0",
         "1",
         "train"
        ],
        [
         "11",
         "147",
         "18.5",
         "1",
         "0.045463773",
         "4",
         "144.1102",
         "8",
         "1997",
         "2",
         "0",
         "1",
         "train"
        ],
        [
         "12",
         "1142",
         "15.1",
         "1",
         "0.1000135",
         "6",
         "145.4786",
         "9",
         "1999",
         "1",
         "0",
         "1",
         "train"
        ],
        [
         "13",
         "904",
         "17.6",
         "1",
         "0.047257328",
         "13",
         "119.6782",
         "8",
         "1997",
         "2",
         "0",
         "1",
         "train"
        ],
        [
         "14",
         "375",
         "16.35",
         "0",
         "0.0680243",
         "6",
         "196.4426",
         "1",
         "1987",
         "0",
         "2",
         "1",
         "train"
        ],
        [
         "15",
         "767",
         "9.0",
         "1",
         "0.0690889609999999",
         "2",
         "56.3614",
         "8",
         "1997",
         "2",
         "0",
         "1",
         "train"
        ],
        [
         "16",
         "1280",
         "11.8",
         "0",
         "0.008596051",
         "8",
         "115.3492",
         "3",
         "2009",
         "1",
         "2",
         "2",
         "train"
        ],
        [
         "17",
         "767",
         "9.0",
         "1",
         "0.0691963759999999",
         "2",
         "54.3614",
         "9",
         "1999",
         "1",
         "0",
         "1",
         "train"
        ],
        [
         "18",
         "79",
         "12.792683611016662",
         "0",
         "0.034237682",
         "7",
         "113.2834",
         "5",
         "1985",
         "1",
         "2",
         "3",
         "train"
        ],
        [
         "19",
         "968",
         "13.35",
         "0",
         "0.10249212",
         "4",
         "230.5352",
         "6",
         "2004",
         "2",
         "1",
         "1",
         "train"
        ],
        [
         "20",
         "666",
         "18.85",
         "1",
         "0.138190277",
         "13",
         "250.8724",
         "1",
         "1987",
         "0",
         "2",
         "1",
         "train"
        ],
        [
         "21",
         "1076",
         "12.792683611016662",
         "1",
         "0.035399923",
         "0",
         "144.5444",
         "5",
         "1985",
         "1",
         "2",
         "3",
         "train"
        ],
        [
         "22",
         "1278",
         "14.6",
         "0",
         "0.0256981339999999",
         "9",
         "196.5084",
         "6",
         "2004",
         "2",
         "1",
         "1",
         "train"
        ],
        [
         "23",
         "259",
         "12.792683611016662",
         "0",
         "0.057556998",
         "0",
         "107.6938",
         "4",
         "1985",
         "2",
         "0",
         "0",
         "train"
        ],
        [
         "24",
         "843",
         "13.85",
         "1",
         "0.025896485",
         "5",
         "165.021",
         "8",
         "1997",
         "2",
         "0",
         "1",
         "train"
        ],
        [
         "25",
         "1294",
         "13.0",
         "0",
         "0.099887103",
         "9",
         "45.906000000000006",
         "2",
         "2007",
         "2",
         "1",
         "1",
         "train"
        ],
        [
         "26",
         "1024",
         "7.645",
         "1",
         "0.066693437",
         "13",
         "42.3112",
         "6",
         "2004",
         "2",
         "1",
         "1",
         "train"
        ],
        [
         "27",
         "101",
         "11.65",
         "0",
         "0.0193561319999999",
         "7",
         "39.1164",
         "1",
         "1987",
         "0",
         "2",
         "1",
         "train"
        ],
        [
         "28",
         "350",
         "5.925",
         "1",
         "0.161466534",
         "4",
         "45.5086",
         "0",
         "1998",
         "2",
         "2",
         "0",
         "train"
        ],
        [
         "29",
         "244",
         "12.792683611016662",
         "1",
         "0.072221801",
         "3",
         "43.6454",
         "4",
         "1985",
         "2",
         "0",
         "0",
         "train"
        ],
        [
         "30",
         "1048",
         "19.25",
         "0",
         "0.170348551",
         "4",
         "55.7956",
         "0",
         "1998",
         "2",
         "2",
         "0",
         "train"
        ],
        [
         "31",
         "1480",
         "18.6",
         "0",
         "0.080829372",
         "8",
         "96.4436",
         "3",
         "2009",
         "1",
         "2",
         "2",
         "train"
        ],
        [
         "32",
         "756",
         "18.7",
         "0",
         "0.0",
         "13",
         "256.6672",
         "3",
         "2009",
         "1",
         "2",
         "2",
         "train"
        ],
        [
         "33",
         "706",
         "17.85",
         "0",
         "0.0",
         "1",
         "93.1436",
         "7",
         "2002",
         "2",
         "1",
         "1",
         "train"
        ],
        [
         "34",
         "64",
         "17.5",
         "0",
         "0.097904029",
         "14",
         "174.8738",
         "8",
         "1997",
         "2",
         "0",
         "1",
         "train"
        ],
        [
         "35",
         "1533",
         "10.0",
         "0",
         "0.0892911369999999",
         "8",
         "146.7102",
         "9",
         "1999",
         "1",
         "0",
         "1",
         "train"
        ],
        [
         "36",
         "1032",
         "12.792683611016662",
         "1",
         "0.059511812",
         "6",
         "128.0678",
         "5",
         "1985",
         "1",
         "2",
         "3",
         "train"
        ],
        [
         "37",
         "143",
         "8.85",
         "1",
         "0.113123893",
         "14",
         "122.5388",
         "3",
         "2009",
         "1",
         "2",
         "2",
         "train"
        ],
        [
         "38",
         "1124",
         "12.792683611016662",
         "1",
         "0.123111453",
         "13",
         "36.9874",
         "5",
         "1985",
         "1",
         "2",
         "3",
         "train"
        ],
        [
         "39",
         "214",
         "12.792683611016662",
         "0",
         "0.0264809539999999",
         "13",
         "87.6198",
         "5",
         "1985",
         "1",
         "2",
         "3",
         "train"
        ],
        [
         "40",
         "968",
         "13.35",
         "0",
         "0.102511504",
         "4",
         "230.6352",
         "8",
         "1997",
         "2",
         "0",
         "1",
         "train"
        ],
        [
         "41",
         "567",
         "9.8",
         "0",
         "0.02681843",
         "10",
         "126.002",
         "1",
         "1987",
         "0",
         "2",
         "1",
         "train"
        ],
        [
         "42",
         "180",
         "13.6",
         "0",
         "0.117818348",
         "13",
         "192.9136",
         "9",
         "1999",
         "1",
         "0",
         "1",
         "train"
        ],
        [
         "43",
         "236",
         "21.35",
         "0",
         "0.0691028309999999",
         "3",
         "259.9278",
         "3",
         "2009",
         "1",
         "2",
         "2",
         "train"
        ],
        [
         "44",
         "611",
         "12.15",
         "1",
         "0.042277867",
         "3",
         "126.5046",
         "1",
         "1987",
         "0",
         "2",
         "1",
         "train"
        ],
        [
         "45",
         "641",
         "6.42",
         "0",
         "0.0894989259999999",
         "4",
         "178.1002",
         "0",
         "1998",
         "2",
         "2",
         "0",
         "train"
        ],
        [
         "46",
         "1438",
         "19.6",
         "0",
         "0.0",
         "8",
         "153.3024",
         "7",
         "2002",
         "2",
         "1",
         "1",
         "train"
        ],
        [
         "47",
         "1057",
         "10.0",
         "0",
         "0.025879577",
         "3",
         "265.2226",
         "7",
         "2002",
         "2",
         "1",
         "1",
         "train"
        ],
        [
         "48",
         "586",
         "15.85",
         "1",
         "0.121632721",
         "0",
         "60.622",
         "8",
         "1997",
         "2",
         "0",
         "1",
         "train"
        ],
        [
         "49",
         "869",
         "12.792683611016662",
         "1",
         "0.255394896",
         "4",
         "196.8794",
         "4",
         "1985",
         "2",
         "0",
         "0",
         "train"
        ]
       ],
       "shape": {
        "columns": 12,
        "rows": 14203
       }
      },
      "text/html": [
       "<div>\n",
       "<style scoped>\n",
       "    .dataframe tbody tr th:only-of-type {\n",
       "        vertical-align: middle;\n",
       "    }\n",
       "\n",
       "    .dataframe tbody tr th {\n",
       "        vertical-align: top;\n",
       "    }\n",
       "\n",
       "    .dataframe thead th {\n",
       "        text-align: right;\n",
       "    }\n",
       "</style>\n",
       "<table border=\"1\" class=\"dataframe\">\n",
       "  <thead>\n",
       "    <tr style=\"text-align: right;\">\n",
       "      <th></th>\n",
       "      <th>Item_Identifier</th>\n",
       "      <th>Item_Weight</th>\n",
       "      <th>Item_Fat_Content</th>\n",
       "      <th>Item_Visibility</th>\n",
       "      <th>Item_Type</th>\n",
       "      <th>Item_MRP</th>\n",
       "      <th>Outlet_Identifier</th>\n",
       "      <th>Outlet_Establishment_Year</th>\n",
       "      <th>Outlet_Size</th>\n",
       "      <th>Outlet_Location_Type</th>\n",
       "      <th>Outlet_Type</th>\n",
       "      <th>Source</th>\n",
       "    </tr>\n",
       "  </thead>\n",
       "  <tbody>\n",
       "    <tr>\n",
       "      <th>0</th>\n",
       "      <td>156</td>\n",
       "      <td>9.30</td>\n",
       "      <td>0</td>\n",
       "      <td>0.016047</td>\n",
       "      <td>4</td>\n",
       "      <td>249.8092</td>\n",
       "      <td>9</td>\n",
       "      <td>1999</td>\n",
       "      <td>1</td>\n",
       "      <td>0</td>\n",
       "      <td>1</td>\n",
       "      <td>train</td>\n",
       "    </tr>\n",
       "    <tr>\n",
       "      <th>1</th>\n",
       "      <td>8</td>\n",
       "      <td>5.92</td>\n",
       "      <td>1</td>\n",
       "      <td>0.019278</td>\n",
       "      <td>14</td>\n",
       "      <td>48.2692</td>\n",
       "      <td>3</td>\n",
       "      <td>2009</td>\n",
       "      <td>1</td>\n",
       "      <td>2</td>\n",
       "      <td>2</td>\n",
       "      <td>train</td>\n",
       "    </tr>\n",
       "    <tr>\n",
       "      <th>2</th>\n",
       "      <td>662</td>\n",
       "      <td>17.50</td>\n",
       "      <td>0</td>\n",
       "      <td>0.016760</td>\n",
       "      <td>10</td>\n",
       "      <td>141.6180</td>\n",
       "      <td>9</td>\n",
       "      <td>1999</td>\n",
       "      <td>1</td>\n",
       "      <td>0</td>\n",
       "      <td>1</td>\n",
       "      <td>train</td>\n",
       "    </tr>\n",
       "    <tr>\n",
       "      <th>3</th>\n",
       "      <td>1121</td>\n",
       "      <td>19.20</td>\n",
       "      <td>1</td>\n",
       "      <td>0.000000</td>\n",
       "      <td>6</td>\n",
       "      <td>182.0950</td>\n",
       "      <td>0</td>\n",
       "      <td>1998</td>\n",
       "      <td>2</td>\n",
       "      <td>2</td>\n",
       "      <td>0</td>\n",
       "      <td>train</td>\n",
       "    </tr>\n",
       "    <tr>\n",
       "      <th>4</th>\n",
       "      <td>1297</td>\n",
       "      <td>8.93</td>\n",
       "      <td>0</td>\n",
       "      <td>0.000000</td>\n",
       "      <td>9</td>\n",
       "      <td>53.8614</td>\n",
       "      <td>1</td>\n",
       "      <td>1987</td>\n",
       "      <td>0</td>\n",
       "      <td>2</td>\n",
       "      <td>1</td>\n",
       "      <td>train</td>\n",
       "    </tr>\n",
       "    <tr>\n",
       "      <th>...</th>\n",
       "      <td>...</td>\n",
       "      <td>...</td>\n",
       "      <td>...</td>\n",
       "      <td>...</td>\n",
       "      <td>...</td>\n",
       "      <td>...</td>\n",
       "      <td>...</td>\n",
       "      <td>...</td>\n",
       "      <td>...</td>\n",
       "      <td>...</td>\n",
       "      <td>...</td>\n",
       "      <td>...</td>\n",
       "    </tr>\n",
       "    <tr>\n",
       "      <th>14198</th>\n",
       "      <td>233</td>\n",
       "      <td>10.50</td>\n",
       "      <td>1</td>\n",
       "      <td>0.013496</td>\n",
       "      <td>13</td>\n",
       "      <td>141.3154</td>\n",
       "      <td>8</td>\n",
       "      <td>1997</td>\n",
       "      <td>2</td>\n",
       "      <td>0</td>\n",
       "      <td>1</td>\n",
       "      <td>test</td>\n",
       "    </tr>\n",
       "    <tr>\n",
       "      <th>14199</th>\n",
       "      <td>308</td>\n",
       "      <td>7.60</td>\n",
       "      <td>1</td>\n",
       "      <td>0.142991</td>\n",
       "      <td>15</td>\n",
       "      <td>169.1448</td>\n",
       "      <td>3</td>\n",
       "      <td>2009</td>\n",
       "      <td>1</td>\n",
       "      <td>2</td>\n",
       "      <td>2</td>\n",
       "      <td>test</td>\n",
       "    </tr>\n",
       "    <tr>\n",
       "      <th>14200</th>\n",
       "      <td>1426</td>\n",
       "      <td>10.00</td>\n",
       "      <td>0</td>\n",
       "      <td>0.073529</td>\n",
       "      <td>8</td>\n",
       "      <td>118.7440</td>\n",
       "      <td>7</td>\n",
       "      <td>2002</td>\n",
       "      <td>2</td>\n",
       "      <td>1</td>\n",
       "      <td>1</td>\n",
       "      <td>test</td>\n",
       "    </tr>\n",
       "    <tr>\n",
       "      <th>14201</th>\n",
       "      <td>521</td>\n",
       "      <td>15.30</td>\n",
       "      <td>1</td>\n",
       "      <td>0.000000</td>\n",
       "      <td>3</td>\n",
       "      <td>214.6218</td>\n",
       "      <td>2</td>\n",
       "      <td>2007</td>\n",
       "      <td>2</td>\n",
       "      <td>1</td>\n",
       "      <td>1</td>\n",
       "      <td>test</td>\n",
       "    </tr>\n",
       "    <tr>\n",
       "      <th>14202</th>\n",
       "      <td>997</td>\n",
       "      <td>9.50</td>\n",
       "      <td>1</td>\n",
       "      <td>0.104720</td>\n",
       "      <td>3</td>\n",
       "      <td>79.7960</td>\n",
       "      <td>7</td>\n",
       "      <td>2002</td>\n",
       "      <td>2</td>\n",
       "      <td>1</td>\n",
       "      <td>1</td>\n",
       "      <td>test</td>\n",
       "    </tr>\n",
       "  </tbody>\n",
       "</table>\n",
       "<p>14203 rows × 12 columns</p>\n",
       "</div>"
      ],
      "text/plain": [
       "       Item_Identifier  Item_Weight  Item_Fat_Content  Item_Visibility  \\\n",
       "0                  156         9.30                 0         0.016047   \n",
       "1                    8         5.92                 1         0.019278   \n",
       "2                  662        17.50                 0         0.016760   \n",
       "3                 1121        19.20                 1         0.000000   \n",
       "4                 1297         8.93                 0         0.000000   \n",
       "...                ...          ...               ...              ...   \n",
       "14198              233        10.50                 1         0.013496   \n",
       "14199              308         7.60                 1         0.142991   \n",
       "14200             1426        10.00                 0         0.073529   \n",
       "14201              521        15.30                 1         0.000000   \n",
       "14202              997         9.50                 1         0.104720   \n",
       "\n",
       "       Item_Type  Item_MRP  Outlet_Identifier  Outlet_Establishment_Year  \\\n",
       "0              4  249.8092                  9                       1999   \n",
       "1             14   48.2692                  3                       2009   \n",
       "2             10  141.6180                  9                       1999   \n",
       "3              6  182.0950                  0                       1998   \n",
       "4              9   53.8614                  1                       1987   \n",
       "...          ...       ...                ...                        ...   \n",
       "14198         13  141.3154                  8                       1997   \n",
       "14199         15  169.1448                  3                       2009   \n",
       "14200          8  118.7440                  7                       2002   \n",
       "14201          3  214.6218                  2                       2007   \n",
       "14202          3   79.7960                  7                       2002   \n",
       "\n",
       "       Outlet_Size  Outlet_Location_Type  Outlet_Type Source  \n",
       "0                1                     0            1  train  \n",
       "1                1                     2            2  train  \n",
       "2                1                     0            1  train  \n",
       "3                2                     2            0  train  \n",
       "4                0                     2            1  train  \n",
       "...            ...                   ...          ...    ...  \n",
       "14198            2                     0            1   test  \n",
       "14199            1                     2            2   test  \n",
       "14200            2                     1            1   test  \n",
       "14201            2                     1            1   test  \n",
       "14202            2                     1            1   test  \n",
       "\n",
       "[14203 rows x 12 columns]"
      ]
     },
     "execution_count": 47,
     "metadata": {},
     "output_type": "execute_result"
    }
   ],
   "source": [
    "df"
   ]
  },
  {
   "cell_type": "markdown",
   "id": "17a765c0",
   "metadata": {},
   "source": [
    "## Separating The Train and Test Dataframes"
   ]
  },
  {
   "cell_type": "code",
   "execution_count": 48,
   "id": "7de78142",
   "metadata": {},
   "outputs": [],
   "source": [
    "processed_train = df[df['Source'] == 'train'].drop(columns='Source')\n",
    "processed_test = df[df['Source'] == 'test'].drop(columns='Source')"
   ]
  },
  {
   "cell_type": "code",
   "execution_count": 49,
   "id": "f91a5d25",
   "metadata": {},
   "outputs": [
    {
     "data": {
      "application/vnd.microsoft.datawrangler.viewer.v0+json": {
       "columns": [
        {
         "name": "index",
         "rawType": "int64",
         "type": "integer"
        },
        {
         "name": "Item_Identifier",
         "rawType": "int64",
         "type": "integer"
        },
        {
         "name": "Item_Weight",
         "rawType": "float64",
         "type": "float"
        },
        {
         "name": "Item_Fat_Content",
         "rawType": "int64",
         "type": "integer"
        },
        {
         "name": "Item_Visibility",
         "rawType": "float64",
         "type": "float"
        },
        {
         "name": "Item_Type",
         "rawType": "int64",
         "type": "integer"
        },
        {
         "name": "Item_MRP",
         "rawType": "float64",
         "type": "float"
        },
        {
         "name": "Outlet_Identifier",
         "rawType": "int64",
         "type": "integer"
        },
        {
         "name": "Outlet_Establishment_Year",
         "rawType": "int64",
         "type": "integer"
        },
        {
         "name": "Outlet_Size",
         "rawType": "int64",
         "type": "integer"
        },
        {
         "name": "Outlet_Location_Type",
         "rawType": "int64",
         "type": "integer"
        },
        {
         "name": "Outlet_Type",
         "rawType": "int64",
         "type": "integer"
        }
       ],
       "ref": "30981a19-0cea-46e0-989c-fc1724e77c25",
       "rows": [
        [
         "8522",
         "1114",
         "20.75",
         "0",
         "0.007564836",
         "13",
         "107.8622",
         "9",
         "1999",
         "1",
         "0",
         "1"
        ],
        [
         "8523",
         "1078",
         "8.3",
         "1",
         "0.038427677",
         "4",
         "87.3198",
         "2",
         "2007",
         "2",
         "1",
         "1"
        ],
        [
         "8524",
         "1420",
         "14.6",
         "0",
         "0.099574908",
         "11",
         "241.7538",
         "0",
         "1998",
         "2",
         "2",
         "0"
        ],
        [
         "8525",
         "817",
         "7.315",
         "0",
         "0.015388393",
         "13",
         "155.034",
         "2",
         "2007",
         "2",
         "1",
         "1"
        ],
        [
         "8526",
         "1197",
         "12.792683611016662",
         "1",
         "0.118599314",
         "4",
         "234.23",
         "5",
         "1985",
         "1",
         "2",
         "3"
        ],
        [
         "8527",
         "465",
         "9.8",
         "1",
         "0.063817206",
         "6",
         "117.1492",
         "8",
         "1997",
         "2",
         "0",
         "1"
        ],
        [
         "8528",
         "610",
         "19.35",
         "1",
         "0.082601537",
         "0",
         "50.1034",
         "3",
         "2009",
         "1",
         "2",
         "2"
        ],
        [
         "8529",
         "268",
         "12.792683611016662",
         "0",
         "0.015782495",
         "0",
         "81.0592",
         "5",
         "1985",
         "1",
         "2",
         "3"
        ],
        [
         "8530",
         "674",
         "6.305",
         "1",
         "0.123365446",
         "13",
         "95.7436",
         "7",
         "2002",
         "2",
         "1",
         "1"
        ],
        [
         "8531",
         "172",
         "5.985",
         "0",
         "0.005698435",
         "0",
         "186.8924",
         "2",
         "2007",
         "2",
         "1",
         "1"
        ],
        [
         "8532",
         "952",
         "16.6",
         "0",
         "0.103569075",
         "6",
         "118.3466",
         "2",
         "2007",
         "2",
         "1",
         "1"
        ],
        [
         "8533",
         "815",
         "6.59",
         "0",
         "0.10581147",
         "6",
         "85.3908",
         "7",
         "2002",
         "2",
         "1",
         "1"
        ],
        [
         "8534",
         "1292",
         "12.792683611016662",
         "0",
         "0.171079215",
         "8",
         "240.4196",
         "4",
         "1985",
         "2",
         "0",
         "0"
        ],
        [
         "8535",
         "975",
         "4.785",
         "0",
         "0.092737611",
         "1",
         "122.3098",
         "9",
         "1999",
         "1",
         "0",
         "1"
        ],
        [
         "8536",
         "120",
         "16.75",
         "0",
         "0.021206464",
         "7",
         "52.0298",
         "1",
         "1987",
         "0",
         "2",
         "1"
        ],
        [
         "8537",
         "632",
         "6.135",
         "1",
         "0.0794507",
         "0",
         "151.6366",
         "9",
         "1999",
         "1",
         "0",
         "1"
        ],
        [
         "8538",
         "504",
         "19.85",
         "0",
         "0.05413521",
         "12",
         "198.7768",
         "7",
         "2002",
         "2",
         "1",
         "1"
        ],
        [
         "8539",
         "9",
         "17.85",
         "0",
         "0.037980963",
         "14",
         "192.2188",
         "3",
         "2009",
         "1",
         "2",
         "2"
        ],
        [
         "8540",
         "1400",
         "12.792683611016662",
         "0",
         "0.028184344",
         "9",
         "109.6912",
         "5",
         "1985",
         "1",
         "2",
         "3"
        ],
        [
         "8541",
         "180",
         "13.6",
         "0",
         "0.196897637",
         "13",
         "193.7136",
         "0",
         "1998",
         "2",
         "2",
         "0"
        ],
        [
         "8542",
         "167",
         "7.1",
         "0",
         "0.109920138",
         "6",
         "175.008",
         "1",
         "1987",
         "0",
         "2",
         "1"
        ],
        [
         "8543",
         "1359",
         "19.2",
         "0",
         "0.182619235",
         "11",
         "239.9196",
         "6",
         "2004",
         "2",
         "1",
         "1"
        ],
        [
         "8544",
         "424",
         "13.65",
         "0",
         "0.065630844",
         "5",
         "47.7402",
         "8",
         "1997",
         "2",
         "0",
         "1"
        ],
        [
         "8545",
         "1380",
         "12.792683611016662",
         "0",
         "0.027447057",
         "11",
         "142.347",
         "4",
         "1985",
         "2",
         "0",
         "0"
        ],
        [
         "8546",
         "875",
         "19.2",
         "0",
         "0.035178935",
         "13",
         "180.7318",
         "6",
         "2004",
         "2",
         "1",
         "1"
        ],
        [
         "8547",
         "1134",
         "6.785",
         "1",
         "0.038455125",
         "13",
         "209.4928",
         "0",
         "1998",
         "2",
         "2",
         "0"
        ],
        [
         "8548",
         "1317",
         "13.0",
         "0",
         "0.035102094",
         "9",
         "47.6034",
         "6",
         "2004",
         "2",
         "1",
         "1"
        ],
        [
         "8549",
         "1304",
         "5.825",
         "0",
         "0.091485232",
         "9",
         "161.3894",
         "8",
         "1997",
         "2",
         "0",
         "1"
        ],
        [
         "8550",
         "13",
         "13.8",
         "0",
         "0.058102469",
         "4",
         "244.6802",
         "8",
         "1997",
         "2",
         "0",
         "1"
        ],
        [
         "8551",
         "329",
         "12.8",
         "0",
         "0.022940349",
         "6",
         "116.5492",
         "6",
         "2004",
         "2",
         "1",
         "1"
        ],
        [
         "8552",
         "1474",
         "12.792683611016662",
         "0",
         "0.06737681",
         "9",
         "32.09",
         "4",
         "1985",
         "2",
         "0",
         "0"
        ],
        [
         "8553",
         "1159",
         "9.5",
         "1",
         "0.022148582",
         "10",
         "194.9452",
         "3",
         "2009",
         "1",
         "2",
         "2"
        ],
        [
         "8554",
         "1467",
         "12.5",
         "0",
         "0.006792707",
         "9",
         "42.4112",
         "3",
         "2009",
         "1",
         "2",
         "2"
        ],
        [
         "8555",
         "991",
         "12.792683611016662",
         "1",
         "0.024870035",
         "6",
         "217.7508",
         "5",
         "1985",
         "1",
         "2",
         "3"
        ],
        [
         "8556",
         "1015",
         "5.78",
         "0",
         "0.096931426",
         "1",
         "164.2552",
         "2",
         "2007",
         "2",
         "1",
         "1"
        ],
        [
         "8557",
         "822",
         "12.792683611016662",
         "1",
         "0.008693632",
         "10",
         "205.098",
         "5",
         "1985",
         "1",
         "2",
         "3"
        ],
        [
         "8558",
         "907",
         "12.792683611016662",
         "0",
         "0.078961284",
         "3",
         "80.3644",
         "5",
         "1985",
         "1",
         "2",
         "3"
        ],
        [
         "8559",
         "309",
         "10.395",
         "0",
         "0.050479463",
         "0",
         "114.0176",
         "0",
         "1998",
         "2",
         "2",
         "0"
        ],
        [
         "8560",
         "1316",
         "18.35",
         "0",
         "0.089485918",
         "9",
         "192.1504",
         "2",
         "2007",
         "2",
         "1",
         "1"
        ],
        [
         "8561",
         "1301",
         "12.792683611016662",
         "0",
         "0.01594238",
         "9",
         "103.3964",
         "5",
         "1985",
         "1",
         "2",
         "3"
        ],
        [
         "8562",
         "1302",
         "21.1",
         "0",
         "0.029127115",
         "9",
         "143.3786",
         "3",
         "2009",
         "1",
         "2",
         "2"
        ],
        [
         "8563",
         "1181",
         "19.75",
         "0",
         "0.069236421",
         "6",
         "116.6466",
         "0",
         "1998",
         "2",
         "2",
         "0"
        ],
        [
         "8564",
         "1548",
         "8.43",
         "0",
         "0.178699961",
         "9",
         "173.9422",
         "2",
         "2007",
         "2",
         "1",
         "1"
        ],
        [
         "8565",
         "1380",
         "15.35",
         "0",
         "0.015740089",
         "11",
         "144.847",
         "3",
         "2009",
         "1",
         "2",
         "2"
        ],
        [
         "8566",
         "748",
         "6.71",
         "0",
         "0.059565107",
         "1",
         "217.2166",
         "0",
         "1998",
         "2",
         "2",
         "0"
        ],
        [
         "8567",
         "252",
         "10.195",
         "0",
         "0.126277921",
         "3",
         "112.1886",
         "1",
         "1987",
         "0",
         "2",
         "1"
        ],
        [
         "8568",
         "831",
         "11.65",
         "0",
         "0.291322397",
         "4",
         "55.8298",
         "0",
         "1998",
         "2",
         "2",
         "0"
        ],
        [
         "8569",
         "1485",
         "12.85",
         "0",
         "0.053433908",
         "8",
         "183.2608",
         "6",
         "2004",
         "2",
         "1",
         "1"
        ],
        [
         "8570",
         "382",
         "12.15",
         "0",
         "0.131155007",
         "5",
         "248.146",
         "6",
         "2004",
         "2",
         "1",
         "1"
        ],
        [
         "8571",
         "994",
         "18.25",
         "0",
         "0.075194929",
         "13",
         "124.9046",
         "8",
         "1997",
         "2",
         "0",
         "1"
        ]
       ],
       "shape": {
        "columns": 11,
        "rows": 5681
       }
      },
      "text/html": [
       "<div>\n",
       "<style scoped>\n",
       "    .dataframe tbody tr th:only-of-type {\n",
       "        vertical-align: middle;\n",
       "    }\n",
       "\n",
       "    .dataframe tbody tr th {\n",
       "        vertical-align: top;\n",
       "    }\n",
       "\n",
       "    .dataframe thead th {\n",
       "        text-align: right;\n",
       "    }\n",
       "</style>\n",
       "<table border=\"1\" class=\"dataframe\">\n",
       "  <thead>\n",
       "    <tr style=\"text-align: right;\">\n",
       "      <th></th>\n",
       "      <th>Item_Identifier</th>\n",
       "      <th>Item_Weight</th>\n",
       "      <th>Item_Fat_Content</th>\n",
       "      <th>Item_Visibility</th>\n",
       "      <th>Item_Type</th>\n",
       "      <th>Item_MRP</th>\n",
       "      <th>Outlet_Identifier</th>\n",
       "      <th>Outlet_Establishment_Year</th>\n",
       "      <th>Outlet_Size</th>\n",
       "      <th>Outlet_Location_Type</th>\n",
       "      <th>Outlet_Type</th>\n",
       "    </tr>\n",
       "  </thead>\n",
       "  <tbody>\n",
       "    <tr>\n",
       "      <th>8522</th>\n",
       "      <td>1114</td>\n",
       "      <td>20.750000</td>\n",
       "      <td>0</td>\n",
       "      <td>0.007565</td>\n",
       "      <td>13</td>\n",
       "      <td>107.8622</td>\n",
       "      <td>9</td>\n",
       "      <td>1999</td>\n",
       "      <td>1</td>\n",
       "      <td>0</td>\n",
       "      <td>1</td>\n",
       "    </tr>\n",
       "    <tr>\n",
       "      <th>8523</th>\n",
       "      <td>1078</td>\n",
       "      <td>8.300000</td>\n",
       "      <td>1</td>\n",
       "      <td>0.038428</td>\n",
       "      <td>4</td>\n",
       "      <td>87.3198</td>\n",
       "      <td>2</td>\n",
       "      <td>2007</td>\n",
       "      <td>2</td>\n",
       "      <td>1</td>\n",
       "      <td>1</td>\n",
       "    </tr>\n",
       "    <tr>\n",
       "      <th>8524</th>\n",
       "      <td>1420</td>\n",
       "      <td>14.600000</td>\n",
       "      <td>0</td>\n",
       "      <td>0.099575</td>\n",
       "      <td>11</td>\n",
       "      <td>241.7538</td>\n",
       "      <td>0</td>\n",
       "      <td>1998</td>\n",
       "      <td>2</td>\n",
       "      <td>2</td>\n",
       "      <td>0</td>\n",
       "    </tr>\n",
       "    <tr>\n",
       "      <th>8525</th>\n",
       "      <td>817</td>\n",
       "      <td>7.315000</td>\n",
       "      <td>0</td>\n",
       "      <td>0.015388</td>\n",
       "      <td>13</td>\n",
       "      <td>155.0340</td>\n",
       "      <td>2</td>\n",
       "      <td>2007</td>\n",
       "      <td>2</td>\n",
       "      <td>1</td>\n",
       "      <td>1</td>\n",
       "    </tr>\n",
       "    <tr>\n",
       "      <th>8526</th>\n",
       "      <td>1197</td>\n",
       "      <td>12.792684</td>\n",
       "      <td>1</td>\n",
       "      <td>0.118599</td>\n",
       "      <td>4</td>\n",
       "      <td>234.2300</td>\n",
       "      <td>5</td>\n",
       "      <td>1985</td>\n",
       "      <td>1</td>\n",
       "      <td>2</td>\n",
       "      <td>3</td>\n",
       "    </tr>\n",
       "    <tr>\n",
       "      <th>...</th>\n",
       "      <td>...</td>\n",
       "      <td>...</td>\n",
       "      <td>...</td>\n",
       "      <td>...</td>\n",
       "      <td>...</td>\n",
       "      <td>...</td>\n",
       "      <td>...</td>\n",
       "      <td>...</td>\n",
       "      <td>...</td>\n",
       "      <td>...</td>\n",
       "      <td>...</td>\n",
       "    </tr>\n",
       "    <tr>\n",
       "      <th>14198</th>\n",
       "      <td>233</td>\n",
       "      <td>10.500000</td>\n",
       "      <td>1</td>\n",
       "      <td>0.013496</td>\n",
       "      <td>13</td>\n",
       "      <td>141.3154</td>\n",
       "      <td>8</td>\n",
       "      <td>1997</td>\n",
       "      <td>2</td>\n",
       "      <td>0</td>\n",
       "      <td>1</td>\n",
       "    </tr>\n",
       "    <tr>\n",
       "      <th>14199</th>\n",
       "      <td>308</td>\n",
       "      <td>7.600000</td>\n",
       "      <td>1</td>\n",
       "      <td>0.142991</td>\n",
       "      <td>15</td>\n",
       "      <td>169.1448</td>\n",
       "      <td>3</td>\n",
       "      <td>2009</td>\n",
       "      <td>1</td>\n",
       "      <td>2</td>\n",
       "      <td>2</td>\n",
       "    </tr>\n",
       "    <tr>\n",
       "      <th>14200</th>\n",
       "      <td>1426</td>\n",
       "      <td>10.000000</td>\n",
       "      <td>0</td>\n",
       "      <td>0.073529</td>\n",
       "      <td>8</td>\n",
       "      <td>118.7440</td>\n",
       "      <td>7</td>\n",
       "      <td>2002</td>\n",
       "      <td>2</td>\n",
       "      <td>1</td>\n",
       "      <td>1</td>\n",
       "    </tr>\n",
       "    <tr>\n",
       "      <th>14201</th>\n",
       "      <td>521</td>\n",
       "      <td>15.300000</td>\n",
       "      <td>1</td>\n",
       "      <td>0.000000</td>\n",
       "      <td>3</td>\n",
       "      <td>214.6218</td>\n",
       "      <td>2</td>\n",
       "      <td>2007</td>\n",
       "      <td>2</td>\n",
       "      <td>1</td>\n",
       "      <td>1</td>\n",
       "    </tr>\n",
       "    <tr>\n",
       "      <th>14202</th>\n",
       "      <td>997</td>\n",
       "      <td>9.500000</td>\n",
       "      <td>1</td>\n",
       "      <td>0.104720</td>\n",
       "      <td>3</td>\n",
       "      <td>79.7960</td>\n",
       "      <td>7</td>\n",
       "      <td>2002</td>\n",
       "      <td>2</td>\n",
       "      <td>1</td>\n",
       "      <td>1</td>\n",
       "    </tr>\n",
       "  </tbody>\n",
       "</table>\n",
       "<p>5681 rows × 11 columns</p>\n",
       "</div>"
      ],
      "text/plain": [
       "       Item_Identifier  Item_Weight  Item_Fat_Content  Item_Visibility  \\\n",
       "8522              1114    20.750000                 0         0.007565   \n",
       "8523              1078     8.300000                 1         0.038428   \n",
       "8524              1420    14.600000                 0         0.099575   \n",
       "8525               817     7.315000                 0         0.015388   \n",
       "8526              1197    12.792684                 1         0.118599   \n",
       "...                ...          ...               ...              ...   \n",
       "14198              233    10.500000                 1         0.013496   \n",
       "14199              308     7.600000                 1         0.142991   \n",
       "14200             1426    10.000000                 0         0.073529   \n",
       "14201              521    15.300000                 1         0.000000   \n",
       "14202              997     9.500000                 1         0.104720   \n",
       "\n",
       "       Item_Type  Item_MRP  Outlet_Identifier  Outlet_Establishment_Year  \\\n",
       "8522          13  107.8622                  9                       1999   \n",
       "8523           4   87.3198                  2                       2007   \n",
       "8524          11  241.7538                  0                       1998   \n",
       "8525          13  155.0340                  2                       2007   \n",
       "8526           4  234.2300                  5                       1985   \n",
       "...          ...       ...                ...                        ...   \n",
       "14198         13  141.3154                  8                       1997   \n",
       "14199         15  169.1448                  3                       2009   \n",
       "14200          8  118.7440                  7                       2002   \n",
       "14201          3  214.6218                  2                       2007   \n",
       "14202          3   79.7960                  7                       2002   \n",
       "\n",
       "       Outlet_Size  Outlet_Location_Type  Outlet_Type  \n",
       "8522             1                     0            1  \n",
       "8523             2                     1            1  \n",
       "8524             2                     2            0  \n",
       "8525             2                     1            1  \n",
       "8526             1                     2            3  \n",
       "...            ...                   ...          ...  \n",
       "14198            2                     0            1  \n",
       "14199            1                     2            2  \n",
       "14200            2                     1            1  \n",
       "14201            2                     1            1  \n",
       "14202            2                     1            1  \n",
       "\n",
       "[5681 rows x 11 columns]"
      ]
     },
     "execution_count": 49,
     "metadata": {},
     "output_type": "execute_result"
    }
   ],
   "source": [
    "processed_test"
   ]
  },
  {
   "cell_type": "code",
   "execution_count": 50,
   "id": "4ec97c78",
   "metadata": {},
   "outputs": [],
   "source": [
    "processed_train['Item_Outlet_Sales'] = target.values"
   ]
  },
  {
   "cell_type": "code",
   "execution_count": 51,
   "id": "4feb67ee",
   "metadata": {},
   "outputs": [
    {
     "data": {
      "application/vnd.microsoft.datawrangler.viewer.v0+json": {
       "columns": [
        {
         "name": "index",
         "rawType": "int64",
         "type": "integer"
        },
        {
         "name": "Item_Identifier",
         "rawType": "int64",
         "type": "integer"
        },
        {
         "name": "Item_Weight",
         "rawType": "float64",
         "type": "float"
        },
        {
         "name": "Item_Fat_Content",
         "rawType": "int64",
         "type": "integer"
        },
        {
         "name": "Item_Visibility",
         "rawType": "float64",
         "type": "float"
        },
        {
         "name": "Item_Type",
         "rawType": "int64",
         "type": "integer"
        },
        {
         "name": "Item_MRP",
         "rawType": "float64",
         "type": "float"
        },
        {
         "name": "Outlet_Identifier",
         "rawType": "int64",
         "type": "integer"
        },
        {
         "name": "Outlet_Establishment_Year",
         "rawType": "int64",
         "type": "integer"
        },
        {
         "name": "Outlet_Size",
         "rawType": "int64",
         "type": "integer"
        },
        {
         "name": "Outlet_Location_Type",
         "rawType": "int64",
         "type": "integer"
        },
        {
         "name": "Outlet_Type",
         "rawType": "int64",
         "type": "integer"
        },
        {
         "name": "Item_Outlet_Sales",
         "rawType": "float64",
         "type": "float"
        }
       ],
       "ref": "4e8a717e-9f59-4179-8997-15bc51eed736",
       "rows": [
        [
         "0",
         "156",
         "9.3",
         "0",
         "0.016047301",
         "4",
         "249.8092",
         "9",
         "1999",
         "1",
         "0",
         "1",
         "3735.138"
        ],
        [
         "1",
         "8",
         "5.92",
         "1",
         "0.019278216",
         "14",
         "48.2692",
         "3",
         "2009",
         "1",
         "2",
         "2",
         "443.4228"
        ],
        [
         "2",
         "662",
         "17.5",
         "0",
         "0.016760075",
         "10",
         "141.618",
         "9",
         "1999",
         "1",
         "0",
         "1",
         "2097.27"
        ],
        [
         "3",
         "1121",
         "19.2",
         "1",
         "0.0",
         "6",
         "182.095",
         "0",
         "1998",
         "2",
         "2",
         "0",
         "732.38"
        ],
        [
         "4",
         "1297",
         "8.93",
         "0",
         "0.0",
         "9",
         "53.8614",
         "1",
         "1987",
         "0",
         "2",
         "1",
         "994.7052"
        ],
        [
         "5",
         "758",
         "10.395",
         "1",
         "0.0",
         "0",
         "51.4008",
         "3",
         "2009",
         "1",
         "2",
         "2",
         "556.6088"
        ],
        [
         "6",
         "696",
         "13.65",
         "1",
         "0.0127410889999999",
         "13",
         "57.6588",
         "1",
         "1987",
         "0",
         "2",
         "1",
         "343.5528"
        ],
        [
         "7",
         "738",
         "12.792683611016662",
         "0",
         "0.127469857",
         "13",
         "107.7622",
         "5",
         "1985",
         "1",
         "2",
         "3",
         "4022.7636"
        ],
        [
         "8",
         "440",
         "16.2",
         "1",
         "0.016687114",
         "5",
         "96.9726",
         "7",
         "2002",
         "2",
         "1",
         "1",
         "1076.5986"
        ],
        [
         "9",
         "990",
         "19.2",
         "1",
         "0.09444959",
         "5",
         "187.8214",
         "2",
         "2007",
         "2",
         "1",
         "1",
         "4710.535"
        ],
        [
         "10",
         "1171",
         "11.8",
         "0",
         "0.0",
         "6",
         "45.5402",
         "9",
         "1999",
         "1",
         "0",
         "1",
         "1516.0266"
        ],
        [
         "11",
         "147",
         "18.5",
         "1",
         "0.045463773",
         "4",
         "144.1102",
         "8",
         "1997",
         "2",
         "0",
         "1",
         "2187.153"
        ],
        [
         "12",
         "1142",
         "15.1",
         "1",
         "0.1000135",
         "6",
         "145.4786",
         "9",
         "1999",
         "1",
         "0",
         "1",
         "1589.2646"
        ],
        [
         "13",
         "904",
         "17.6",
         "1",
         "0.047257328",
         "13",
         "119.6782",
         "8",
         "1997",
         "2",
         "0",
         "1",
         "2145.2076"
        ],
        [
         "14",
         "375",
         "16.35",
         "0",
         "0.0680243",
         "6",
         "196.4426",
         "1",
         "1987",
         "0",
         "2",
         "1",
         "1977.426"
        ],
        [
         "15",
         "767",
         "9.0",
         "1",
         "0.0690889609999999",
         "2",
         "56.3614",
         "8",
         "1997",
         "2",
         "0",
         "1",
         "1547.3192"
        ],
        [
         "16",
         "1280",
         "11.8",
         "0",
         "0.008596051",
         "8",
         "115.3492",
         "3",
         "2009",
         "1",
         "2",
         "2",
         "1621.8888"
        ],
        [
         "17",
         "767",
         "9.0",
         "1",
         "0.0691963759999999",
         "2",
         "54.3614",
         "9",
         "1999",
         "1",
         "0",
         "1",
         "718.3982"
        ],
        [
         "18",
         "79",
         "12.792683611016662",
         "0",
         "0.034237682",
         "7",
         "113.2834",
         "5",
         "1985",
         "1",
         "2",
         "3",
         "2303.668"
        ],
        [
         "19",
         "968",
         "13.35",
         "0",
         "0.10249212",
         "4",
         "230.5352",
         "6",
         "2004",
         "2",
         "1",
         "1",
         "2748.4224"
        ],
        [
         "20",
         "666",
         "18.85",
         "1",
         "0.138190277",
         "13",
         "250.8724",
         "1",
         "1987",
         "0",
         "2",
         "1",
         "3775.086"
        ],
        [
         "21",
         "1076",
         "12.792683611016662",
         "1",
         "0.035399923",
         "0",
         "144.5444",
         "5",
         "1985",
         "1",
         "2",
         "3",
         "4064.0432"
        ],
        [
         "22",
         "1278",
         "14.6",
         "0",
         "0.0256981339999999",
         "9",
         "196.5084",
         "6",
         "2004",
         "2",
         "1",
         "1",
         "1587.2672"
        ],
        [
         "23",
         "259",
         "12.792683611016662",
         "0",
         "0.057556998",
         "0",
         "107.6938",
         "4",
         "1985",
         "2",
         "0",
         "0",
         "214.3876"
        ],
        [
         "24",
         "843",
         "13.85",
         "1",
         "0.025896485",
         "5",
         "165.021",
         "8",
         "1997",
         "2",
         "0",
         "1",
         "4078.025"
        ],
        [
         "25",
         "1294",
         "13.0",
         "0",
         "0.099887103",
         "9",
         "45.906000000000006",
         "2",
         "2007",
         "2",
         "1",
         "1",
         "838.908"
        ],
        [
         "26",
         "1024",
         "7.645",
         "1",
         "0.066693437",
         "13",
         "42.3112",
         "6",
         "2004",
         "2",
         "1",
         "1",
         "1065.28"
        ],
        [
         "27",
         "101",
         "11.65",
         "0",
         "0.0193561319999999",
         "7",
         "39.1164",
         "1",
         "1987",
         "0",
         "2",
         "1",
         "308.9312"
        ],
        [
         "28",
         "350",
         "5.925",
         "1",
         "0.161466534",
         "4",
         "45.5086",
         "0",
         "1998",
         "2",
         "2",
         "0",
         "178.4344"
        ],
        [
         "29",
         "244",
         "12.792683611016662",
         "1",
         "0.072221801",
         "3",
         "43.6454",
         "4",
         "1985",
         "2",
         "0",
         "0",
         "125.8362"
        ],
        [
         "30",
         "1048",
         "19.25",
         "0",
         "0.170348551",
         "4",
         "55.7956",
         "0",
         "1998",
         "2",
         "2",
         "0",
         "163.7868"
        ],
        [
         "31",
         "1480",
         "18.6",
         "0",
         "0.080829372",
         "8",
         "96.4436",
         "3",
         "2009",
         "1",
         "2",
         "2",
         "2741.7644"
        ],
        [
         "32",
         "756",
         "18.7",
         "0",
         "0.0",
         "13",
         "256.6672",
         "3",
         "2009",
         "1",
         "2",
         "2",
         "3068.0064"
        ],
        [
         "33",
         "706",
         "17.85",
         "0",
         "0.0",
         "1",
         "93.1436",
         "7",
         "2002",
         "2",
         "1",
         "1",
         "2174.5028"
        ],
        [
         "34",
         "64",
         "17.5",
         "0",
         "0.097904029",
         "14",
         "174.8738",
         "8",
         "1997",
         "2",
         "0",
         "1",
         "2085.2856"
        ],
        [
         "35",
         "1533",
         "10.0",
         "0",
         "0.0892911369999999",
         "8",
         "146.7102",
         "9",
         "1999",
         "1",
         "0",
         "1",
         "3791.0652"
        ],
        [
         "36",
         "1032",
         "12.792683611016662",
         "1",
         "0.059511812",
         "6",
         "128.0678",
         "5",
         "1985",
         "1",
         "2",
         "3",
         "2797.6916"
        ],
        [
         "37",
         "143",
         "8.85",
         "1",
         "0.113123893",
         "14",
         "122.5388",
         "3",
         "2009",
         "1",
         "2",
         "2",
         "1609.9044"
        ],
        [
         "38",
         "1124",
         "12.792683611016662",
         "1",
         "0.123111453",
         "13",
         "36.9874",
         "5",
         "1985",
         "1",
         "2",
         "3",
         "388.1614"
        ],
        [
         "39",
         "214",
         "12.792683611016662",
         "0",
         "0.0264809539999999",
         "13",
         "87.6198",
         "5",
         "1985",
         "1",
         "2",
         "3",
         "2180.495"
        ],
        [
         "40",
         "968",
         "13.35",
         "0",
         "0.102511504",
         "4",
         "230.6352",
         "8",
         "1997",
         "2",
         "0",
         "1",
         "3435.528"
        ],
        [
         "41",
         "567",
         "9.8",
         "0",
         "0.02681843",
         "10",
         "126.002",
         "1",
         "1987",
         "0",
         "2",
         "1",
         "2150.534"
        ],
        [
         "42",
         "180",
         "13.6",
         "0",
         "0.117818348",
         "13",
         "192.9136",
         "9",
         "1999",
         "1",
         "0",
         "1",
         "2527.3768"
        ],
        [
         "43",
         "236",
         "21.35",
         "0",
         "0.0691028309999999",
         "3",
         "259.9278",
         "3",
         "2009",
         "1",
         "2",
         "2",
         "6768.5228"
        ],
        [
         "44",
         "611",
         "12.15",
         "1",
         "0.042277867",
         "3",
         "126.5046",
         "1",
         "1987",
         "0",
         "2",
         "1",
         "373.5138"
        ],
        [
         "45",
         "641",
         "6.42",
         "0",
         "0.0894989259999999",
         "4",
         "178.1002",
         "0",
         "1998",
         "2",
         "2",
         "0",
         "358.2004"
        ],
        [
         "46",
         "1438",
         "19.6",
         "0",
         "0.0",
         "8",
         "153.3024",
         "7",
         "2002",
         "2",
         "1",
         "1",
         "2428.8384"
        ],
        [
         "47",
         "1057",
         "10.0",
         "0",
         "0.025879577",
         "3",
         "265.2226",
         "7",
         "2002",
         "2",
         "1",
         "1",
         "5815.0972"
        ],
        [
         "48",
         "586",
         "15.85",
         "1",
         "0.121632721",
         "0",
         "60.622",
         "8",
         "1997",
         "2",
         "0",
         "1",
         "2576.646"
        ],
        [
         "49",
         "869",
         "12.792683611016662",
         "1",
         "0.255394896",
         "4",
         "196.8794",
         "4",
         "1985",
         "2",
         "0",
         "0",
         "780.3176"
        ]
       ],
       "shape": {
        "columns": 12,
        "rows": 8522
       }
      },
      "text/html": [
       "<div>\n",
       "<style scoped>\n",
       "    .dataframe tbody tr th:only-of-type {\n",
       "        vertical-align: middle;\n",
       "    }\n",
       "\n",
       "    .dataframe tbody tr th {\n",
       "        vertical-align: top;\n",
       "    }\n",
       "\n",
       "    .dataframe thead th {\n",
       "        text-align: right;\n",
       "    }\n",
       "</style>\n",
       "<table border=\"1\" class=\"dataframe\">\n",
       "  <thead>\n",
       "    <tr style=\"text-align: right;\">\n",
       "      <th></th>\n",
       "      <th>Item_Identifier</th>\n",
       "      <th>Item_Weight</th>\n",
       "      <th>Item_Fat_Content</th>\n",
       "      <th>Item_Visibility</th>\n",
       "      <th>Item_Type</th>\n",
       "      <th>Item_MRP</th>\n",
       "      <th>Outlet_Identifier</th>\n",
       "      <th>Outlet_Establishment_Year</th>\n",
       "      <th>Outlet_Size</th>\n",
       "      <th>Outlet_Location_Type</th>\n",
       "      <th>Outlet_Type</th>\n",
       "      <th>Item_Outlet_Sales</th>\n",
       "    </tr>\n",
       "  </thead>\n",
       "  <tbody>\n",
       "    <tr>\n",
       "      <th>0</th>\n",
       "      <td>156</td>\n",
       "      <td>9.300</td>\n",
       "      <td>0</td>\n",
       "      <td>0.016047</td>\n",
       "      <td>4</td>\n",
       "      <td>249.8092</td>\n",
       "      <td>9</td>\n",
       "      <td>1999</td>\n",
       "      <td>1</td>\n",
       "      <td>0</td>\n",
       "      <td>1</td>\n",
       "      <td>3735.1380</td>\n",
       "    </tr>\n",
       "    <tr>\n",
       "      <th>1</th>\n",
       "      <td>8</td>\n",
       "      <td>5.920</td>\n",
       "      <td>1</td>\n",
       "      <td>0.019278</td>\n",
       "      <td>14</td>\n",
       "      <td>48.2692</td>\n",
       "      <td>3</td>\n",
       "      <td>2009</td>\n",
       "      <td>1</td>\n",
       "      <td>2</td>\n",
       "      <td>2</td>\n",
       "      <td>443.4228</td>\n",
       "    </tr>\n",
       "    <tr>\n",
       "      <th>2</th>\n",
       "      <td>662</td>\n",
       "      <td>17.500</td>\n",
       "      <td>0</td>\n",
       "      <td>0.016760</td>\n",
       "      <td>10</td>\n",
       "      <td>141.6180</td>\n",
       "      <td>9</td>\n",
       "      <td>1999</td>\n",
       "      <td>1</td>\n",
       "      <td>0</td>\n",
       "      <td>1</td>\n",
       "      <td>2097.2700</td>\n",
       "    </tr>\n",
       "    <tr>\n",
       "      <th>3</th>\n",
       "      <td>1121</td>\n",
       "      <td>19.200</td>\n",
       "      <td>1</td>\n",
       "      <td>0.000000</td>\n",
       "      <td>6</td>\n",
       "      <td>182.0950</td>\n",
       "      <td>0</td>\n",
       "      <td>1998</td>\n",
       "      <td>2</td>\n",
       "      <td>2</td>\n",
       "      <td>0</td>\n",
       "      <td>732.3800</td>\n",
       "    </tr>\n",
       "    <tr>\n",
       "      <th>4</th>\n",
       "      <td>1297</td>\n",
       "      <td>8.930</td>\n",
       "      <td>0</td>\n",
       "      <td>0.000000</td>\n",
       "      <td>9</td>\n",
       "      <td>53.8614</td>\n",
       "      <td>1</td>\n",
       "      <td>1987</td>\n",
       "      <td>0</td>\n",
       "      <td>2</td>\n",
       "      <td>1</td>\n",
       "      <td>994.7052</td>\n",
       "    </tr>\n",
       "    <tr>\n",
       "      <th>...</th>\n",
       "      <td>...</td>\n",
       "      <td>...</td>\n",
       "      <td>...</td>\n",
       "      <td>...</td>\n",
       "      <td>...</td>\n",
       "      <td>...</td>\n",
       "      <td>...</td>\n",
       "      <td>...</td>\n",
       "      <td>...</td>\n",
       "      <td>...</td>\n",
       "      <td>...</td>\n",
       "      <td>...</td>\n",
       "    </tr>\n",
       "    <tr>\n",
       "      <th>8517</th>\n",
       "      <td>389</td>\n",
       "      <td>20.750</td>\n",
       "      <td>1</td>\n",
       "      <td>0.083607</td>\n",
       "      <td>5</td>\n",
       "      <td>178.8318</td>\n",
       "      <td>8</td>\n",
       "      <td>1997</td>\n",
       "      <td>2</td>\n",
       "      <td>0</td>\n",
       "      <td>1</td>\n",
       "      <td>3608.6360</td>\n",
       "    </tr>\n",
       "    <tr>\n",
       "      <th>8518</th>\n",
       "      <td>370</td>\n",
       "      <td>6.865</td>\n",
       "      <td>0</td>\n",
       "      <td>0.056783</td>\n",
       "      <td>13</td>\n",
       "      <td>214.5218</td>\n",
       "      <td>1</td>\n",
       "      <td>1987</td>\n",
       "      <td>0</td>\n",
       "      <td>2</td>\n",
       "      <td>1</td>\n",
       "      <td>2778.3834</td>\n",
       "    </tr>\n",
       "    <tr>\n",
       "      <th>8519</th>\n",
       "      <td>897</td>\n",
       "      <td>8.380</td>\n",
       "      <td>1</td>\n",
       "      <td>0.046982</td>\n",
       "      <td>0</td>\n",
       "      <td>108.1570</td>\n",
       "      <td>7</td>\n",
       "      <td>2002</td>\n",
       "      <td>2</td>\n",
       "      <td>1</td>\n",
       "      <td>1</td>\n",
       "      <td>549.2850</td>\n",
       "    </tr>\n",
       "    <tr>\n",
       "      <th>8520</th>\n",
       "      <td>1357</td>\n",
       "      <td>10.600</td>\n",
       "      <td>0</td>\n",
       "      <td>0.035186</td>\n",
       "      <td>8</td>\n",
       "      <td>85.1224</td>\n",
       "      <td>6</td>\n",
       "      <td>2004</td>\n",
       "      <td>2</td>\n",
       "      <td>1</td>\n",
       "      <td>1</td>\n",
       "      <td>1193.1136</td>\n",
       "    </tr>\n",
       "    <tr>\n",
       "      <th>8521</th>\n",
       "      <td>681</td>\n",
       "      <td>7.210</td>\n",
       "      <td>1</td>\n",
       "      <td>0.145221</td>\n",
       "      <td>13</td>\n",
       "      <td>103.1332</td>\n",
       "      <td>3</td>\n",
       "      <td>2009</td>\n",
       "      <td>1</td>\n",
       "      <td>2</td>\n",
       "      <td>2</td>\n",
       "      <td>1845.5976</td>\n",
       "    </tr>\n",
       "  </tbody>\n",
       "</table>\n",
       "<p>8522 rows × 12 columns</p>\n",
       "</div>"
      ],
      "text/plain": [
       "      Item_Identifier  Item_Weight  Item_Fat_Content  Item_Visibility  \\\n",
       "0                 156        9.300                 0         0.016047   \n",
       "1                   8        5.920                 1         0.019278   \n",
       "2                 662       17.500                 0         0.016760   \n",
       "3                1121       19.200                 1         0.000000   \n",
       "4                1297        8.930                 0         0.000000   \n",
       "...               ...          ...               ...              ...   \n",
       "8517              389       20.750                 1         0.083607   \n",
       "8518              370        6.865                 0         0.056783   \n",
       "8519              897        8.380                 1         0.046982   \n",
       "8520             1357       10.600                 0         0.035186   \n",
       "8521              681        7.210                 1         0.145221   \n",
       "\n",
       "      Item_Type  Item_MRP  Outlet_Identifier  Outlet_Establishment_Year  \\\n",
       "0             4  249.8092                  9                       1999   \n",
       "1            14   48.2692                  3                       2009   \n",
       "2            10  141.6180                  9                       1999   \n",
       "3             6  182.0950                  0                       1998   \n",
       "4             9   53.8614                  1                       1987   \n",
       "...         ...       ...                ...                        ...   \n",
       "8517          5  178.8318                  8                       1997   \n",
       "8518         13  214.5218                  1                       1987   \n",
       "8519          0  108.1570                  7                       2002   \n",
       "8520          8   85.1224                  6                       2004   \n",
       "8521         13  103.1332                  3                       2009   \n",
       "\n",
       "      Outlet_Size  Outlet_Location_Type  Outlet_Type  Item_Outlet_Sales  \n",
       "0               1                     0            1          3735.1380  \n",
       "1               1                     2            2           443.4228  \n",
       "2               1                     0            1          2097.2700  \n",
       "3               2                     2            0           732.3800  \n",
       "4               0                     2            1           994.7052  \n",
       "...           ...                   ...          ...                ...  \n",
       "8517            2                     0            1          3608.6360  \n",
       "8518            0                     2            1          2778.3834  \n",
       "8519            2                     1            1           549.2850  \n",
       "8520            2                     1            1          1193.1136  \n",
       "8521            1                     2            2          1845.5976  \n",
       "\n",
       "[8522 rows x 12 columns]"
      ]
     },
     "execution_count": 51,
     "metadata": {},
     "output_type": "execute_result"
    }
   ],
   "source": [
    "processed_train"
   ]
  },
  {
   "cell_type": "code",
   "execution_count": 52,
   "id": "949b8000",
   "metadata": {},
   "outputs": [],
   "source": [
    "processed_train.drop(columns='Item_Identifier', inplace=True)"
   ]
  },
  {
   "cell_type": "markdown",
   "id": "aa6aabac",
   "metadata": {},
   "source": [
    "## Splitting the Dataset into Training and Testing Sets"
   ]
  },
  {
   "cell_type": "code",
   "execution_count": 53,
   "id": "5515f7ff",
   "metadata": {},
   "outputs": [],
   "source": [
    "X = processed_train.drop(columns = 'Item_Outlet_Sales',axis=1)\n",
    "y = processed_train['Item_Outlet_Sales']"
   ]
  },
  {
   "cell_type": "code",
   "execution_count": 54,
   "id": "1785de9a",
   "metadata": {},
   "outputs": [],
   "source": [
    "X_train , X_test , y_train , y_test = train_test_split(X , y , test_size=0.2 , random_state=42)"
   ]
  },
  {
   "cell_type": "markdown",
   "id": "a87c2f17",
   "metadata": {},
   "source": [
    "## Model Training & Evaluation"
   ]
  },
  {
   "cell_type": "code",
   "execution_count": 55,
   "id": "54846c67",
   "metadata": {},
   "outputs": [],
   "source": [
    "results = {}\n",
    "\n",
    "def evaluate_model(model, name):\n",
    "    model.fit(X_train, y_train)\n",
    "    preds = model.predict(X_test)\n",
    "    r2 = r2_score(y_test, preds)\n",
    "    rmse = np.sqrt(mean_squared_error(y_test, preds))\n",
    "    mae = mean_absolute_error(y_test, preds)\n",
    "    print(f\"{name} -> R2: {r2:.4f}, RMSE: {rmse:.2f}, MAE: {mae:.2f}\")\n",
    "    results[name] = {\"R2\": r2, \"RMSE\": rmse, \"MAE\": mae}\n",
    "    return r2"
   ]
  },
  {
   "cell_type": "code",
   "execution_count": 56,
   "id": "6bbb83f5",
   "metadata": {},
   "outputs": [],
   "source": [
    "models = [\n",
    "    (LinearRegression(), \"Linear Regression\"),\n",
    "    (Ridge(alpha=1.0), \"Ridge Regression\"),\n",
    "    (Lasso(alpha=0.01), \"Lasso Regression\"),\n",
    "    (RandomForestRegressor(n_estimators=100, max_depth=10, random_state=42), \"Random Forest\"),\n",
    "    (GradientBoostingRegressor(n_estimators=100, learning_rate=0.1, max_depth=3, random_state=42), \"Gradient Boosting\"),\n",
    "    (AdaBoostRegressor(n_estimators=100, learning_rate=0.1, random_state=42), \"AdaBoost\"),\n",
    "    (ExtraTreesRegressor(n_estimators=100, max_depth=10, random_state=42), \"Extra Trees\"),\n",
    "    (BaggingRegressor(n_estimators=100, random_state=42), \"Bagging Regressor\"),\n",
    "    (XGBRegressor(n_estimators=100, learning_rate=0.1, max_depth=3, random_state=42), \"XGBoost\"),\n",
    "    (KNeighborsRegressor(n_neighbors=5), \"KNN Regressor\"),\n",
    "    (SVR(C=100, kernel='rbf'), \"Support Vector Regressor\"),\n",
    "    (CatBoostRegressor(verbose=0, learning_rate=0.1, depth=6), \"CatBoost Regressor\"),\n",
    "    (LGBMRegressor(n_estimators=100, learning_rate=0.1, max_depth=6, random_state=42), \"LightGBM Regressor\"),\n",
    "    (XGBRegressor(n_estimators=200,learning_rate=0.05,max_depth=5,subsample=0.8,colsample_bytree=0.8,reg_alpha=0.5,reg_lambda=1,random_state=42,verbosity=0), \"XGBoost Regressor\")\n",
    "]"
   ]
  },
  {
   "cell_type": "code",
   "execution_count": 57,
   "id": "5d64be5f",
   "metadata": {},
   "outputs": [
    {
     "name": "stdout",
     "output_type": "stream",
     "text": [
      "Linear Regression -> R2: 0.4987, RMSE: 1203.92, MAE: 895.08\n",
      "Ridge Regression -> R2: 0.4986, RMSE: 1203.98, MAE: 895.07\n",
      "Lasso Regression -> R2: 0.4987, RMSE: 1203.92, MAE: 895.08\n",
      "Random Forest -> R2: 0.5905, RMSE: 1088.12, MAE: 753.28\n",
      "Gradient Boosting -> R2: 0.5976, RMSE: 1078.68, MAE: 747.30\n",
      "AdaBoost -> R2: 0.5671, RMSE: 1118.72, MAE: 828.67\n",
      "Extra Trees -> R2: 0.5999, RMSE: 1075.49, MAE: 740.70\n",
      "Bagging Regressor -> R2: 0.5606, RMSE: 1127.14, MAE: 786.48\n",
      "XGBoost -> R2: 0.6008, RMSE: 1074.36, MAE: 742.51\n",
      "KNN Regressor -> R2: 0.5131, RMSE: 1186.53, MAE: 833.42\n",
      "Support Vector Regressor -> R2: 0.2155, RMSE: 1506.03, MAE: 1088.17\n",
      "CatBoost Regressor -> R2: 0.5522, RMSE: 1137.93, MAE: 783.84\n",
      "[LightGBM] [Info] Auto-choosing row-wise multi-threading, the overhead of testing was 0.001000 seconds.\n",
      "You can set `force_row_wise=true` to remove the overhead.\n",
      "And if memory is not enough, you can set `force_col_wise=true`.\n",
      "[LightGBM] [Info] Total Bins 787\n",
      "[LightGBM] [Info] Number of data points in the train set: 6817, number of used features: 10\n",
      "[LightGBM] [Info] Start training from score 2191.042906\n",
      "[LightGBM] [Warning] No further splits with positive gain, best gain: -inf\n",
      "[LightGBM] [Warning] No further splits with positive gain, best gain: -inf\n",
      "[LightGBM] [Warning] No further splits with positive gain, best gain: -inf\n",
      "[LightGBM] [Warning] No further splits with positive gain, best gain: -inf\n",
      "[LightGBM] [Warning] No further splits with positive gain, best gain: -inf\n",
      "[LightGBM] [Warning] No further splits with positive gain, best gain: -inf\n",
      "[LightGBM] [Warning] No further splits with positive gain, best gain: -inf\n",
      "[LightGBM] [Warning] No further splits with positive gain, best gain: -inf\n",
      "[LightGBM] [Warning] No further splits with positive gain, best gain: -inf\n",
      "[LightGBM] [Warning] No further splits with positive gain, best gain: -inf\n",
      "[LightGBM] [Warning] No further splits with positive gain, best gain: -inf\n",
      "[LightGBM] [Warning] No further splits with positive gain, best gain: -inf\n",
      "[LightGBM] [Warning] No further splits with positive gain, best gain: -inf\n",
      "[LightGBM] [Warning] No further splits with positive gain, best gain: -inf\n",
      "[LightGBM] [Warning] No further splits with positive gain, best gain: -inf\n",
      "[LightGBM] [Warning] No further splits with positive gain, best gain: -inf\n",
      "[LightGBM] [Warning] No further splits with positive gain, best gain: -inf\n",
      "[LightGBM] [Warning] No further splits with positive gain, best gain: -inf\n",
      "[LightGBM] [Warning] No further splits with positive gain, best gain: -inf\n",
      "[LightGBM] [Warning] No further splits with positive gain, best gain: -inf\n",
      "[LightGBM] [Warning] No further splits with positive gain, best gain: -inf\n",
      "[LightGBM] [Warning] No further splits with positive gain, best gain: -inf\n",
      "[LightGBM] [Warning] No further splits with positive gain, best gain: -inf\n",
      "[LightGBM] [Warning] No further splits with positive gain, best gain: -inf\n",
      "[LightGBM] [Warning] No further splits with positive gain, best gain: -inf\n",
      "[LightGBM] [Warning] No further splits with positive gain, best gain: -inf\n",
      "[LightGBM] [Warning] No further splits with positive gain, best gain: -inf\n",
      "[LightGBM] [Warning] No further splits with positive gain, best gain: -inf\n",
      "[LightGBM] [Warning] No further splits with positive gain, best gain: -inf\n",
      "[LightGBM] [Warning] No further splits with positive gain, best gain: -inf\n",
      "[LightGBM] [Warning] No further splits with positive gain, best gain: -inf\n",
      "[LightGBM] [Warning] No further splits with positive gain, best gain: -inf\n",
      "[LightGBM] [Warning] No further splits with positive gain, best gain: -inf\n",
      "[LightGBM] [Warning] No further splits with positive gain, best gain: -inf\n",
      "[LightGBM] [Warning] No further splits with positive gain, best gain: -inf\n",
      "[LightGBM] [Warning] No further splits with positive gain, best gain: -inf\n",
      "[LightGBM] [Warning] No further splits with positive gain, best gain: -inf\n",
      "[LightGBM] [Warning] No further splits with positive gain, best gain: -inf\n",
      "[LightGBM] [Warning] No further splits with positive gain, best gain: -inf\n",
      "[LightGBM] [Warning] No further splits with positive gain, best gain: -inf\n",
      "[LightGBM] [Warning] No further splits with positive gain, best gain: -inf\n",
      "[LightGBM] [Warning] No further splits with positive gain, best gain: -inf\n",
      "[LightGBM] [Warning] No further splits with positive gain, best gain: -inf\n",
      "[LightGBM] [Warning] No further splits with positive gain, best gain: -inf\n",
      "LightGBM Regressor -> R2: 0.5832, RMSE: 1097.75, MAE: 758.12\n",
      "XGBoost Regressor -> R2: 0.5912, RMSE: 1087.17, MAE: 751.65\n"
     ]
    }
   ],
   "source": [
    "for model, name in models:\n",
    "    evaluate_model(model, name)"
   ]
  },
  {
   "cell_type": "code",
   "execution_count": 58,
   "id": "6c93cbac",
   "metadata": {},
   "outputs": [
    {
     "data": {
      "application/vnd.microsoft.datawrangler.viewer.v0+json": {
       "columns": [
        {
         "name": "index",
         "rawType": "object",
         "type": "string"
        },
        {
         "name": "R2",
         "rawType": "float64",
         "type": "float"
        },
        {
         "name": "RMSE",
         "rawType": "float64",
         "type": "float"
        },
        {
         "name": "MAE",
         "rawType": "float64",
         "type": "float"
        }
       ],
       "ref": "20cf66f5-f7db-42f6-8e3b-1ff3082efb68",
       "rows": [
        [
         "XGBoost",
         "0.6007867078829261",
         "1074.3631596711762",
         "742.5134172467668"
        ],
        [
         "Extra Trees",
         "0.599948044539867",
         "1075.4910733643567",
         "740.6959515962777"
        ],
        [
         "Gradient Boosting",
         "0.5975700647568113",
         "1078.6827922095492",
         "747.2964922116067"
        ],
        [
         "XGBoost Regressor",
         "0.5912093163983956",
         "1087.174121350209",
         "751.653429596741"
        ],
        [
         "Random Forest",
         "0.5904989209909178",
         "1088.118355514147",
         "753.2847168001847"
        ],
        [
         "LightGBM Regressor",
         "0.5832187407486451",
         "1097.7481213045867",
         "758.1206487801726"
        ],
        [
         "AdaBoost",
         "0.5671437373769133",
         "1118.7175828837335",
         "828.6701396158205"
        ],
        [
         "Bagging Regressor",
         "0.5606045457523483",
         "1127.1361816675048",
         "786.4783391671556"
        ],
        [
         "CatBoost Regressor",
         "0.5521524912592647",
         "1137.9251407675613",
         "783.8374393918712"
        ],
        [
         "KNN Regressor",
         "0.5130792590493136",
         "1186.5273364133582",
         "833.4236042932552"
        ],
        [
         "Linear Regression",
         "0.49869801648001566",
         "1203.9219227261724",
         "895.0802583200411"
        ],
        [
         "Lasso Regression",
         "0.49869687348303937",
         "1203.9232952305492",
         "895.078165658551"
        ],
        [
         "Ridge Regression",
         "0.49864960834519745",
         "1203.980049573651",
         "895.0669365390967"
        ],
        [
         "Support Vector Regressor",
         "0.21554608881110182",
         "1506.0255077117022",
         "1088.1725025234596"
        ]
       ],
       "shape": {
        "columns": 3,
        "rows": 14
       }
      },
      "text/html": [
       "<div>\n",
       "<style scoped>\n",
       "    .dataframe tbody tr th:only-of-type {\n",
       "        vertical-align: middle;\n",
       "    }\n",
       "\n",
       "    .dataframe tbody tr th {\n",
       "        vertical-align: top;\n",
       "    }\n",
       "\n",
       "    .dataframe thead th {\n",
       "        text-align: right;\n",
       "    }\n",
       "</style>\n",
       "<table border=\"1\" class=\"dataframe\">\n",
       "  <thead>\n",
       "    <tr style=\"text-align: right;\">\n",
       "      <th></th>\n",
       "      <th>R2</th>\n",
       "      <th>RMSE</th>\n",
       "      <th>MAE</th>\n",
       "    </tr>\n",
       "  </thead>\n",
       "  <tbody>\n",
       "    <tr>\n",
       "      <th>XGBoost</th>\n",
       "      <td>0.600787</td>\n",
       "      <td>1074.363160</td>\n",
       "      <td>742.513417</td>\n",
       "    </tr>\n",
       "    <tr>\n",
       "      <th>Extra Trees</th>\n",
       "      <td>0.599948</td>\n",
       "      <td>1075.491073</td>\n",
       "      <td>740.695952</td>\n",
       "    </tr>\n",
       "    <tr>\n",
       "      <th>Gradient Boosting</th>\n",
       "      <td>0.597570</td>\n",
       "      <td>1078.682792</td>\n",
       "      <td>747.296492</td>\n",
       "    </tr>\n",
       "    <tr>\n",
       "      <th>XGBoost Regressor</th>\n",
       "      <td>0.591209</td>\n",
       "      <td>1087.174121</td>\n",
       "      <td>751.653430</td>\n",
       "    </tr>\n",
       "    <tr>\n",
       "      <th>Random Forest</th>\n",
       "      <td>0.590499</td>\n",
       "      <td>1088.118356</td>\n",
       "      <td>753.284717</td>\n",
       "    </tr>\n",
       "    <tr>\n",
       "      <th>LightGBM Regressor</th>\n",
       "      <td>0.583219</td>\n",
       "      <td>1097.748121</td>\n",
       "      <td>758.120649</td>\n",
       "    </tr>\n",
       "    <tr>\n",
       "      <th>AdaBoost</th>\n",
       "      <td>0.567144</td>\n",
       "      <td>1118.717583</td>\n",
       "      <td>828.670140</td>\n",
       "    </tr>\n",
       "    <tr>\n",
       "      <th>Bagging Regressor</th>\n",
       "      <td>0.560605</td>\n",
       "      <td>1127.136182</td>\n",
       "      <td>786.478339</td>\n",
       "    </tr>\n",
       "    <tr>\n",
       "      <th>CatBoost Regressor</th>\n",
       "      <td>0.552152</td>\n",
       "      <td>1137.925141</td>\n",
       "      <td>783.837439</td>\n",
       "    </tr>\n",
       "    <tr>\n",
       "      <th>KNN Regressor</th>\n",
       "      <td>0.513079</td>\n",
       "      <td>1186.527336</td>\n",
       "      <td>833.423604</td>\n",
       "    </tr>\n",
       "    <tr>\n",
       "      <th>Linear Regression</th>\n",
       "      <td>0.498698</td>\n",
       "      <td>1203.921923</td>\n",
       "      <td>895.080258</td>\n",
       "    </tr>\n",
       "    <tr>\n",
       "      <th>Lasso Regression</th>\n",
       "      <td>0.498697</td>\n",
       "      <td>1203.923295</td>\n",
       "      <td>895.078166</td>\n",
       "    </tr>\n",
       "    <tr>\n",
       "      <th>Ridge Regression</th>\n",
       "      <td>0.498650</td>\n",
       "      <td>1203.980050</td>\n",
       "      <td>895.066937</td>\n",
       "    </tr>\n",
       "    <tr>\n",
       "      <th>Support Vector Regressor</th>\n",
       "      <td>0.215546</td>\n",
       "      <td>1506.025508</td>\n",
       "      <td>1088.172503</td>\n",
       "    </tr>\n",
       "  </tbody>\n",
       "</table>\n",
       "</div>"
      ],
      "text/plain": [
       "                                R2         RMSE          MAE\n",
       "XGBoost                   0.600787  1074.363160   742.513417\n",
       "Extra Trees               0.599948  1075.491073   740.695952\n",
       "Gradient Boosting         0.597570  1078.682792   747.296492\n",
       "XGBoost Regressor         0.591209  1087.174121   751.653430\n",
       "Random Forest             0.590499  1088.118356   753.284717\n",
       "LightGBM Regressor        0.583219  1097.748121   758.120649\n",
       "AdaBoost                  0.567144  1118.717583   828.670140\n",
       "Bagging Regressor         0.560605  1127.136182   786.478339\n",
       "CatBoost Regressor        0.552152  1137.925141   783.837439\n",
       "KNN Regressor             0.513079  1186.527336   833.423604\n",
       "Linear Regression         0.498698  1203.921923   895.080258\n",
       "Lasso Regression          0.498697  1203.923295   895.078166\n",
       "Ridge Regression          0.498650  1203.980050   895.066937\n",
       "Support Vector Regressor  0.215546  1506.025508  1088.172503"
      ]
     },
     "execution_count": 58,
     "metadata": {},
     "output_type": "execute_result"
    }
   ],
   "source": [
    "results_df = pd.DataFrame(results).T.sort_values(by=\"R2\", ascending=False)\n",
    "results_df"
   ]
  },
  {
   "cell_type": "markdown",
   "id": "183c8e21",
   "metadata": {},
   "source": [
    "## Hyper-Parameter Tuning"
   ]
  },
  {
   "cell_type": "code",
   "execution_count": 59,
   "id": "0e11c5f6",
   "metadata": {},
   "outputs": [
    {
     "name": "stdout",
     "output_type": "stream",
     "text": [
      "Fitting 3 folds for each of 30 candidates, totalling 90 fits\n",
      "Best XGBoost Params: {'subsample': 0.8, 'reg_lambda': 0.5, 'reg_alpha': 0, 'n_estimators': 100, 'max_depth': 3, 'learning_rate': 0.05, 'colsample_bytree': 0.8}\n",
      "Best R² Score: 0.5963134656556476\n"
     ]
    }
   ],
   "source": [
    "xgb = XGBRegressor(random_state=42)\n",
    "\n",
    "xgb_params = {\n",
    "    'n_estimators': [100, 200, 300],\n",
    "    'max_depth': [3, 5, 7],\n",
    "    'learning_rate': [0.01, 0.05, 0.1],\n",
    "    'subsample': [0.6, 0.8, 1.0],\n",
    "    'colsample_bytree': [0.6, 0.8, 1.0],\n",
    "    'reg_alpha': [0, 0.1, 0.5],\n",
    "    'reg_lambda': [0.5, 1, 1.5]\n",
    "}\n",
    "\n",
    "xgb_search = RandomizedSearchCV(xgb, param_distributions=xgb_params,n_iter=30, scoring='r2',cv=3, verbose=1, n_jobs=-1)\n",
    "xgb_search.fit(X_train, y_train)\n",
    "\n",
    "print(\"Best XGBoost Params:\", xgb_search.best_params_)\n",
    "print(\"Best R² Score:\", xgb_search.best_score_)"
   ]
  },
  {
   "cell_type": "code",
   "execution_count": 60,
   "id": "5f917afe",
   "metadata": {},
   "outputs": [
    {
     "name": "stdout",
     "output_type": "stream",
     "text": [
      "Fitting 3 folds for each of 30 candidates, totalling 90 fits\n",
      "Best Extra Trees Params: {'n_estimators': 200, 'min_samples_split': 10, 'min_samples_leaf': 2, 'max_features': 'sqrt', 'max_depth': None}\n",
      "Best R² Score: 0.5833209137201096\n"
     ]
    }
   ],
   "source": [
    "et = ExtraTreesRegressor(random_state=42)\n",
    "\n",
    "et_params = {\n",
    "    'n_estimators': [100, 200, 300],\n",
    "    'max_depth': [None, 10, 20, 30],\n",
    "    'min_samples_split': [2, 5, 10],\n",
    "    'min_samples_leaf': [1, 2, 4],\n",
    "    'max_features': ['auto', 'sqrt', 'log2']\n",
    "}\n",
    "\n",
    "et_search = RandomizedSearchCV(et, param_distributions=et_params,n_iter=30, scoring='r2',cv=3, verbose=1, n_jobs=-1)\n",
    "et_search.fit(X_train, y_train)\n",
    "\n",
    "print(\"Best Extra Trees Params:\", et_search.best_params_)\n",
    "print(\"Best R² Score:\", et_search.best_score_)"
   ]
  },
  {
   "cell_type": "code",
   "execution_count": 61,
   "id": "19c3c987",
   "metadata": {},
   "outputs": [
    {
     "name": "stdout",
     "output_type": "stream",
     "text": [
      "Fitting 3 folds for each of 30 candidates, totalling 90 fits\n",
      "Best Gradient Boosting Params: {'n_estimators': 100, 'min_samples_split': 2, 'min_samples_leaf': 1, 'max_depth': 3, 'learning_rate': 0.05}\n",
      "Best R² Score: 0.5973025583432244\n"
     ]
    }
   ],
   "source": [
    "gbr = GradientBoostingRegressor(random_state=42)\n",
    "\n",
    "gbr_params = {\n",
    "    'n_estimators': [100, 200, 300],\n",
    "    'learning_rate': [0.01, 0.05, 0.1],\n",
    "    'max_depth': [3, 5, 7],\n",
    "    'min_samples_split': [2, 5, 10],\n",
    "    'min_samples_leaf': [1, 2, 4]\n",
    "}\n",
    "\n",
    "gbr_search = RandomizedSearchCV(gbr, param_distributions=gbr_params,n_iter=30, scoring='r2',cv=3, verbose=1, n_jobs=-1)\n",
    "gbr_search.fit(X_train, y_train)\n",
    "\n",
    "print(\"Best Gradient Boosting Params:\", gbr_search.best_params_)\n",
    "print(\"Best R² Score:\", gbr_search.best_score_)"
   ]
  },
  {
   "cell_type": "code",
   "execution_count": 62,
   "id": "14528b70",
   "metadata": {},
   "outputs": [
    {
     "name": "stdout",
     "output_type": "stream",
     "text": [
      "XGBoost Tuned -> R2: 0.6042, RMSE: 1069.72, MAE: 745.62\n",
      "Extra Trees Tuned -> R2: 0.6008, RMSE: 1074.37, MAE: 750.50\n",
      "Gradient Boosting Tuned -> R2: 0.6028, RMSE: 1071.60, MAE: 744.36\n"
     ]
    },
    {
     "data": {
      "text/plain": [
       "0.6028360823512388"
      ]
     },
     "execution_count": 62,
     "metadata": {},
     "output_type": "execute_result"
    }
   ],
   "source": [
    "evaluate_model(xgb_search.best_estimator_, \"XGBoost Tuned\")\n",
    "evaluate_model(et_search.best_estimator_, \"Extra Trees Tuned\")\n",
    "evaluate_model(gbr_search.best_estimator_, \"Gradient Boosting Tuned\")"
   ]
  },
  {
   "cell_type": "markdown",
   "id": "e5896f23",
   "metadata": {},
   "source": [
    "## Voting Regressor"
   ]
  },
  {
   "cell_type": "code",
   "execution_count": 63,
   "id": "f6c6d527",
   "metadata": {},
   "outputs": [
    {
     "name": "stdout",
     "output_type": "stream",
     "text": [
      "Voting Regressor -> R2: 0.6064, RMSE: 1066.79, MAE: 742.48\n"
     ]
    },
    {
     "data": {
      "text/plain": [
       "0.6063983979328902"
      ]
     },
     "execution_count": 63,
     "metadata": {},
     "output_type": "execute_result"
    }
   ],
   "source": [
    "best_xgb = xgb_search.best_estimator_\n",
    "best_gbr = gbr_search.best_estimator_\n",
    "best_et = et_search.best_estimator_\n",
    "\n",
    "voting_reg = VotingRegressor(\n",
    "    estimators=[\n",
    "        ('xgb', best_xgb),\n",
    "        ('gbr', best_gbr),\n",
    "        ('et', best_et)\n",
    "    ],\n",
    "    weights=[0.3, 0.4, 0.3]\n",
    ")\n",
    "\n",
    "voting_reg.fit(X_train, y_train)\n",
    "\n",
    "evaluate_model(voting_reg, \"Voting Regressor\")"
   ]
  },
  {
   "cell_type": "markdown",
   "id": "657a445a",
   "metadata": {},
   "source": [
    "## Model Comparison"
   ]
  },
  {
   "cell_type": "code",
   "execution_count": 64,
   "id": "bdbaf5ca",
   "metadata": {},
   "outputs": [
    {
     "data": {
      "image/png": "[encoded data removed]",
      "text/plain": [
       "<Figure size 800x500 with 1 Axes>"
      ]
     },
     "metadata": {},
     "output_type": "display_data"
    }
   ],
   "source": [
    "model_scores = {\n",
    "    \"Gradient Boosting\": 0.6035,\n",
    "    \"XGBoost\": 0.6022,\n",
    "    \"Extra Trees\": 0.6009,\n",
    "    \"Voting Regressor\": 0.6066\n",
    "}\n",
    "\n",
    "plt.figure(figsize=(8, 5))\n",
    "plt.barh(list(model_scores.keys()), list(model_scores.values()), color='skyblue')\n",
    "plt.xlabel(\"R² Score\")\n",
    "plt.title(\"Model Comparison\")\n",
    "plt.xlim(0.5, 0.62)\n",
    "plt.grid(True)\n",
    "plt.show()"
   ]
  },
  {
   "cell_type": "markdown",
   "id": "652b5997",
   "metadata": {},
   "source": [
    "## Saving the Model and Encoder as Binary Files"
   ]
  },
  {
   "cell_type": "code",
   "execution_count": 65,
   "id": "e19224b2",
   "metadata": {},
   "outputs": [
    {
     "data": {
      "text/plain": [
       "['voting_model.pkl']"
      ]
     },
     "execution_count": 65,
     "metadata": {},
     "output_type": "execute_result"
    }
   ],
   "source": [
    "joblib.dump(voting_reg, \"voting_model.pkl\")"
   ]
  },
  {
   "cell_type": "code",
   "execution_count": 66,
   "id": "516cecaf",
   "metadata": {},
   "outputs": [
    {
     "data": {
      "text/plain": [
       "['Encoder.pkl']"
      ]
     },
     "execution_count": 66,
     "metadata": {},
     "output_type": "execute_result"
    }
   ],
   "source": [
    "joblib.dump(encoder,\"Encoder.pkl\")"
   ]
  },
  {
   "cell_type": "markdown",
   "id": "64eae099",
   "metadata": {},
   "source": [
    "## Author : Anshuman Dash"
   ]
  }
 ],
 "metadata": {
  "kernelspec": {
   "display_name": "env2",
   "language": "python",
   "name": "python3"
  },
  "language_info": {
   "codemirror_mode": {
    "name": "ipython",
    "version": 3
   },
   "file_extension": ".py",
   "mimetype": "text/x-python",
   "name": "python",
   "nbconvert_exporter": "python",
   "pygments_lexer": "ipython3",
   "version": "3.12.9"
  }
 },
 "nbformat": 4,
 "nbformat_minor": 5
}
